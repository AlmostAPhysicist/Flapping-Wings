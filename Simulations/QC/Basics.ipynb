{
 "cells": [
  {
   "cell_type": "code",
   "execution_count": 425,
   "id": "b5fc509f",
   "metadata": {},
   "outputs": [
    {
     "name": "stdout",
     "output_type": "stream",
     "text": [
      "Loading packages...\n",
      "Packages loaded successfully.\n",
      "Custom modules loaded successfully.\n"
     ]
    }
   ],
   "source": [
    "begin # Import necessary packages\n",
    "    println(\"Loading packages...\")\n",
    "    using GLMakie, GeometryBasics, LinearAlgebra, Quaternions, FileIO\n",
    "    import Quaternions: Quaternion as Quaternion\n",
    "    println(\"Packages loaded successfully.\")\n",
    "\n",
    "    cd(@__DIR__) # Changing the current working directory from project root to the parent directory of this file so that pwd() and @__DIR__ match.\n",
    "    # Import custom code and utility functions\n",
    "    include(\"../../src/State_and_Conversions.jl\")\n",
    "    include(\"../../src/Rendering.jl\")\n",
    "    include(\"../../src/Transformations.jl\")\n",
    "    include(\"../../src/WindowManager.jl\")\n",
    "    include(\"../../src/Recorder.jl\")\n",
    "\n",
    "\n",
    "\n",
    "    # Initialize the custom structs and utilities\n",
    "    conversions = Conversions()\n",
    "    renderer = Renderer()\n",
    "    transformations = Transformations()\n",
    "    windowmanager = WindowManager()\n",
    "\n",
    "    println(\"Custom modules loaded successfully.\")\n",
    "\n",
    "    BlochSphere = GeometryBasics.mesh(Tesselation(Sphere(Point3(0.0, 0.0, 0.0), 1.0), 50))\n",
    "    nothing\n",
    "end"
   ]
  },
  {
   "cell_type": "markdown",
   "id": "71be82f2",
   "metadata": {},
   "source": [
    "---\n",
    "# Create Scene"
   ]
  },
  {
   "cell_type": "code",
   "execution_count": 426,
   "id": "01575212",
   "metadata": {},
   "outputs": [],
   "source": [
    "begin \n",
    "    scene = Scene(size = (800, 600), camera = cam3d!)\n",
    "    meshscatter!(scene, Point3(0.0, 0.0, 0.0), markersize=1.0, space=:data, marker=BlochSphere, color=:lightblue, alpha=0.3, transparency=true)\n",
    "\n",
    "\n",
    "    display(scene)\n",
    "    nothing\n",
    "\n",
    "    state00_endpoints = [Point3(0.0, 0.0, 1.0)]\n",
    "    state00 = Observable(State())\n",
    "    state00_obs = attach2State(state00_endpoints, state00)\n",
    "\n",
    "    for i in eachindex(state00_obs)\n",
    "        meshscatter!(scene, (0, 0, 0), marker=lift(p -> Arrow(p).mesh, state00_obs[i]), color=:black, markersize=1.0)\n",
    "    end\n",
    "    coordinate_arrows = drawState!(scene, alpha=0.2, scale=0.5)\n",
    "    nothing\n",
    "end"
   ]
  },
  {
   "cell_type": "code",
   "execution_count": 427,
   "id": "c4dec2d1",
   "metadata": {},
   "outputs": [],
   "source": [
    "## Add a trail \n",
    "begin\n",
    "    # Adding a little trail at the tip of the [1,1,1] vector in the wingstate \n",
    "    # Initialize a circular buffer to store the trail points\n",
    "    using DataStructures: CircularBuffer\n",
    "    n = 200 # Buffer size\n",
    "    buffer = CircularBuffer{Point{3,Float64}}(n)\n",
    "    for _ in 1:n\n",
    "        push!(buffer, copy(state00_obs[1][])) # Assuming the 4th vector is the one we want to trail\n",
    "    end\n",
    "    buffer = Observable(buffer)\n",
    "\n",
    "    # Use buffer in plot\n",
    "    trail = lines!(scene, lift(x -> collect(x), buffer), color=[GLMakie.RGBA(0, 0, 0, 1 - i / n) for i in 0:n-1], linewidth=2)\n",
    "\n",
    "    # add a lister function to update the buffer whenever the vector changes.\n",
    "    trail_tracker = on(state00_obs[1]) do new_point\n",
    "        push!(buffer[], new_point) # Update the buffer with the new point, scaled down\n",
    "        notify(buffer) # Notify the observable to update the plot\n",
    "    end\n",
    "    nothing\n",
    "end"
   ]
  },
  {
   "cell_type": "markdown",
   "id": "19c47082",
   "metadata": {},
   "source": [
    "---\n",
    "\n",
    "# Quantum Gates as Rotations"
   ]
  },
  {
   "cell_type": "code",
   "execution_count": 428,
   "id": "09f94d56",
   "metadata": {},
   "outputs": [
    {
     "data": {
      "text/plain": [
       "draw_axis (generic function with 1 method)"
      ]
     },
     "metadata": {},
     "output_type": "display_data"
    }
   ],
   "source": [
    "function PauliX!(state::Observable{State})\n",
    "    about_axis = [1.0, 0.0, 0.0] # Pick an Axis, in this case the x axis\n",
    "    angle = π # Rotate by Pi radians\n",
    "    toState = State(conversions.axisangle2quat(about_axis, angle) * state[].q) # Calculate the final state upon rotation\n",
    "    transformations.interpolate_states(state, toState; n=200, time=2.0, rate_function=t -> sin(t * pi / 2)) # Animate from the current state, to the final state\n",
    "    return nothing\n",
    "end\n",
    "\n",
    "function PauliY!(state::Observable{State})\n",
    "    about_axis = [0.0, 1.0, 0.0]\n",
    "    angle = π\n",
    "    toState = State(conversions.axisangle2quat(about_axis, angle) * state[].q)\n",
    "    transformations.interpolate_states(state, toState; n=200, time=2.0, rate_function=t -> sin(t * pi / 2))\n",
    "    return nothing\n",
    "end\n",
    "\n",
    "function PauliZ!(state::Observable{State})\n",
    "    about_axis = [0.0, 0.0, 1.0]\n",
    "    angle = π\n",
    "    toState = State(conversions.axisangle2quat(about_axis, angle) * state[].q)\n",
    "    transformations.interpolate_states(state, toState; n=200, time=2.0, rate_function=t -> sin(t * pi / 2))\n",
    "    return nothing\n",
    "end\n",
    "\n",
    "function Rx!(state::Observable{State}, theta::Float64)\n",
    "    about_axis = [1.0, 0.0, 0.0]\n",
    "    angle = theta\n",
    "    toState = State(conversions.axisangle2quat(about_axis, angle) * state[].q)\n",
    "    transformations.interpolate_states(state, toState; n=200, time=2.0, rate_function=t -> sin(t * pi / 2))\n",
    "    return nothing\n",
    "end\n",
    "\n",
    "function Ry!(state::Observable{State}, theta::Float64)\n",
    "    about_axis = [0.0, 1.0, 0.0]\n",
    "    angle = theta\n",
    "    toState = State(conversions.axisangle2quat(about_axis, angle) * state[].q)\n",
    "    transformations.interpolate_states(state, toState; n=200, time=2.0, rate_function=t -> sin(t * pi / 2))\n",
    "    return nothing\n",
    "end\n",
    "\n",
    "function Rz!(state::Observable{State}, theta::Float64)\n",
    "    about_axis = [0.0, 0.0, 1.0]\n",
    "    angle = theta\n",
    "    toState = State(conversions.axisangle2quat(about_axis, angle) * state[].q)\n",
    "    transformations.interpolate_states(state, toState; n=200, time=2.0, rate_function=t -> sin(t * pi / 2))\n",
    "    return nothing\n",
    "end\n",
    "\n",
    "function Reset!(state::Observable{State})\n",
    "    transformations.interpolate_states(state, State(); n=200, time=2.0, rate_function=t -> sin(t * pi / 2))\n",
    "    return nothing\n",
    "end\n",
    "\n",
    "function Not!(state::Observable{State})\n",
    "    PauliX!(state)\n",
    "    return nothing\n",
    "end\n",
    "\n",
    "function Hadamard!(state::Observable{State})\n",
    "    about_axis = normalize([1.0, 0.0, 1.0])\n",
    "    angle = π\n",
    "    toState = State(conversions.axisangle2quat(about_axis, angle) * state[].q)\n",
    "    transformations.interpolate_states(state, toState; n=200, time=2.0, rate_function=t -> sin(t * pi / 2))\n",
    "    return nothing\n",
    "end\n",
    "\n",
    "function draw_axis(scene, about_axis)\n",
    "    try\n",
    "        delete!(scene, ax_mesh)\n",
    "    catch\n",
    "    end\n",
    "    global ax_mesh = meshscatter!(scene, Point3(0.0, 0.0, 0.0), markersize=1.0, space=:data, marker=Arrow(Point3(about_axis).*0.75).mesh, alpha=0.5, transparency=true, color=:cyan)\n",
    "    return ax_mesh\n",
    "end\n"
   ]
  },
  {
   "cell_type": "code",
   "execution_count": 429,
   "id": "025cc4c7",
   "metadata": {},
   "outputs": [],
   "source": [
    "Not!(state00)"
   ]
  },
  {
   "cell_type": "markdown",
   "id": "66495582",
   "metadata": {},
   "source": [
    "---"
   ]
  },
  {
   "cell_type": "code",
   "execution_count": 430,
   "id": "9f0cc381",
   "metadata": {},
   "outputs": [],
   "source": [
    "about_axis = normalize([1.0, 1.0, 1.0])\n",
    "angle = pi/1.0\n",
    "\n",
    "draw_axis(scene, about_axis)\n",
    "\n",
    "transformations.interpolate_states(state00, State(conversions.axisangle2quat(about_axis, angle) * state00[].q); n=200, time=2.0, rate_function=t -> sin(t * pi / 2))"
   ]
  },
  {
   "cell_type": "code",
   "execution_count": 431,
   "id": "d8d64e5d",
   "metadata": {},
   "outputs": [],
   "source": [
    "delete!(scene, ax_mesh)"
   ]
  },
  {
   "cell_type": "code",
   "execution_count": 432,
   "id": "581aefe5",
   "metadata": {},
   "outputs": [],
   "source": [
    "Reset!(state00)"
   ]
  },
  {
   "cell_type": "markdown",
   "id": "c49bafbd",
   "metadata": {},
   "source": [
    "## Using Predefined Rotations"
   ]
  },
  {
   "cell_type": "code",
   "execution_count": 435,
   "id": "c8c057b5",
   "metadata": {},
   "outputs": [],
   "source": [
    "PauliZ!(state00)"
   ]
  },
  {
   "cell_type": "code",
   "execution_count": 436,
   "id": "a85d0c9f",
   "metadata": {},
   "outputs": [],
   "source": [
    "Ry!(state00, 45*pi/180)"
   ]
  },
  {
   "cell_type": "markdown",
   "id": "132d4b80",
   "metadata": {},
   "source": [
    "## Measurement"
   ]
  },
  {
   "attachments": {
    "image.png": {
     "image/png": "[encoded data removed]"
    }
   },
   "cell_type": "markdown",
   "id": "50e9bd35",
   "metadata": {},
   "source": [
    "![image.png](attachment:image.png)\n",
    "\n",
    "$$z \\in [-1, 1]$$\n",
    "\n",
    "To map $z$ to the probabilities $[0, 1]$, you need to apply a linear map. So we shift everything by $1$ and scale it down by $2$."
   ]
  },
  {
   "cell_type": "code",
   "execution_count": 362,
   "id": "31e508ac",
   "metadata": {},
   "outputs": [
    {
     "data": {
      "text/plain": [
       "calculateCollapseProbabilities (generic function with 4 methods)"
      ]
     },
     "metadata": {},
     "output_type": "display_data"
    }
   ],
   "source": [
    "function calculateCollapseProbabilities(state::AbstractVector)\n",
    "    # Calculate the probabilities of measuring |0⟩ and |1⟩\n",
    "    # For a Bloch vector [x, y, z], probability of |0⟩ is (1 + z)/2\n",
    "    prob_0 = (1 + state[3]) / 2\n",
    "    prob_1 = (1 - state[3]) / 2\n",
    "\n",
    "    println(\"Probability of measuring |0⟩: \", prob_0*100, \"%\")\n",
    "    println(\"Probability of measuring |1⟩: \", prob_1*100, \"%\")\n",
    "    return prob_0, prob_1\n",
    "end"
   ]
  },
  {
   "cell_type": "code",
   "execution_count": 386,
   "id": "064d82a7",
   "metadata": {},
   "outputs": [
    {
     "name": "stdout",
     "output_type": "stream",
     "text": [
      "Probability of measuring |0⟩: 100.0%\n",
      "Probability of measuring |1⟩: 0.0%\n"
     ]
    },
    {
     "data": {
      "text/plain": [
       "(1.0, 0.0)"
      ]
     },
     "metadata": {},
     "output_type": "display_data"
    }
   ],
   "source": [
    "calculateCollapseProbabilities(state00_obs[1][])"
   ]
  },
  {
   "cell_type": "code",
   "execution_count": 439,
   "id": "f9236886",
   "metadata": {},
   "outputs": [],
   "source": [
    "Reset!(state00)"
   ]
  },
  {
   "cell_type": "code",
   "execution_count": 342,
   "id": "d32ee5fe",
   "metadata": {},
   "outputs": [],
   "source": [
    "PauliX!(state00)"
   ]
  },
  {
   "cell_type": "code",
   "execution_count": 441,
   "id": "75dd25c0",
   "metadata": {},
   "outputs": [],
   "source": [
    "Rx!(state00, pi/2)"
   ]
  },
  {
   "cell_type": "code",
   "execution_count": 424,
   "id": "6e24acfd",
   "metadata": {},
   "outputs": [
    {
     "name": "stdout",
     "output_type": "stream",
     "text": [
      "Probability of measuring |0⟩: 24.999999999999993%\n",
      "Probability of measuring |1⟩: 75.0%\n"
     ]
    },
    {
     "data": {
      "text/plain": [
       "(0.24999999999999994, 0.75)"
      ]
     },
     "metadata": {},
     "output_type": "display_data"
    }
   ],
   "source": [
    "calculateCollapseProbabilities(state00_obs[1][])"
   ]
  },
  {
   "cell_type": "markdown",
   "id": "38cef285",
   "metadata": {},
   "source": [
    "### Assuming the Hadamard Gate is also just applying a rotation around an axis, what must be the axis and what must be the angle of rotation?"
   ]
  },
  {
   "cell_type": "code",
   "execution_count": 457,
   "id": "c1c9683b",
   "metadata": {},
   "outputs": [],
   "source": [
    "Reset!(state00)\n",
    "# Not!(state00)"
   ]
  },
  {
   "cell_type": "code",
   "execution_count": 447,
   "id": "85f13cf4",
   "metadata": {},
   "outputs": [],
   "source": [
    "# Axis and Angle for a Hadamard Gate\n",
    "# Applying the transformation animation\n",
    "begin\n",
    "    about_axis = normalize([1.0, 0.0, 1.0]) ## -> The axis must be in the x-z plane, and at a 45 degree angle to both the x and z axes.\n",
    "    angle = pi\n",
    "\n",
    "    draw_axis(scene, about_axis)\n",
    "\n",
    "    transformations.interpolate_states(state00, State(conversions.axisangle2quat(about_axis, angle) * state00[].q); n=200, time=2.0, rate_function=t -> sin(t * pi / 2))\n",
    "end"
   ]
  },
  {
   "cell_type": "code",
   "execution_count": 449,
   "id": "6a8bb8c3",
   "metadata": {},
   "outputs": [],
   "source": [
    "delete!(scene, ax_mesh)"
   ]
  },
  {
   "cell_type": "markdown",
   "id": "2e6c9708",
   "metadata": {},
   "source": [
    "---\n",
    "\n",
    "## Let's Do Stuff!"
   ]
  },
  {
   "cell_type": "markdown",
   "id": "fb38806b",
   "metadata": {},
   "source": [
    "Starting from $\\ket{0}$, apply any sequence of Quantum Gates you want to get the Qubit to `normalize([1,1,0.0]).+[0,0,0.5]`"
   ]
  },
  {
   "cell_type": "code",
   "execution_count": 455,
   "id": "a83577d4",
   "metadata": {},
   "outputs": [
    {
     "data": {
      "text/plain": [
       "MeshScatter{Tuple{Vector{Point{3, Float64}}}}"
      ]
     },
     "metadata": {},
     "output_type": "display_data"
    }
   ],
   "source": [
    "q1_mesh = meshscatter!(scene, Point3(0.0, 0.0, 0.0), markersize=1.0, space=:data, marker=Arrow(normalize(normalize(Point3(1.0, 1.0, 0.0)).+(0,0,0.5))).mesh, color=:yellow)"
   ]
  },
  {
   "cell_type": "code",
   "execution_count": 458,
   "id": "c319bad5",
   "metadata": {},
   "outputs": [],
   "source": [
    "Hadamard!(state00)"
   ]
  },
  {
   "cell_type": "code",
   "execution_count": null,
   "id": "8e543da7",
   "metadata": {},
   "outputs": [],
   "source": [
    "Ry!(state00, -pi/6)"
   ]
  },
  {
   "cell_type": "code",
   "execution_count": 462,
   "id": "d5dafc94",
   "metadata": {},
   "outputs": [],
   "source": [
    "Rz!(state00, pi/4)"
   ]
  },
  {
   "cell_type": "code",
   "execution_count": 464,
   "id": "56724b35",
   "metadata": {},
   "outputs": [
    {
     "name": "stdout",
     "output_type": "stream",
     "text": [
      "Probability of measuring |0⟩: 75.0%\n",
      "Probability of measuring |1⟩: 25.0%\n"
     ]
    },
    {
     "data": {
      "text/plain": [
       "(0.75, 0.25)"
      ]
     },
     "metadata": {},
     "output_type": "display_data"
    }
   ],
   "source": [
    "calculateCollapseProbabilities(state00_obs[1][])"
   ]
  },
  {
   "cell_type": "code",
   "execution_count": 456,
   "id": "1f38a98d",
   "metadata": {},
   "outputs": [],
   "source": [
    "Not!(state00)"
   ]
  },
  {
   "cell_type": "code",
   "execution_count": 402,
   "id": "5314a133",
   "metadata": {},
   "outputs": [],
   "source": [
    "Hadamard!(state00)"
   ]
  },
  {
   "cell_type": "code",
   "execution_count": 411,
   "id": "e6e53de1",
   "metadata": {},
   "outputs": [],
   "source": [
    "Ry!(state00, pi/4)"
   ]
  },
  {
   "cell_type": "code",
   "execution_count": 463,
   "id": "6066dc4c",
   "metadata": {},
   "outputs": [],
   "source": [
    "delete!(scene, q1_mesh)"
   ]
  },
  {
   "cell_type": "code",
   "execution_count": 410,
   "id": "81876a6a",
   "metadata": {},
   "outputs": [],
   "source": [
    "Reset!(state00)"
   ]
  },
  {
   "cell_type": "markdown",
   "id": "a004f192",
   "metadata": {},
   "source": [
    "What would be the probability for measuring the qubit as $\\ket{0}$ and $\\ket{1}$ at this state?"
   ]
  },
  {
   "cell_type": "markdown",
   "id": "1488321d",
   "metadata": {},
   "source": [
    "If the probability of measuring the qubit in $\\ket{0}$ is $25\\%$ and in $\\ket{1}$ is $75\\%$."
   ]
  }
 ],
 "metadata": {
  "kernelspec": {
   "display_name": "Julia 1.11.5",
   "language": "julia",
   "name": "julia-1.11"
  },
  "language_info": {
   "file_extension": ".jl",
   "mimetype": "application/julia",
   "name": "julia",
   "version": "1.11.5"
  }
 },
 "nbformat": 4,
 "nbformat_minor": 5
}

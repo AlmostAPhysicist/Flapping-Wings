{
 "cells": [
  {
   "cell_type": "markdown",
   "id": "b1f6306d",
   "metadata": {},
   "source": [
    "This is going to be a very basic tutorial on how to use \n",
    " 1. [Julia](https://julialang.org/)\n",
    " 2. [Quaternions.jl](https://juliageometry.github.io/Quaternions.jl/stable/)\n",
    "\n",
    "\n",
    "### Aim:\n",
    "Rotate a point $P=(1,0,0)$ about the $z-axis$ by $\\frac{\\pi}{2}$ radians using Quaternions.\n",
    "\n",
    "<u>To cut the wild goose chase, Here's the very simple solution:</u>\n",
    "\n",
    "---\n",
    "\n",
    "```julia\n",
    "using Quaternions\n",
    "\n",
    "u = axis = [0, 0, 1] # rotation axis (z-axis)\n",
    "theta = π/2 # rotation angle (90 degrees in radians)\n",
    "q = axisangle2quat(u, theta) # 90 degree rotation about z-axis # rotation quaternion: cos(θ/2) + u*sin(θ/2)\n",
    "# or q = Quaternion(cos(theta/2), (u*sin(theta/2))...)\n",
    "\n",
    "v = [1, 0, 0] # vector to be rotated\n",
    "\n",
    "\n",
    "v_rotated = imag_part(q * Quaternion(0, v...) * inv(q)) # rotate vector v using quaternion q\n",
    "# This is saying (0, v_rotated) = q * (0, v) * q^{-1}, as discussed in the notes\n",
    "# So note, the required vector, is the imaginary part of the resulting quaternion, not the resulting quaternion itself\n",
    "\n",
    "println(\"Original Vector: \\n\\t\", v)\n",
    "println(\"Rotated Vector: \\n\\t\", v_rotated)\n",
    "\n",
    "```\n",
    "\n",
    "---\n",
    "\n",
    "My hope is, by the end of reading this notebook, this will be simple to you too!\n",
    "\n",
    "$\\,$\n",
    "\n",
    "$\\,$"
   ]
  },
  {
   "cell_type": "markdown",
   "id": "2c61665d",
   "metadata": {},
   "source": [
    "\n",
    "\n",
    "## 1. Setup\n",
    "The first step, which I trust you to have done, is install **Julia** correctly.\n",
    "(On windows, preferably through MIcrosoft Store, for others, via the methods described in the [Julia Installation Page](https://julialang.org/install/))"
   ]
  },
  {
   "cell_type": "code",
   "execution_count": null,
   "id": "38978fd4",
   "metadata": {},
   "outputs": [],
   "source": [
    "# If you havn't already, setup the environment and install the required packages\n",
    "# This is just a practice that you should generally do at the start of a new Julia project\n",
    "# I prefer to use shared environments for all my projects - you don't need to worry about this\n",
    "\n",
    "# Using the Packages package to manage packages\n",
    "using Pkg\n",
    "\n",
    "# Activate a shared environment for this project\n",
    "Pkg.activate(\"Rotations\", shared=true)\n",
    "\n",
    "# Install the Quaternions package - you can add other packages here too\n",
    "Pkg.add([\"Quaternions\"]) # you only need to do this once"
   ]
  },
  {
   "cell_type": "markdown",
   "id": "334dc2e6",
   "metadata": {},
   "source": [
    "## 2. Importing the Package and Defining a Quaternion"
   ]
  },
  {
   "cell_type": "code",
   "execution_count": null,
   "id": "ccd16f5e",
   "metadata": {},
   "outputs": [],
   "source": [
    "# Now you can use the packages you installed\n",
    "using Quaternions \n",
    "\n",
    "# Define a quaternion\n",
    "\n",
    "# A quaternion is defined as q = a + bi + cj + dk\n",
    "# For more details on how we are going to use quaternions, check the Notes\n",
    "\n",
    "# We would define the quaternion q = 1 + 0i + 0j + 0k\n",
    "q = Quaternion(1, 0, 0, 0)\n",
    "\n",
    "println(q)"
   ]
  },
  {
   "cell_type": "markdown",
   "id": "60e648bc",
   "metadata": {},
   "source": [
    "## 3. Working with Quaternions"
   ]
  },
  {
   "cell_type": "code",
   "execution_count": null,
   "id": "972f541f",
   "metadata": {},
   "outputs": [],
   "source": [
    "# adding 2 quaternions\n",
    "q1 = Quaternion(1, 2, 3, 4) # q1 = 1 + 2i + 3j + 4k\n",
    "q2 = Quaternion(5, 6, 7, 8) # q2 = 5 + 6i + 7j + 8k\n",
    "q3 = q1 + q2\n",
    "println(\"q1 = $q1\")\n",
    "println(\"q2 = $q2\")\n",
    "println(\"q3 = q1 + q2 = $q3\")"
   ]
  },
  {
   "cell_type": "code",
   "execution_count": null,
   "id": "e1673cec",
   "metadata": {},
   "outputs": [],
   "source": [
    "# multiplying 2 quaternions\n",
    "q1 = Quaternion(2, 0, 0, 0)\n",
    "q2 = Quaternion(0, 1, 0, 1)\n",
    "q3 = q1 * q2\n",
    "\n",
    "println(\"q1 = $q1\")\n",
    "println(\"q2 = $q2\")\n",
    "println(\"q3 = q1 * q2 = $q3\")\n",
    "\n",
    "# We will learn more about quaternions as we go along"
   ]
  },
  {
   "cell_type": "markdown",
   "id": "bc18e351",
   "metadata": {},
   "source": [
    "## Looking the tools we have around Quaternions as well as defining our own tooling"
   ]
  },
  {
   "cell_type": "code",
   "execution_count": null,
   "id": "07883780",
   "metadata": {},
   "outputs": [],
   "source": [
    "# Print Quaternion as \"a + bi + cj + dk\"\n",
    "# Defining a custom function to convert a quaternion to string\n",
    "\n",
    "q = Quaternion(1, 2, 3, 4)\n",
    "\n",
    "println(real(q)) # prints the real part of the quaternion\n",
    "println(imag_part(q)) # prints the imaginary part of the quaternion as a 3D vector\n",
    "\n",
    "function toString(q::Quaternion)\n",
    "    # You can access the components of the quaternion using q.s, q.v1, q.v2, and q.v3 (scalar and vector parts)\n",
    "    # In general, you can run `fieldnames(Quaternion)` to see all the fields of the Quaternion type if you ever forget this\n",
    "    return \"$(q.s) + $(q.v1)i + $(q.v2)j + $(q.v3)k\"\n",
    "end\n",
    "\n",
    "println(\"String representation: \\n\", toString(q))"
   ]
  },
  {
   "cell_type": "markdown",
   "id": "0e11be58",
   "metadata": {},
   "source": [
    "---\n",
    "\n",
    "## A short refresher: imaginary numbers and Euler's formula\n",
    "\n",
    "An imaginary unit $i$ satisfies $i^2 = -1$. Complex numbers $z = a + b i$ rotate the plane via Euler's formula:\n",
    "$$\n",
    "e^{i\\theta} = \\cos\\theta + i\\sin\\theta.\n",
    "$$\n",
    "Multiplying by $e^{i\\theta}$ rotates by angle $\\theta$.\n",
    "\n",
    "## Quaternions as an extension of complex rotations\n",
    "\n",
    "A quaternion has scalar and vector parts:\n",
    "$$\n",
    "q = w + x\\mathbf{i} + y\\mathbf{j} + z\\mathbf{k} \\equiv (w, \\mathbf{v}),\\quad \\mathbf{v} = (x, y, z).\n",
    "$$\n",
    "A pure quaternion has $w=0$; for any unit vector $\\hat{u}$ (as a pure quaternion), $\\hat{u}^2 = -1$.\n",
    "\n",
    "Multiplication rules:\n",
    "$$\n",
    "\\mathbf{i}^2 = \\mathbf{j}^2 = \\mathbf{k}^2 = \\mathbf{ijk} = -1,\n",
    "$$\n",
    "and anti-commutation:\n",
    "$$\n",
    "\\mathbf{i}\\mathbf{j} = \\mathbf{k},\\quad \\mathbf{j}\\mathbf{i} = -\\mathbf{k},\\quad\n",
    "\\mathbf{j}\\mathbf{k} = \\mathbf{i},\\quad \\mathbf{k}\\mathbf{j} = -\\mathbf{i},\\quad\n",
    "\\mathbf{k}\\mathbf{i} = \\mathbf{j},\\quad \\mathbf{i}\\mathbf{k} = -\\mathbf{j}.\n",
    "$$\n",
    "\n",
    "### Quaternion exponential\n",
    "\n",
    "For any unit pure quaternion $\\hat{u}$ and real $\\theta$,\n",
    "$$\n",
    "e^{\\hat{u}\\theta} = \\cos\\theta + \\hat{u}\\sin\\theta\n",
    "$$\n",
    "This generalizes Euler's formula. For now, think of $\\hat{u}$ as a fixed imaginary direction.\n",
    "\n",
    "## Using $e^{\\hat{u}\\theta}$ to rotate\n",
    "\n",
    "Multiplying a pure quaternion vector by $e^{\\hat{u}\\theta}$ alone does not yield a pure quaternion. To rotate a 3D vector $\\mathbf{v}$ (as $v = (0, \\mathbf{v})$), use the sandwich product:\n",
    "$$\n",
    "q v q^{-1}\n",
    "$$\n",
    "where $q = e^{\\hat{u}\\alpha} = \\cos\\alpha + \\hat{u}\\sin\\alpha$.\n",
    "\n",
    "The key identity:\n",
    "$$\n",
    "q v q^{-1} = \\left(0,\\,\n",
    "\\mathbf{v}\\cos(2\\alpha) + (\\hat{u}\\times\\mathbf{v})\\sin(2\\alpha)\n",
    "+ \\hat{u}(\\hat{u}\\cdot\\mathbf{v})(1-\\cos(2\\alpha))\n",
    "\\right)\n",
    "$$\n",
    "This is Rodrigues' rotation formula: $q v q^{-1}$ rotates $\\mathbf{v}$ by $2\\alpha$ about $\\hat{u}$. (Essentially both $q$ multiplications cause the vector to rotate by $alpha$ angle. First one gets it to the )\n",
    "\n",
    "To rotate by angle $\\theta$, set $\\alpha = \\theta/2$:\n",
    "$$\n",
    "q(\\hat{u}, \\theta) = e^{\\hat{u}\\theta/2} = \\cos\\frac{\\theta}{2} + \\hat{u}\\sin\\frac{\\theta}{2}\n",
    "$$\n",
    "Then $q v q^{-1}$ rotates $\\mathbf{v}$ by $\\theta$ about $\\hat{u}$. The half-angle arises because the sandwich doubles the rotation angle.\n",
    "\n",
    "---"
   ]
  },
  {
   "cell_type": "code",
   "execution_count": null,
   "id": "0f07af68",
   "metadata": {},
   "outputs": [],
   "source": [
    "axis = [0, 0, 1] # rotation axis (z-axis)\n",
    "angle = π/2 # rotation angle (90 degrees in radians)\n",
    "\n",
    "# Different ways to define a rotation quaternion: All these are equivalent\n",
    "q_rot = Quaternion(cos(angle/2), (axis*sin(angle/2))...) # rotation quaternion: cos(θ/2) + u*sin(θ/2)\n",
    "q_rot_euler = exp(Quaternion(0, (axis*angle/2)...)) # rotation quaternion using exp: e^(u*θ/2)\n",
    "q_rot_euler2 = ℯ^(Quaternion(0, (axis)...) * angle/2) # rotation quaternion using exp (alternative syntax to the above)\n",
    "\n",
    "\n",
    "# Confirming that all the above quaternions are equal\n",
    "println(\"Rotation Quaternion using cos/sin: \\n\\t$(toString(q_rot))\\n\")\n",
    "println(\"Rotation Quaternion using exp: \\n\\t$(toString(q_rot_euler))\\n\")\n",
    "println(\"Rotation Quaternion using exp (alternative syntax): \\n\\t$(toString(q_rot_euler2))\\n\")\n",
    "\n",
    "println(\"\\nAre they equal? \\n\\t\", q_rot == q_rot_euler == q_rot_euler2)"
   ]
  },
  {
   "cell_type": "markdown",
   "id": "9af37413",
   "metadata": {},
   "source": [
    "So we can see how we can define a Quaternion that rotates a vector about an axis for a given angle.\n",
    "Now, let's see how to rotate vector/point $P=(1,0,0)$ using this quaternion.\n",
    "\n",
    "For this, we also need a quaternion inverse, which as we discussed earlier, is the same as the conjugate.\n",
    "\n",
    "$$\n",
    "q * q^{-1} = q*inv(q) = q_0\n",
    "$$\n",
    "$q_0$ being your identity quaternion $1 + 0i + 0j + 0k$, meaning, a simple real number $1$, which makes sense, since an identity quaterion should not change any vector in any form: orentation or scale."
   ]
  },
  {
   "cell_type": "code",
   "execution_count": null,
   "id": "d3aacb89",
   "metadata": {},
   "outputs": [],
   "source": [
    "# Finding the Inverse\n",
    "\n",
    "# Define a function to convert axis-angle to quaternion from our established formula\n",
    "axisangle2quat(axis, angle) = Quaternion(cos(angle/2), (axis*sin(angle/2))...)\n",
    "# q(axis, angle) = (cos(θ/2), u*sin(θ/2)) = (w, xi, yj, zk)\n",
    "\n",
    "axis = [0, 0, 1] # rotation axis (z-axis)\n",
    "angle = π/2 # rotation angle (90 degrees in radians)\n",
    "q = axisangle2quat(axis, angle) # rotation quaternion: cos(θ/2) + u*sin(θ/2)\n",
    "println(\"Rotation Quaternion using axis-angle to quaternion function: \\n\\t$(toString(q))\\n\")\n",
    "\n",
    "\n",
    "# Equivalent ways to find the inverse of a unit quaternion\n",
    "q_inverse = inv(q)\n",
    "q_conjugate = conj(q)\n",
    "q_axis_negative_angle = axisangle2quat(axis, -angle)\n",
    "\n",
    "\n",
    "# Confirming that all the above quaternions are equal\n",
    "println(\"Quaternion Inverse: \\n\\t$(toString(q_inverse))\\n\")\n",
    "println(\"Quaternion Conjugate: \\n\\t$(toString(q_conjugate))\\n\")\n",
    "println(\"Quaternion for negative angle: \\n\\t$(toString(q_axis_negative_angle))\\n\")\n",
    "println(\"\\nAre they equal? \\n\\t\", q_inverse == q_conjugate == q_axis_negative_angle)\n",
    "\n",
    "\n",
    "q * q_inverse # should be identity quaternion\n",
    "\n",
    "# Confirming that the product of a quaternion and its inverse is the identity quaternion\n",
    "println(\"\\n------------\\nq * q_inverse = \", toString(q * q_inverse), \" = Identity Quaternion\") # should be identity quaternion"
   ]
  },
  {
   "cell_type": "markdown",
   "id": "c9ce111c",
   "metadata": {},
   "source": [
    "Finally, since we now have all the ingedients, we can rotate a vector\n",
    "## The Final Implementation:"
   ]
  },
  {
   "cell_type": "code",
   "execution_count": null,
   "id": "039d4fe8",
   "metadata": {},
   "outputs": [],
   "source": [
    "using Quaternions\n",
    "\n",
    "u = axis = [0, 0, 1] # rotation axis (z-axis)\n",
    "theta = π/2 # rotation angle (90 degrees in radians)\n",
    "q = axisangle2quat(u, theta) # 90 degree rotation about z-axis # rotation quaternion: cos(θ/2) + u*sin(θ/2)\n",
    "# or q = Quaternion(cos(theta/2), (u*sin(theta/2))...)\n",
    "\n",
    "v = [1, 0, 0] # vector to be rotated\n",
    "\n",
    "\n",
    "v_rotated = imag_part(q * Quaternion(0, v...) * inv(q)) # rotate vector v using quaternion q\n",
    "# This is saying (0, v_rotated) = q * (0, v) * q^{-1}, as discussed in the notes\n",
    "# So note, the required vector, is the imaginary part of the resulting quaternion, not the resulting quaternion itself\n",
    "\n",
    "println(\"Original Vector: \\n\\t\", v)\n",
    "println(\"Rotated Vector: \\n\\t\", v_rotated)"
   ]
  },
  {
   "cell_type": "markdown",
   "id": "a7932846",
   "metadata": {},
   "source": [
    "You can see that the output vector that we get is basically $[0,1,0]$\n",
    "(The error here is of the order of $10^{-16}$, but would always be there when dealing with Floating Point numbers. Below, you can see you get a similar error with rotational matrices. However, it is much simpler to define Quaternions for an arbitrary axis and angle and do inverses that matrices)"
   ]
  },
  {
   "cell_type": "code",
   "execution_count": null,
   "id": "3b7a79db",
   "metadata": {},
   "outputs": [],
   "source": [
    "# Comparison with rotation matrix\n",
    "rotzmat(angle) = [\n",
    "    cos(angle) -sin(angle) 0\n",
    "    sin(angle)  cos(angle) 0\n",
    "    0          0         1\n",
    "]\n",
    "\n",
    "rotzmat(pi/2) * v # should be [0, 1, 0]"
   ]
  },
  {
   "cell_type": "markdown",
   "id": "7001f06f",
   "metadata": {},
   "source": [
    "---\n",
    "\n",
    "## Conclusion\n",
    "\n",
    "It makes sense!\n",
    "We rotated a point $P=[1,0,0]$ (or say the $x-axis$), around the $z-axis$, by $\\pi/2$ radians, and therefore, it lands on the $y-axis$. Therefore:\n",
    "\n",
    "Our quaternion $q(axis, angle) = cos(\\theta/2) + u\\cdot sin(\\theta/2)$ maps $[1,0,0] \\longrightarrow [0,1,0]$ by the operation $(0, v_{rot} = q*v*q^{-1})$ successfully.\n",
    "\n",
    "\n",
    "This intuition, of a rotation mapping a vector, and therefore axes themselves from one space to another would help us understand how local transformations are mapped to global transformations."
   ]
  },
  {
   "cell_type": "code",
   "execution_count": null,
   "id": "2d0da6d7",
   "metadata": {},
   "outputs": [],
   "source": []
  }
 ],
 "metadata": {
  "kernelspec": {
   "display_name": "Julia 1.11.5",
   "language": "julia",
   "name": "julia-1.11"
  },
  "language_info": {
   "file_extension": ".jl",
   "mimetype": "application/julia",
   "name": "julia",
   "version": "1.11.5"
  }
 },
 "nbformat": 4,
 "nbformat_minor": 5
}

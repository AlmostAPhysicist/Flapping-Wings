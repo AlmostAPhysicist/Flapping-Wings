{
 "cells": [
  {
   "cell_type": "code",
   "execution_count": 49,
   "id": "4832ab0c",
   "metadata": {},
   "outputs": [
    {
     "data": {
      "text/plain": [
       "WindowManager(Main.display_windows, GLMakie.closeall, Makie.inline!)"
      ]
     },
     "metadata": {},
     "output_type": "display_data"
    }
   ],
   "source": [
    "# Import necessary packages\n",
    "using GLMakie, GeometryBasics, LinearAlgebra, Quaternions, FileIO\n",
    "import Quaternions: Quaternion as Quaternion\n",
    "\n",
    "cd(@__DIR__) # Changing the current working directory from project root to the parent directory of this file so that pwd() and @__DIR__ match.\n",
    "# Import custom code and utility functions\n",
    "include(\"../src/State_and_Conversions.jl\")\n",
    "include(\"../src/Rendering.jl\")\n",
    "include(\"../src/Transformations.jl\")\n",
    "include(\"../src/WindowManager.jl\")\n",
    "include(\"../src/Recorder.jl\")\n",
    "\n",
    "\n",
    "\n",
    "# Initialize the custom structs and utilities\n",
    "conversions = Conversions()\n",
    "renderer = Renderer()\n",
    "transformations = Transformations()\n",
    "windowmanager = WindowManager()"
   ]
  },
  {
   "cell_type": "code",
   "execution_count": 58,
   "id": "03aa8882",
   "metadata": {},
   "outputs": [],
   "source": [
    "# Create a state attached scene with a reference state\n",
    "scene = Scene(camera=cam3d!)\n",
    "ref = renderer.drawState!(scene)\n",
    "\n",
    "q = Quaternion(1, 0, 0, 0) # Identity quaternion\n",
    "\n",
    "state = Observable(State(q))\n",
    "vectors = [Point3(1.0, 0.0, 0.0), Point3(0.0, 1.0, 0.0), Point3(0.0, 0.0, 1.0)] # Example vectors in the state frame\n",
    "attached_vectors = renderer.attach2State(vectors, state)\n",
    "custom_vector_colors = [(1, 0, 0), (0, 1, 0), (0, 0, 1)] # Colors for the custom vectors\n",
    "\n",
    "for i in eachindex(attached_vectors)\n",
    "    meshscatter!(scene, (0, 0, 0), marker=lift(p -> Arrow(p).mesh, attached_vectors[i]), markersize=0.75, color=(custom_vector_colors[i]..., 0.5), transparency=true)\n",
    "end"
   ]
  },
  {
   "cell_type": "markdown",
   "id": "cd6dbf5b",
   "metadata": {},
   "source": [
    "---\n",
    "We now have a scene to visualize our rotational states as we perform operations on our quaternion q and update the state to the new quaternion value.\n",
    "\n",
    "---"
   ]
  },
  {
   "cell_type": "markdown",
   "id": "cdc0ec53",
   "metadata": {},
   "source": [
    "## 1. General Information about Quaternions\n",
    "\n",
    "<img src=\"..\\Notes\\Quaternions and Rotations\\attachments\\Drawing 25-06-09-04-19-25.svg\" alt=\"Quaternion Illustration\" style=\"background: #fff; padding: 10px; border-radius: 8px; display: block; margin: 0 auto; max-width: 100%;\">"
   ]
  },
  {
   "cell_type": "code",
   "execution_count": 10,
   "id": "a8ff4d81",
   "metadata": {},
   "outputs": [
    {
     "data": {
      "text/plain": [
       "Quaternion{Int64}(0, 0, 0, 1)"
      ]
     },
     "metadata": {},
     "output_type": "display_data"
    }
   ],
   "source": [
    "i = Quaternion(0, 1, 0, 0)\n",
    "j = Quaternion(0, 0, 1, 0)\n",
    "k = Quaternion(0, 0, 0, 1)"
   ]
  },
  {
   "cell_type": "code",
   "execution_count": 19,
   "id": "696114c3",
   "metadata": {},
   "outputs": [
    {
     "name": "stdout",
     "output_type": "stream",
     "text": [
      "i^2 = Quaternion{Int64}(-1, 0, 0, 0)\n",
      "j^2 = Quaternion{Int64}(-1, 0, 0, 0)\n",
      "k^2 = Quaternion{Int64}(-1, 0, 0, 0)\n",
      "i*j*k = Quaternion{Int64}(-1, 0, 0, 0)\n"
     ]
    }
   ],
   "source": [
    "println(\"i^2 = \", i^2)\n",
    "println(\"j^2 = \", j^2)\n",
    "println(\"k^2 = \", k^2)\n",
    "println(\"i*j*k = \", i*j*k)"
   ]
  },
  {
   "cell_type": "code",
   "execution_count": 20,
   "id": "c69ae9a1",
   "metadata": {},
   "outputs": [
    {
     "name": "stdout",
     "output_type": "stream",
     "text": [
      "i*j = Quaternion{Int64}(0, 0, 0, 1)\n",
      "j*k = Quaternion{Int64}(0, 1, 0, 0)\n",
      "k*i = Quaternion{Int64}(0, 0, 1, 0)\n"
     ]
    }
   ],
   "source": [
    "println(\"i*j = \", i*j)\n",
    "println(\"j*k = \", j*k)\n",
    "println(\"k*i = \", k*i)"
   ]
  },
  {
   "cell_type": "markdown",
   "id": "2a0180b5",
   "metadata": {},
   "source": [
    "## Using Quaternions as rotations"
   ]
  },
  {
   "cell_type": "markdown",
   "id": "92ca5930",
   "metadata": {
    "vscode": {
     "languageId": "css"
    }
   },
   "source": [
    "<img src=\"..\\Notes\\Quaternions and Rotations\\attachments\\Drawing 25-06-09-05-28-08.svg\" alt=\"Quaternion Illustration\" style=\"background: #fff; padding: 10px; border-radius: 8px; display: block; margin: 0 auto; max-width: 100%;\">"
   ]
  },
  {
   "cell_type": "code",
   "execution_count": 59,
   "id": "af5170e4",
   "metadata": {},
   "outputs": [
    {
     "data": {
      "text/plain": [
       "GLMakie.Screen(...)"
      ]
     },
     "metadata": {},
     "output_type": "display_data"
    }
   ],
   "source": [
    "display(scene)"
   ]
  },
  {
   "cell_type": "code",
   "execution_count": 60,
   "id": "33fac315",
   "metadata": {},
   "outputs": [
    {
     "data": {
      "text/plain": [
       "MeshScatter{Tuple{Vector{Point{3, Float64}}}}"
      ]
     },
     "metadata": {},
     "output_type": "display_data"
    }
   ],
   "source": [
    "v = Observable(Point3(1.0, 1.0, 1.0)) # Initial position of the vector\n",
    "v_mesh = meshscatter!(scene, (0,0,0), markersize=1, marker=lift(v-> Arrow(normalize(v)).mesh, v), color=(1, 1, 1, 0.5), transparency=true)"
   ]
  },
  {
   "cell_type": "code",
   "execution_count": 62,
   "id": "1afb4da9",
   "metadata": {},
   "outputs": [],
   "source": [
    "transformations.interpolate_vector(v, [1,0,0]; rate_function=t -> (1 - cos(t * π)) / 2) # Transform to [1, 0, 0] with a smooth transition\n",
    "sleep(2) # Wait for the transition to complete\n",
    "transformations.interpolate_vector(v, [1,1,1]; rate_function=t -> (1 - cos(t * π)) / 2) # Transform back to [1, 1, 1] with a smooth transition"
   ]
  },
  {
   "cell_type": "markdown",
   "id": "6e4dce44",
   "metadata": {},
   "source": [
    "#### Showcase quaternions as a means to rotate a vector"
   ]
  },
  {
   "cell_type": "code",
   "execution_count": 75,
   "id": "fafe316b",
   "metadata": {},
   "outputs": [
    {
     "name": "stdout",
     "output_type": "stream",
     "text": [
      "QuaternionF64(0.9238795325112867, 0.3826834323650898, 0.0, 0.0)\n",
      "QuaternionF64(0.9238795325112867, -0.3826834323650898, -0.0, -0.0)\n"
     ]
    }
   ],
   "source": [
    "e=ℯ # Euler's number\n",
    "\n",
    "n_hat = i\n",
    "theta = π / 4 # Rotation angle in radians\n",
    "q_rot = e^(theta / 2 * n_hat) # Quaternion representing the rotation\n",
    "\n",
    "\n",
    "println(q_rot)\n",
    "println(inv(q_rot))"
   ]
  },
  {
   "cell_type": "code",
   "execution_count": 87,
   "id": "1ccdc078",
   "metadata": {},
   "outputs": [
    {
     "name": "stdout",
     "output_type": "stream",
     "text": [
      "[1.0000000000000002, -1.4142135623730951, -5.551115123125783e-16]\n",
      "(1.0000000000000002, -0.9999999999999996, -1.0000000000000004)\n"
     ]
    }
   ],
   "source": [
    "println(v[])\n",
    "\n",
    "# Apply the rotation to the vector\n",
    "v_rotated = imag_part(q_rot * Quaternion(0, v[]...) * inv(q_rot))\n",
    "println(v_rotated)"
   ]
  },
  {
   "cell_type": "code",
   "execution_count": 88,
   "id": "e4eef99d",
   "metadata": {},
   "outputs": [],
   "source": [
    "transformations.interpolate_vector(v, Point3(v_rotated); rate_function=t -> (1 - cos(t * π)) / 2) # Smoothly rotate the vector"
   ]
  },
  {
   "cell_type": "code",
   "execution_count": 89,
   "id": "1c539519",
   "metadata": {},
   "outputs": [
    {
     "data": {
      "text/plain": [
       "3-element Point{3, Float64} with indices SOneTo(3):\n",
       " 1.0\n",
       " 1.0\n",
       " 1.0"
      ]
     },
     "metadata": {},
     "output_type": "display_data"
    }
   ],
   "source": [
    "v[] = Point3(1.0, 1.0, 1.0) # Reset the vector position"
   ]
  },
  {
   "cell_type": "code",
   "execution_count": 90,
   "id": "1bc27c9a",
   "metadata": {},
   "outputs": [],
   "source": [
    "delete!(scene, v_mesh) # Remove the previous vector mesh"
   ]
  },
  {
   "cell_type": "markdown",
   "id": "cd844065",
   "metadata": {},
   "source": [
    "Using this principal of Quaternions describing rotation of a vector about an axis, for a given angle, we can thus define rotational state for an entire 3D object using a quaternion, where all points within the object would be rotated by the quaternion `q_state` at any given point in time"
   ]
  },
  {
   "cell_type": "code",
   "execution_count": 91,
   "id": "0c584947",
   "metadata": {},
   "outputs": [
    {
     "data": {
      "text/plain": [
       "(Quaternion{Int64}(1, 0, 0, 0), Observable(State([1.0, 0.0, 0.0], [0.0, 1.0, 0.0], [0.0, 0.0, 1.0], QuaternionF64(1.0, 0.0, 0.0, 0.0))))"
      ]
     },
     "metadata": {},
     "output_type": "display_data"
    }
   ],
   "source": [
    "q, state"
   ]
  },
  {
   "cell_type": "code",
   "execution_count": 93,
   "id": "60f959af",
   "metadata": {},
   "outputs": [],
   "source": [
    "q = e^(π / 4 * i) # Quaternion representing a rotation around the x-axis by 90 degrees\n",
    "transformations.interpolate_states(state, State(q); rate_function=t -> (1 - cos(t * π)) / 2) # Smoothly transition the state to the new quaternion"
   ]
  },
  {
   "cell_type": "code",
   "execution_count": 95,
   "id": "2aa3f860",
   "metadata": {},
   "outputs": [],
   "source": [
    "q = conversions.axisangle2quat([1,0,0], π / 4) # Convert axis-angle representation to quaternion\n",
    "transformations.interpolate_states(state, State(q); rate_function=t -> (1 - cos(t * π)) / 2) # Smoothly transition the state to the new quaternion"
   ]
  },
  {
   "cell_type": "code",
   "execution_count": 99,
   "id": "6a9d119f",
   "metadata": {},
   "outputs": [],
   "source": [
    "q = Quaternion(1, 0, 0, 0) # Reset to identity quaternion\n",
    "transformations.interpolate_states(state, State(q); rate_function=t -> (1 - cos(t * π)) / 2) # Smoothly transition back to the identity quaternion"
   ]
  },
  {
   "cell_type": "markdown",
   "id": "632d87b6",
   "metadata": {},
   "source": [
    "#### Combining Rotational Operations\n",
    "\n",
    "Mathematically,\n",
    "$$q2*q1=q$$\n",
    "\n",
    "would be interpretet as **$q$ is the quaternion that gives us the net rotation which if applied is equivalent to first applying $q1$, then applying $q2$**\n",
    "\n",
    "(note... left multiplying is the order in which we state global rotational operations... similar to Matrices)"
   ]
  },
  {
   "cell_type": "code",
   "execution_count": 100,
   "id": "4bc43cc1",
   "metadata": {},
   "outputs": [],
   "source": [
    "# Apply 1st rotation\n",
    "q1 = conversions.axisangle2quat([1, 0, 0], π / 2) # 90 degrees around x-axis\n",
    "transformations.interpolate_states(state, State(q1); rate_function=t -> (1 - cos(t * π)) / 2) # Smoothly transition to the first rotation\n",
    "\n",
    "# Apply 2nd rotation\n",
    "q2 = conversions.axisangle2quat([0, 1, 0], π / 2) # 90 degrees around y-axis\n",
    "q = q2*q1 # First apply q1, then q2\n",
    "transformations.interpolate_states(state, State(q); rate_function=t -> (1 - cos(t * π)) / 2) # Smoothly transition to the second rotation"
   ]
  },
  {
   "cell_type": "markdown",
   "id": "c14f4d32",
   "metadata": {},
   "source": [
    "## Angular Velocity"
   ]
  },
  {
   "cell_type": "code",
   "execution_count": 107,
   "id": "24d4c299",
   "metadata": {},
   "outputs": [],
   "source": [
    "axis = normalize([1, 1, 1]) # Rotation axis\n",
    "omega = pi # radians per second\n",
    "dt = 1/30 # 30 FPS\n",
    "q_rot = conversions.axisangle2quat([1, 0, 0], omega * dt) # Small rotation around z-axis\n",
    "\n",
    "for i in 1:30\n",
    "    q = q_rot * state[].q # Apply the small rotation\n",
    "    state[] = State(q) # Update the state\n",
    "    sleep(dt) # Wait for the next frame\n",
    "end"
   ]
  },
  {
   "cell_type": "markdown",
   "id": "b4c3ba49",
   "metadata": {},
   "source": [
    "## SLERP: How to know intermediate states?"
   ]
  },
  {
   "cell_type": "markdown",
   "id": "c8cb0336",
   "metadata": {},
   "source": [
    "```julia\n",
    "function interpolate_states(from::Observable{State}, to::State; n::Int=100, time::Real=1.0, rate_function=t -> t)\n",
    "    # Interpolate between two states from_copy to to with n steps and time duration time\n",
    "    from_copy = from[] # Copy the initial state\n",
    "    for i in 1:n\n",
    "        t = i / n\n",
    "        from[] = State(slerp(from_copy.q, to.q, rate_function(t)))\n",
    "        sleep(time / n) # Sleep for a short duration to control the speed of the animation\n",
    "        yield()\n",
    "    end\n",
    "end\n",
    "```\n",
    "This is the function definition I use to animate from State 1 to State 2.\n",
    "\n",
    "Notice that all I use is the function `slerp(q1, q2, t)`\n",
    "\n",
    "This SLERP function (or Spherical Linear Interpolation) gives you the intermediate quaternion from q1 and q2, for given alpha value t, which ranges from 0 to 1"
   ]
  },
  {
   "cell_type": "markdown",
   "id": "3883d44f",
   "metadata": {},
   "source": [
    "### How does the `slerp` function work for Quaternions?\n",
    "\n",
    "The **Spherical Linear Interpolation (SLERP)** function computes a smooth interpolation between two unit quaternions, `q1` and `q2`, parameterized by `t ∈ [0, 1]`. This is essential for smoothly animating rotations in 3D space.\n",
    "\n",
    "#### Mathematical Principle\n",
    "\n",
    "Given two unit quaternions `q1` and `q2`, the SLERP formula is:\n",
    "\n",
    "$$\n",
    "\\text{slerp}(q_1, q_2, t) = \\frac{\\sin((1-t)\\theta)}{\\sin\\theta} q_1 + \\frac{\\sin(t\\theta)}{\\sin\\theta} q_2\n",
    "$$\n",
    "\n",
    "where $\\theta$ is the angle between `q1` and `q2` in quaternion space, computed as:\n",
    "\n",
    "$$\n",
    "\\cos\\theta = \\langle q_1, q_2 \\rangle\n",
    "$$\n",
    "\n",
    "This formula ensures constant angular velocity and the shortest path on the 4D unit sphere.\n",
    "\n",
    "#### Defining Our Own SLERP Function\n",
    "\n",
    "Suppose we want to transform `q1` to `q2` by some operation $q_\\text{star}$:\n",
    "\n",
    "- By definition, if $q_\\text{star} * q1 = q2$, then $q_\\text{star} = q2 \\cdot q1^{-1}$.\n",
    "- Therefore, the intermediate quaternion at time `t` can be written as:\n",
    "\n",
    "$$\n",
    "q(t) = (q_2 q_1^{-1})^t \\cdot q_1\n",
    "$$\n",
    "\n",
    "- Here, exponentiating the quaternion smoothly scales the rotation angle about the same axis.\n",
    "\n",
    "To understand this process step by step:\n",
    "\n",
    "1. **Find the relative rotation:**  \n",
    "    Compute $q_\\text{star} = q2 \\cdot q1^{-1}$.\n",
    "\n",
    "2. **Extract axis and angle:**  \n",
    "    Use $quat2axisangle(q_\\text{star})$ to get the rotation axis and angle.\n",
    "\n",
    "3. **Define incremental rotation:**  \n",
    "    For $n$ steps, define a small angle increment $d\\theta$ such that $n \\cdot d\\theta = \\text{total angle}$.\n",
    "\n",
    "4. **Apply incremental rotations:**  \n",
    "    At each step, create a quaternion for the small rotation:  \n",
    "    `dq_star = quat2axisangle(axis, dtheta)`\n",
    "\n",
    "5. **Relate to angular velocity:**  \n",
    "    The angular velocity $\\omega$ relates to the increment as $\\omega \\cdot dt = d\\theta$.\n",
    "\n",
    "6. **Iterate:**  \n",
    "    Applying this incremental quaternion $n$ times should take you from `q1` to `q2`.\n",
    "\n",
    "---"
   ]
  },
  {
   "cell_type": "code",
   "execution_count": 108,
   "id": "0a368090",
   "metadata": {},
   "outputs": [
    {
     "data": {
      "text/plain": [
       "custom_slerp_incremental (generic function with 1 method)"
      ]
     },
     "metadata": {},
     "output_type": "display_data"
    }
   ],
   "source": [
    "function custom_slerp_incremental(q1::Quaternion, q2::Quaternion, n::Int)\n",
    "    \"\"\"\n",
    "    Custom SLERP function that returns the incremental quaternion dq_star\n",
    "    which when applied n times takes you from q1 to q2.\n",
    "    \n",
    "    Returns:\n",
    "    - q_star: The total relative rotation quaternion\n",
    "    - axis: The rotation axis\n",
    "    - angle: The total rotation angle\n",
    "    - dq_star: The incremental quaternion to apply n times\n",
    "    \"\"\"\n",
    "    \n",
    "    # Step 1: Find the relative rotation\n",
    "    q_star = q2 * inv(q1)\n",
    "    \n",
    "    # Step 2: Extract axis and angle from q_star\n",
    "    axis, angle = conversions.quat2axisangle(q_star)\n",
    "    \n",
    "    # Handle the case where there's no rotation (angle ≈ 0)\n",
    "    if abs(angle) < 1e-10\n",
    "        return q_star, [1.0, 0.0, 0.0], 0.0, Quaternion(1, 0, 0, 0)\n",
    "    end\n",
    "    \n",
    "    # Step 3: Define incremental rotation\n",
    "    dtheta = angle / n  # Small angle increment\n",
    "    \n",
    "    # Step 4: Create the incremental quaternion\n",
    "    dq_star = conversions.axisangle2quat(axis, dtheta)\n",
    "    \n",
    "    return q_star, axis, angle, dq_star\n",
    "end"
   ]
  },
  {
   "cell_type": "code",
   "execution_count": 113,
   "id": "d8137b66",
   "metadata": {},
   "outputs": [
    {
     "name": "stdout",
     "output_type": "stream",
     "text": [
      "Apply this quaternion 30 times: QuaternionF64(0.9996573249755573, 0.026176948307873142, 1.744200366741944e-33, 1.5702687250760503e-33)\n",
      "Total rotation: 89.99999999999997 degrees around axis: [1.0, 6.663115754472218e-32, 5.998669923658621e-32]\n"
     ]
    }
   ],
   "source": [
    "# Get the incremental quaternion manually\n",
    "q_current = state[].q\n",
    "q_target = conversions.axisangle2quat([1, 0, 0], π/2)  # 90 degrees around z-axis\n",
    "\n",
    "q_star, axis, angle, dq_star = custom_slerp_incremental(q_current, q_target, 30)\n",
    "\n",
    "println(\"Apply this quaternion 30 times: \", dq_star)\n",
    "println(\"Total rotation: $(rad2deg(angle)) degrees around axis: $(axis)\")\n",
    "\n",
    "# Apply it manually like your example\n",
    "for i in 1:30\n",
    "    q = dq_star * state[].q  # Apply the small rotation\n",
    "    state[] = State(q)\n",
    "    sleep(1/30)\n",
    "end"
   ]
  },
  {
   "cell_type": "code",
   "execution_count": null,
   "id": "ef6dc06d",
   "metadata": {},
   "outputs": [],
   "source": []
  }
 ],
 "metadata": {
  "kernelspec": {
   "display_name": "Julia 1.11.5",
   "language": "julia",
   "name": "julia-1.11"
  },
  "language_info": {
   "file_extension": ".jl",
   "mimetype": "application/julia",
   "name": "julia",
   "version": "1.11.5"
  }
 },
 "nbformat": 4,
 "nbformat_minor": 5
}

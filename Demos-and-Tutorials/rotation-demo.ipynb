{
 "cells": [
  {
   "cell_type": "markdown",
   "id": "8191040b",
   "metadata": {},
   "source": [
    "---\n",
    "# Quaternions and States"
   ]
  },
  {
   "cell_type": "code",
   "execution_count": 1,
   "id": "756dafad",
   "metadata": {},
   "outputs": [],
   "source": [
    "using GLMakie, LinearAlgebra, GeometryBasics, Quaternions\n",
    "import Quaternions: Quaternion as Quaternion"
   ]
  },
  {
   "cell_type": "code",
   "execution_count": 2,
   "id": "3b95e1a2",
   "metadata": {},
   "outputs": [
    {
     "data": {
      "text/plain": [
       "display_windows (generic function with 1 method)"
      ]
     },
     "metadata": {},
     "output_type": "display_data"
    }
   ],
   "source": [
    "### Window Management\n",
    "# Define the display_windows function\n",
    "function display_windows(scenes...; names::Vector{String}=String[])\n",
    "    # Create a new window for each scene\n",
    "    if length(scenes) == length(names)\n",
    "        for (scene, name) in zip(scenes, names)\n",
    "\n",
    "            GLMakie.activate!(title=name)\n",
    "            win = GLMakie.Screen()\n",
    "\n",
    "            display(win, scene)\n",
    "        end\n",
    "    else\n",
    "        # Else just do window1, window2...\n",
    "        for (i, scene) in enumerate(scenes)\n",
    "\n",
    "            GLMakie.activate!(title=\"Window $i\")\n",
    "            win = GLMakie.Screen()\n",
    "\n",
    "            display(win, scene)\n",
    "        end\n",
    "    end\n",
    "end### Window Management"
   ]
  },
  {
   "cell_type": "code",
   "execution_count": 3,
   "id": "5bd6ba65",
   "metadata": {},
   "outputs": [
    {
     "name": "stdout",
     "output_type": "stream",
     "text": [
      "Avaialble functions:\n",
      "axisangle2quat\n",
      "quat2axisangle\n",
      "rotate_vector\n",
      "rotmatrix2quat\n",
      "quat2rotmatrix\n",
      "axisangle2rotmatrix\n"
     ]
    }
   ],
   "source": [
    "function quat_from_axisangle(axis::AbstractVector, theta::Real)\n",
    "    if length(axis) != 3\n",
    "        error(\"Must be a 3-vector\")\n",
    "    end\n",
    "    s, c = sincos(theta / 2)\n",
    "    axis = normalize(axis)\n",
    "    return Quaternion(c, s * axis[1], s * axis[2], s * axis[3])\n",
    "end\n",
    "axisangle2quat = quat_from_axisangle\n",
    "\n",
    "function axisangle_from_quat(q::Quaternion)\n",
    "    # Check if approximately unit quaternion\n",
    "    norm_q = norm(q)\n",
    "    if abs(norm_q - 1) > 1e-6\n",
    "        error(\"Quaternion must be unit (norm ≈ 1), got norm = $norm_q\")\n",
    "    end\n",
    "    if norm_q < 1e-10\n",
    "        error(\"Invalid quaternion (zero norm)\")\n",
    "    end\n",
    "\n",
    "    # Normalize to ensure unit quaternion\n",
    "    q = normalize(q)\n",
    "\n",
    "    # Extract scalar and vector parts\n",
    "    w = real(q)\n",
    "    v = Vec{3,Float64}(q.v1, q.v2, q.v3)\n",
    "\n",
    "    # Compute angle: θ = 2 * arccos(w)\n",
    "    theta = 2 * acos(clamp(w, -1.0f0, 1.0f0))\n",
    "\n",
    "    # Compute axis\n",
    "    sin_half_theta = sqrt(1 - w^2)  # sin(θ/2) = sqrt(x^2 + y^2 + z^2)\n",
    "    if sin_half_theta < 1e-6\n",
    "        # θ ≈ 0 or 2π, axis is undefined, use default (e.g., z-axis)\n",
    "        axis = Vec{3,Float64}(0, 0, 1)\n",
    "    else\n",
    "        axis = v / sin_half_theta\n",
    "        # Ensure axis is unit vector\n",
    "        axis_norm = norm(axis)\n",
    "        if axis_norm < 1e-10\n",
    "            axis = Vec{3,Float64}(0, 0, 1)\n",
    "        else\n",
    "            axis = axis / axis_norm\n",
    "        end\n",
    "    end\n",
    "\n",
    "    return axis, Float64(theta)\n",
    "end\n",
    "quat2axisangle = axisangle_from_quat\n",
    "\n",
    "function rotate_vector(q::Quaternion, u::AbstractVector)\n",
    "    if length(u) != 3\n",
    "        error(\"Must be a 3-vector\")\n",
    "    end\n",
    "    q_u = Quaternion(0, u[1], u[2], u[3])\n",
    "    q_v = q * q_u * conj(q)\n",
    "    return [imag_part(q_v)...]\n",
    "end\n",
    "\n",
    "function quat_from_rotmatrix(dcm::AbstractMatrix{T}) where {T<:Real}\n",
    "    tr = dcm[1, 1] + dcm[2, 2] + dcm[3, 3]\n",
    "    if tr > 0\n",
    "        S = sqrt(tr + 1.0) * 2\n",
    "        w = 0.25 * S\n",
    "        x = (dcm[3, 2] - dcm[2, 3]) / S\n",
    "        y = (dcm[1, 3] - dcm[3, 1]) / S\n",
    "        z = (dcm[2, 1] - dcm[1, 2]) / S\n",
    "    elseif (dcm[1, 1] > dcm[2, 2]) && (dcm[1, 1] > dcm[3, 3])\n",
    "        S = sqrt(1.0 + dcm[1, 1] - dcm[2, 2] - dcm[3, 3]) * 2\n",
    "        w = (dcm[3, 2] - dcm[2, 3]) / S\n",
    "        x = 0.25 * S\n",
    "        y = (dcm[1, 2] + dcm[2, 1]) / S\n",
    "        z = (dcm[1, 3] + dcm[3, 1]) / S\n",
    "    elseif dcm[2, 2] > dcm[3, 3]\n",
    "        S = sqrt(1.0 + dcm[2, 2] - dcm[1, 1] - dcm[3, 3]) * 2\n",
    "        w = (dcm[1, 3] - dcm[3, 1]) / S\n",
    "        x = (dcm[1, 2] + dcm[2, 1]) / S\n",
    "        y = 0.25 * S\n",
    "        z = (dcm[2, 3] + dcm[3, 2]) / S\n",
    "    else\n",
    "        S = sqrt(1.0 + dcm[3, 3] - dcm[1, 1] - dcm[2, 2]) * 2\n",
    "        w = (dcm[2, 1] - dcm[1, 2]) / S\n",
    "        x = (dcm[1, 3] + dcm[3, 1]) / S\n",
    "        y = (dcm[2, 3] + dcm[3, 2]) / S\n",
    "        z = 0.25 * S\n",
    "    end\n",
    "    return Quaternion(w, x, y, z)\n",
    "end\n",
    "rotmatrix2quat = quat_from_rotmatrix\n",
    "function rotmatrix_from_quat(q::Quaternion)\n",
    "    sx, sy, sz = 2q.s * q.v1, 2q.s * q.v2, 2q.s * q.v3\n",
    "    xx, xy, xz = 2q.v1^2, 2q.v1 * q.v2, 2q.v1 * q.v3\n",
    "    yy, yz, zz = 2q.v2^2, 2q.v2 * q.v3, 2q.v3^2\n",
    "    r = [1-(yy+zz) xy-sz xz+sy;\n",
    "        xy+sz 1-(xx+zz) yz-sx;\n",
    "        xz-sy yz+sx 1-(xx+yy)]\n",
    "    return r\n",
    "end\n",
    "quat2rotmatrix = rotmatrix_from_quat\n",
    "\n",
    "function axisangle2rotmatrix(axis::AbstractVector, theta::Real)\n",
    "    return rotmatrix_from_quat(quat_from_axisangle(axis, theta))\n",
    "end\n",
    "rotmatrix_from_axisangle = axisangle2rotmatrix\n",
    "\n",
    "\n",
    "println(\"Avaialble functions:\")\n",
    "function_list = [:axisangle2quat, :quat2axisangle, :rotate_vector, :rotmatrix2quat, :quat2rotmatrix, :axisangle2rotmatrix]\n",
    "for f in function_list\n",
    "    println(f)\n",
    "end\n"
   ]
  },
  {
   "cell_type": "code",
   "execution_count": 4,
   "id": "1b35aa0f",
   "metadata": {},
   "outputs": [
    {
     "data": {
      "text/plain": [
       "true"
      ]
     },
     "metadata": {},
     "output_type": "display_data"
    }
   ],
   "source": [
    "axisangle2rotmatrix([0, 0, 1], π / 2) * [1, 0, 0] ≈ [0, 1, 0]# should be [0, 1, 0]"
   ]
  },
  {
   "cell_type": "code",
   "execution_count": 5,
   "id": "20c42eff",
   "metadata": {},
   "outputs": [
    {
     "data": {
      "text/plain": [
       "State"
      ]
     },
     "metadata": {},
     "output_type": "display_data"
    }
   ],
   "source": [
    "\n",
    "\n",
    "mutable struct State\n",
    "    # Define Standard State to be [[0,0,1], [0,1,0], [1,0,0]] and rotation from standard state is null therefore standard q = [1,0,0,0]\n",
    "    ex::Point{3,Float64}\n",
    "    ey::Point{3,Float64}\n",
    "    ez::Point{3,Float64}\n",
    "    q::Quaternion\n",
    "end\n",
    "\n",
    "# State Constructor, given a Quaternion\n",
    "function State(q::Quaternion)\n",
    "    q = normalize(q)\n",
    "\n",
    "    r = quat2rotmatrix(q)\n",
    "    ex = Point{3,Float64}(r[:, 1])\n",
    "    ey = Point{3,Float64}(r[:, 2])\n",
    "    ez = Point{3,Float64}(r[:, 3])\n",
    "    return State(ex, ey, ez, q)\n",
    "end\n",
    "\n",
    "# State Constructor, given state vectors\n",
    "function State(ex::AbstractVector{<:Real}, ey::AbstractVector{<:Real}, ez::AbstractVector{<:Real})\n",
    "    ex_f = Point{3,Float64}(ex)\n",
    "    ey_f = Point{3,Float64}(ey)\n",
    "    ez_f = Point{3,Float64}(ez)\n",
    "\n",
    "    # normalize vectors\n",
    "    ex_f = normalize(ex_f)\n",
    "    ey_f = normalize(ey_f)\n",
    "    ez_f = normalize(ez_f)\n",
    "\n",
    "    # check orthonormality by calculating pairwise dot products\n",
    "    if abs(dot(ex_f, ey_f)) > 1e-6 || abs(dot(ex_f, ez_f)) > 1e-6 || abs(dot(ey_f, ez_f)) > 1e-6\n",
    "        error(\"Vectors are not orthonormal\")\n",
    "    end\n",
    "\n",
    "    q = rotmatrix2quat([Vector(ex_f), Vector(ey_f), Vector(ez_f)])\n",
    "\n",
    "    return State(ex_f, ey_f, ez_f, q)\n",
    "end\n",
    "\n",
    "# State Constructor, given a rotation matrix\n",
    "function State(r::AbstractMatrix{<:Real})\n",
    "    return State(r[:, 1], r[:, 2], r[:, 3])\n",
    "end\n",
    "\n",
    "# Default State\n",
    "State() = State(Quaternion(1.0, 0.0, 0.0, 0.0)) # Default State"
   ]
  },
  {
   "cell_type": "code",
   "execution_count": 6,
   "id": "0ccee825",
   "metadata": {},
   "outputs": [
    {
     "data": {
      "text/plain": [
       "Arrow"
      ]
     },
     "metadata": {},
     "output_type": "display_data"
    }
   ],
   "source": [
    "# Function to create an arrow mesh using native Cylinder and Cone\n",
    "function create_arrow_mesh_native(shaft_length::AbstractFloat, shaft_radius::AbstractFloat, head_length::AbstractFloat, head_base_radius::AbstractFloat, quality::Int=32)\n",
    "    # Convert to Float32 for consistency\n",
    "    sl = Float32(shaft_length)\n",
    "    sr = Float32(shaft_radius)\n",
    "    hl = Float32(head_length)\n",
    "    hbr = Float32(head_base_radius)\n",
    "\n",
    "    # Create the shaft (Cylinder from z=0 to z=shaft_length)\n",
    "    shaft = Cylinder(Point3f(0, 0, 0), Point3f(0, 0, sl), sr)\n",
    "\n",
    "    # Create the arrowhead (Cone from z=shaft_length to z=shaft_length+head_length)\n",
    "    Cone(; quality) = merge([\n",
    "        Makie._circle(Point3f(0, 0, 0), hbr, Vec3f(0, 0, -1), quality),\n",
    "        Makie._mantle(Point3f(0, 0, 0), Point3f(0, 0, hl), hbr, 0f0, quality)\n",
    "    ])\n",
    "    cone = Cone(; quality=quality)\n",
    "\n",
    "    # Convert to meshes\n",
    "    shaft_mesh = GeometryBasics.mesh(shaft)\n",
    "    cone_mesh = GeometryBasics.mesh(cone)\n",
    "\n",
    "    # Translate the cone mesh to sit on top of the shaft\n",
    "    cone_positions = cone_mesh.vertex_attributes[1]\n",
    "    translated_positions = [Point3f(p[1], p[2], p[3] + sl) for p in cone_positions]\n",
    "    cone_faces = cone_mesh.faces\n",
    "    translated_cone_mesh = GeometryBasics.mesh(translated_positions, cone_faces)\n",
    "\n",
    "    # Merge the two meshes\n",
    "    shaft_positions = shaft_mesh.vertex_attributes[1]\n",
    "    shaft_faces = shaft_mesh.faces\n",
    "    cone_base_idx = length(shaft_positions) + 1\n",
    "    merged_positions = vcat(shaft_positions, translated_positions)\n",
    "    merged_faces = vcat(shaft_faces, [GLTriangleFace(f[1] + cone_base_idx - 1, f[2] + cone_base_idx - 1, f[3] + cone_base_idx - 1) for f in cone_faces])\n",
    "    merged_mesh = GeometryBasics.mesh(merged_positions, merged_faces)\n",
    "\n",
    "    return merged_mesh\n",
    "end\n",
    "\n",
    "mutable struct Arrow\n",
    "    tail::Point{3,Float64}\n",
    "    head::Point{3,Float64}\n",
    "    shaft_length::Float64\n",
    "    head_length::Float64\n",
    "    shaft_radius::Float64\n",
    "    head_radius::Float64\n",
    "    quality::Int\n",
    "    mesh::GeometryBasics.Mesh\n",
    "end\n",
    "\n",
    "# Constructor for Arrow given two points\n",
    "function Arrow(tail::Point{3,<:Real}, head::Point{3,<:Real}; arrow_to_body_ratio::Union{Real,Nothing}=nothing, shaft_radius::Union{Real,Nothing}=nothing, head_radius::Union{Real,Nothing}=nothing, quality::Int=32)\n",
    "    tail_f = Point{3,Float64}(tail)\n",
    "    head_f = Point{3,Float64}(head)\n",
    "\n",
    "    arrow_length = norm(head_f - tail_f)\n",
    "\n",
    "    if isnothing(arrow_to_body_ratio)\n",
    "        arrow_to_body_ratio = (1 - exp(-sqrt(arrow_length)) + 2 / 3 + exp(-1 / sqrt(arrow_length)) / 3) / 2\n",
    "    end\n",
    "    shaft_length = Float64(arrow_to_body_ratio) * arrow_length\n",
    "    head_length = arrow_length - shaft_length\n",
    "\n",
    "    if isnothing(shaft_radius)\n",
    "        shaft_radius = head_length / 5\n",
    "    end\n",
    "\n",
    "    if isnothing(head_radius)\n",
    "        head_radius = Float64(shaft_radius) * (3 - arrow_to_body_ratio)\n",
    "    end\n",
    "\n",
    "    base_mesh = create_arrow_mesh_native(shaft_length, Float64(shaft_radius), head_length, Float64(head_radius), quality)\n",
    "\n",
    "    direction = head_f - tail_f # Direction vector from tail to head\n",
    "    length_dir = norm(direction)\n",
    "    if length_dir < 1e-10\n",
    "        println(\"Direction vector has zero length, picking default direction for a small arrow.\")\n",
    "        random_dir = rand(Vec{3,Float64}) .* 1e-5\n",
    "        return Arrow(tail_f, Point{3,Float64}(random_dir); arrow_to_body_ratio=arrow_to_body_ratio, shaft_radius=shaft_radius, head_radius=head_radius, quality=quality)\n",
    "    end\n",
    "\n",
    "    normalized_dir = normalize(direction)\n",
    "\n",
    "    z_axis = Vec{3,Float64}(0, 0, 1)\n",
    "    axis = cross(z_axis, Vec{3,Float64}(normalized_dir))\n",
    "    angle = acos(clamp(dot(z_axis, Vec{3,Float64}(normalized_dir)), -1.0, 1.0))\n",
    "\n",
    "    if norm(axis) < 1e-10\n",
    "        if normalized_dir[3] < 0\n",
    "            rotation = Matrix{Float64}([\n",
    "                1 0 0\n",
    "                0 -1 0\n",
    "                0 0 -1\n",
    "            ])\n",
    "        else\n",
    "            rotation = Matrix{Float64}(I, 3, 3)\n",
    "        end\n",
    "    else\n",
    "        rotation = axisangle2rotmatrix(axis, angle)\n",
    "    end\n",
    "\n",
    "    positions = base_mesh.vertex_attributes[1]\n",
    "    rotated_positions = [Point{3,Float64}(rotation * Vec{3,Float64}(p[1], p[2], p[3])) for p in positions]\n",
    "    faces = base_mesh.faces\n",
    "    translated_positions = [tail_f + p for p in rotated_positions]\n",
    "    translated_mesh = GeometryBasics.mesh(translated_positions, faces)\n",
    "\n",
    "    return Arrow(tail_f, head_f, shaft_length, head_length, Float64(shaft_radius), Float64(head_radius), quality, translated_mesh)\n",
    "end\n",
    "\n",
    "# Constructor for Arrow given a point and a direction vector\n",
    "function Arrow(tail::Point{3,<:Real}, direction::Vec{3,<:Real}; arrow_to_body_ratio::Union{Real,Nothing}=nothing, shaft_radius::Union{Real,Nothing}=nothing, head_radius::Union{Real,Nothing}=nothing, quality::Int=32)\n",
    "    direction_vec = Vec{3,Float64}(direction)\n",
    "    tail_f = Point{3,Float64}(tail)\n",
    "    head = tail_f + normalize(direction_vec) * norm(direction_vec)\n",
    "    return Arrow(tail_f, head; arrow_to_body_ratio=arrow_to_body_ratio, shaft_radius=shaft_radius, head_radius=head_radius, quality=quality)\n",
    "end\n",
    "\n",
    "# Standard Arrow with tail at origin\n",
    "function Arrow(direction::Union{Point{3,<:Real},Vec{3,<:Real}}=Point{3,Float64}(0, 0, 1); arrow_to_body_ratio::Union{Real,Nothing}=nothing, shaft_radius::Union{Real,Nothing}=nothing, head_radius::Union{Real,Nothing}=nothing, quality::Int=32)\n",
    "    tail = Point{3,Float64}(0, 0, 0)\n",
    "    return Arrow(tail, direction; arrow_to_body_ratio=arrow_to_body_ratio, shaft_radius=shaft_radius, head_radius=head_radius, quality=quality)\n",
    "end\n"
   ]
  },
  {
   "cell_type": "code",
   "execution_count": 7,
   "id": "62871132",
   "metadata": {},
   "outputs": [
    {
     "data": {
      "text/plain": [
       "drawState! (generic function with 2 methods)"
      ]
     },
     "metadata": {},
     "output_type": "display_data"
    }
   ],
   "source": [
    "function drawState!(scene::Scene, state::State=State(); location::Point{3,<:Real}=Point(0, 0, 0), scale::Real=1, alpha::Real=1.0)\n",
    "    # Draw the state vectors\n",
    "    ex = state.ex\n",
    "    ey = state.ey\n",
    "    ez = state.ez\n",
    "\n",
    "    # Create arrows for each vector\n",
    "    ex_arrow = Arrow(location, location + scale * ex)\n",
    "    ey_arrow = Arrow(location, location + scale * ey)\n",
    "    ez_arrow = Arrow(location, location + scale * ez)\n",
    "\n",
    "    if alpha != 1\n",
    "        transparency = true\n",
    "    else\n",
    "        transparency = false\n",
    "    end\n",
    "\n",
    "    # Add arrows to the scene\n",
    "    a = mesh!(scene, ex_arrow.mesh; color=(1, 0, 0, alpha), transparency=transparency)\n",
    "    b = mesh!(scene, ey_arrow.mesh; color=(0, 1, 0, alpha), transparency=transparency)\n",
    "    c = mesh!(scene, ez_arrow.mesh; color=(0, 0, 1, alpha), transparency=transparency)\n",
    "\n",
    "    return (a, b, c)\n",
    "end"
   ]
  },
  {
   "cell_type": "markdown",
   "id": "187ee743",
   "metadata": {},
   "source": [
    "---\n",
    "Testing..."
   ]
  },
  {
   "cell_type": "code",
   "execution_count": null,
   "id": "cb37ae0b",
   "metadata": {},
   "outputs": [
    {
     "data": {
      "text/plain": [
       "GLMakie.Screen(...)"
      ]
     },
     "metadata": {},
     "output_type": "display_data"
    }
   ],
   "source": [
    "scene = Scene(camera=cam3d!)\n",
    "drawState!(scene)\n",
    "s = State(Quaternion(rand(4)...))\n",
    "drawState!(scene, s; alpha=0.5, scale=0.5)\n",
    "display(scene)"
   ]
  },
  {
   "cell_type": "code",
   "execution_count": 24,
   "id": "c29eef3d",
   "metadata": {},
   "outputs": [
    {
     "data": {
      "image/png": "[encoded data removed]",
      "text/html": [
       "<img width=600 height=450 style='object-fit: contain; height: auto;' src=\"data:image/png;base64, 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\"/>"
      ]
     },
     "metadata": {},
     "output_type": "display_data"
    },
    {
     "data": {
      "text/plain": [
       "GLMakie.Screen(...)"
      ]
     },
     "metadata": {},
     "output_type": "display_data"
    }
   ],
   "source": [
    "# To Show in inline output in Jupyter, use GLMakie.Makie.inline!(true)\n",
    "GLMakie.Makie.inline!(true)\n",
    "display(scene)"
   ]
  },
  {
   "cell_type": "code",
   "execution_count": 26,
   "id": "1f9d19b6",
   "metadata": {},
   "outputs": [
    {
     "data": {
      "text/plain": [
       "false"
      ]
     },
     "metadata": {},
     "output_type": "display_data"
    }
   ],
   "source": [
    "GLMakie.Makie.inline!(false) # To disable inline output"
   ]
  },
  {
   "cell_type": "code",
   "execution_count": null,
   "id": "d8260a7c",
   "metadata": {},
   "outputs": [
    {
     "data": {
      "text/plain": [
       "GLMakie.Screen(...)"
      ]
     },
     "metadata": {},
     "output_type": "display_data"
    }
   ],
   "source": [
    "# Look at what happens when you multiply two quaternions\n",
    "q0 = Quaternion(1, 0, 0, 0)\n",
    "q1 = axisangle2quat([1, 0, 0], π / 2)\n",
    "q2 = axisangle2quat([0, 1, 0], π / 2)\n",
    "q3 = axisangle2quat([0, 0, 1], π / 2)\n",
    "\n",
    "q12 = q1 * q2\n",
    "q23 = q2 * q3\n",
    "q31 = q3 * q1\n",
    "\n",
    "q123 = q1 * q2 * q3\n",
    "\n",
    "s = Scene(camera=cam3d!)\n",
    "drawState!(s, State(q0); scale=1)\n",
    "display(s)"
   ]
  },
  {
   "cell_type": "code",
   "execution_count": 28,
   "id": "e227bc41",
   "metadata": {},
   "outputs": [
    {
     "data": {
      "text/plain": [
       "(MakieCore.Mesh{Tuple{GeometryBasics.Mesh{3, Float64, NgonFace{3, OffsetInteger{-1, UInt32}}, (:position, :normal), Tuple{Vector{Point{3, Float64}}, Vector{Vec{3, Float32}}}, Vector{NgonFace{3, OffsetInteger{-1, UInt32}}}}}}, MakieCore.Mesh{Tuple{GeometryBasics.Mesh{3, Float64, NgonFace{3, OffsetInteger{-1, UInt32}}, (:position, :normal), Tuple{Vector{Point{3, Float64}}, Vector{Vec{3, Float32}}}, Vector{NgonFace{3, OffsetInteger{-1, UInt32}}}}}}, MakieCore.Mesh{Tuple{GeometryBasics.Mesh{3, Float64, NgonFace{3, OffsetInteger{-1, UInt32}}, (:position, :normal), Tuple{Vector{Point{3, Float64}}, Vector{Vec{3, Float32}}}, Vector{NgonFace{3, OffsetInteger{-1, UInt32}}}}}})"
      ]
     },
     "metadata": {},
     "output_type": "display_data"
    }
   ],
   "source": [
    "drawState!(s, State(q1); scale=0.75, alpha=0.5)"
   ]
  },
  {
   "cell_type": "code",
   "execution_count": 29,
   "id": "480ba6e6",
   "metadata": {},
   "outputs": [
    {
     "data": {
      "text/plain": [
       "(MakieCore.Mesh{Tuple{GeometryBasics.Mesh{3, Float64, NgonFace{3, OffsetInteger{-1, UInt32}}, (:position, :normal), Tuple{Vector{Point{3, Float64}}, Vector{Vec{3, Float32}}}, Vector{NgonFace{3, OffsetInteger{-1, UInt32}}}}}}, MakieCore.Mesh{Tuple{GeometryBasics.Mesh{3, Float64, NgonFace{3, OffsetInteger{-1, UInt32}}, (:position, :normal), Tuple{Vector{Point{3, Float64}}, Vector{Vec{3, Float32}}}, Vector{NgonFace{3, OffsetInteger{-1, UInt32}}}}}}, MakieCore.Mesh{Tuple{GeometryBasics.Mesh{3, Float64, NgonFace{3, OffsetInteger{-1, UInt32}}, (:position, :normal), Tuple{Vector{Point{3, Float64}}, Vector{Vec{3, Float32}}}, Vector{NgonFace{3, OffsetInteger{-1, UInt32}}}}}})"
      ]
     },
     "metadata": {},
     "output_type": "display_data"
    }
   ],
   "source": [
    "drawState!(s, State(q2); scale=0.75, alpha=0.5)\n"
   ]
  },
  {
   "cell_type": "code",
   "execution_count": 30,
   "id": "0c8340b4",
   "metadata": {},
   "outputs": [
    {
     "data": {
      "text/plain": [
       "(MakieCore.Mesh{Tuple{GeometryBasics.Mesh{3, Float64, NgonFace{3, OffsetInteger{-1, UInt32}}, (:position, :normal), Tuple{Vector{Point{3, Float64}}, Vector{Vec{3, Float32}}}, Vector{NgonFace{3, OffsetInteger{-1, UInt32}}}}}}, MakieCore.Mesh{Tuple{GeometryBasics.Mesh{3, Float64, NgonFace{3, OffsetInteger{-1, UInt32}}, (:position, :normal), Tuple{Vector{Point{3, Float64}}, Vector{Vec{3, Float32}}}, Vector{NgonFace{3, OffsetInteger{-1, UInt32}}}}}}, MakieCore.Mesh{Tuple{GeometryBasics.Mesh{3, Float64, NgonFace{3, OffsetInteger{-1, UInt32}}, (:position, :normal), Tuple{Vector{Point{3, Float64}}, Vector{Vec{3, Float32}}}, Vector{NgonFace{3, OffsetInteger{-1, UInt32}}}}}})"
      ]
     },
     "metadata": {},
     "output_type": "display_data"
    }
   ],
   "source": [
    "drawState!(s, State(q123); scale=0.5, alpha=0.25)\n"
   ]
  },
  {
   "cell_type": "code",
   "execution_count": null,
   "id": "f4b3203d",
   "metadata": {},
   "outputs": [
    {
     "name": "stdout",
     "output_type": "stream",
     "text": [
      "true\n"
     ]
    }
   ],
   "source": [
    "q1 = normalize(Quaternion(rand(4)...))\n",
    "q2 = normalize(Quaternion(rand(4)...))\n",
    "qStar = q2 * inv(q1)\n",
    "\n",
    "n = 10000\n",
    "k = rand(1:n) / n\n",
    "axis, theta = quat2axisangle(qStar)\n",
    "qStar_n = axisangle2quat(axis, theta / n)\n",
    "\n",
    "println(qStar * q1 ≈ q2)\n",
    "\n"
   ]
  },
  {
   "cell_type": "code",
   "execution_count": 32,
   "id": "c72b1a1f",
   "metadata": {},
   "outputs": [
    {
     "data": {
      "text/plain": [
       "QuaternionF64(0.7775961289878538, 0.2496958494637606, 0.5055639094661412, 0.27821102851837687)"
      ]
     },
     "metadata": {},
     "output_type": "display_data"
    }
   ],
   "source": [
    "Q1 = copy(q1)\n",
    "for i in 1:k*n\n",
    "    Q1 = qStar_n * Q1\n",
    "end\n",
    "Q1"
   ]
  },
  {
   "cell_type": "code",
   "execution_count": null,
   "id": "16e37ee6",
   "metadata": {},
   "outputs": [
    {
     "data": {
      "text/plain": [
       "QuaternionF64(0.7775961289877468, 0.24969584946372864, 0.5055639094660782, 0.278211028518342)"
      ]
     },
     "metadata": {},
     "output_type": "display_data"
    }
   ],
   "source": [
    "Q2 = axisangle2quat(axis, theta * k) * q1"
   ]
  },
  {
   "cell_type": "code",
   "execution_count": 34,
   "id": "eb7071db",
   "metadata": {},
   "outputs": [
    {
     "data": {
      "text/plain": [
       "true"
      ]
     },
     "metadata": {},
     "output_type": "display_data"
    }
   ],
   "source": [
    "slerp(q1, q2, k) ≈ Q1 ≈ Q2"
   ]
  },
  {
   "cell_type": "markdown",
   "id": "4edd7809",
   "metadata": {},
   "source": [
    "---"
   ]
  },
  {
   "cell_type": "code",
   "execution_count": 12,
   "id": "c468e3e1",
   "metadata": {},
   "outputs": [
    {
     "data": {
      "text/plain": [
       "Task (runnable, started) @0x0000021ff25f7c20"
      ]
     },
     "metadata": {},
     "output_type": "display_data"
    }
   ],
   "source": [
    "# Randomly Rotating Unit Vector \n",
    "\n",
    "using DataStructures: CircularBuffer\n",
    "# Other imports have been done at the start\n",
    "\n",
    "scene = Scene(camera=cam3d!, size=(1920, 1080))\n",
    "drawState!(scene)\n",
    "meshscatter!(scene, (0, 0, 0), marker=:Sphere, color=:yellow, markersize=1, alpha=0.1, transparency=true)\n",
    "\n",
    "# Declare observable parameters q, state and arrow, all linked to the quaternion q\n",
    "q = Observable(Quaternion(1.0, 0.0, 0.0, 0.0))\n",
    "state = lift(State, q) # Creates an observable state\n",
    "arrow = lift(s -> Arrow(normalize(s.ex + s.ey + s.ez)), state) # Creates an observable arrow\n",
    "\n",
    "meshscatter!(scene, (0, 0, 0), marker=lift(a -> a.mesh, arrow), color=:black, markersize=1)\n",
    "\n",
    "\n",
    "\n",
    "# Create a circular buffer to store the last 20 iterations, storing the arrow head\n",
    "n = 200 # Buffer size\n",
    "buffer = CircularBuffer{Point{3,Float64}}(n)\n",
    "for _ in 1:n\n",
    "    push!(buffer, copy(arrow[].head))\n",
    "end\n",
    "buffer_obs = Observable(buffer)\n",
    "\n",
    "\n",
    "\n",
    "# Use buffer_obs in plot\n",
    "lines!(scene, lift(x -> collect(x), buffer_obs), color=[GLMakie.RGBA(0, 0, 0, 1 - i / n) for i in 0:n-1], linewidth=2)\n",
    "\n",
    "\n",
    "# Animation and keypress handling\n",
    "is_running = Observable(true)\n",
    "\n",
    "\n",
    "on(events(scene).keyboardbutton) do event\n",
    "    if event.action == Keyboard.press && event.key == Keyboard.space\n",
    "        is_running[] = !is_running[]\n",
    "        flag = false\n",
    "    end\n",
    "    if event.action == Keyboard.press && event.key == Keyboard.a\n",
    "        global iter = true\n",
    "    end\n",
    "end\n",
    "\n",
    "\n",
    "# Animation loop\n",
    "\n",
    "display(scene)\n",
    "\n",
    "\n",
    "# @async record(scene, \"slerp_with_state_high_quality_v2.mp4\"; framerate = 30) do io\n",
    "@async begin\n",
    "    v = drawState!(scene, State(q[]); alpha=0.5, scale=0.5)\n",
    "\n",
    "    sleep(1) # Wait for the scene to be displayed\n",
    "    iterations = 100 # Number of iterations per slerp\n",
    "    rate_function(t) = sin(t * pi / 2) # Rate function for the animation #f(t=0)=0 and f(t=1)=1\n",
    "\n",
    "    camc = cameracontrols(scene)\n",
    "    iter = 0\n",
    "\n",
    "    while is_running[]\n",
    "        # Generate a random quaternion, slerp it with the current quaternion, and update the observable\n",
    "        q_new = normalize(Quaternion(rand(4)...))\n",
    "        q_old = q[]\n",
    "\n",
    "        # Plot the new target point for the arrow\n",
    "        target_state = State(q_new)\n",
    "        target_point = normalize(target_state.ex + target_state.ey + target_state.ez)\n",
    "        target = meshscatter!(scene, target_point, color=:brown, markersize=0.05, alpha=0.5, transparency=true)\n",
    "\n",
    "        # Draw the target state coordinate basis\n",
    "        u = drawState!(scene, target_state; alpha=0.05, scale=0.5)\n",
    "\n",
    "        # Draw the Axis of rotation\n",
    "        q_star = q_new * inv(q_old)\n",
    "        axis, theta = quat2axisangle(q_star)\n",
    "        about_axis = meshscatter!(scene, (0, 0, 0), marker=Arrow(axis).mesh, color=:gold, markersize=1, alpha=0.5, transparency=true)\n",
    "\n",
    "        # Align with the axis of rotation when iter is changed by pressing 'a' for align\n",
    "        if iter % 3 == 0\n",
    "            update_cam!(scene, camc, Vec3f(axis .* 3), Vec3f(axis), Vec3f(0, 0, 1)) #eyepos, lookat, upvector\n",
    "        end\n",
    "\n",
    "        iter += 1\n",
    "        # Animate the transition from q_old to q_new\n",
    "        # Use the slerp function to interpolate between the two quaternions\n",
    "\n",
    "        for i in 1:iterations\n",
    "\n",
    "            delete!(scene, v[1])\n",
    "            delete!(scene, v[2])\n",
    "            delete!(scene, v[3])\n",
    "\n",
    "            t = i / iterations\n",
    "            q[] = slerp(q_old, q_new, rate_function(t))\n",
    "            # Fix: copy head in animation loop\n",
    "            push!(buffer_obs[], copy(arrow[].head))\n",
    "            buffer_obs[] = buffer_obs[] # Notify the buffer to update the visualization\n",
    "\n",
    "            v = drawState!(scene, State(q[]); alpha=0.5, scale=0.5)\n",
    "\n",
    "            sleep(0.01) # Sleep for a short duration to control the speed of the animation\n",
    "\n",
    "            # recordframe!(io)\n",
    "        end\n",
    "\n",
    "\n",
    "\n",
    "\n",
    "        delete!(scene, target) # Remove the target point after the animation\n",
    "        delete!(scene, u[1])\n",
    "        delete!(scene, u[2])\n",
    "        delete!(scene, u[3])\n",
    "        delete!(scene, about_axis)\n",
    "    end\n",
    "end\n",
    "\n",
    "# display(scene)\n",
    "\n"
   ]
  },
  {
   "cell_type": "code",
   "execution_count": 39,
   "id": "5b836202",
   "metadata": {},
   "outputs": [],
   "source": [
    "using GLMakie: closeall\n",
    "closeall()"
   ]
  },
  {
   "cell_type": "code",
   "execution_count": 17,
   "id": "5c67f16f",
   "metadata": {},
   "outputs": [],
   "source": [
    "# GLMakie.Makie.inline!(true)\n",
    "save(\"curved_motion_poster.png\", scene, px_per_unit=3)\n",
    "# display(scene)"
   ]
  },
  {
   "cell_type": "code",
   "execution_count": 26,
   "id": "5b911f58",
   "metadata": {},
   "outputs": [
    {
     "data": {
      "text/plain": [
       "false"
      ]
     },
     "metadata": {},
     "output_type": "display_data"
    }
   ],
   "source": [
    "GLMakie.Makie.inline!(false)"
   ]
  },
  {
   "cell_type": "markdown",
   "id": "9d2344c8",
   "metadata": {},
   "source": [
    "If you are wondering there is something wrong with this motion since the path is not a great Circle, you are right... This should have been a great circle\n",
    "\n",
    "IF THE GOAL WAS TO MOVE THE ARROW FROM POINT 1 TO POINT 2 ALONE.\n",
    "\n",
    "BUT!\n",
    "\n",
    "Out goal is to also rotate the basis around the Arrow, which is not captured by the point alone! We could have gone around the Great circle, and independently rotated about the arrow to reach the desired target state. That is a custom path you can take\n",
    "\n",
    "BUT! That is not the most efficient path. You can do better...\n",
    "\n",
    "Remember Euler's Theorem on Rotation? You don't need two different rotations. Instead, you can reach the target state by a single rotation. And that rotation, as it turns out is NOT a geodesic (shortest path on the surface) on the 3D sphere we are plotting. But why is it most effective? Because it is the shortest in the 4D hypersphere of the Unit Quaternion.\n",
    "\n",
    "It turns out, these slightly curvy looking paths are indeed the most effective to go from state 1 to state 2... you need to curve out a little to incorporate the rotation around the arrow along with the simple translation of the tip of the arrow from point 1 to point 2.\n",
    "\n",
    "Of course, this might not be what the intend of your mechanism is. In that case, you would have to define custom paths along the Sphere/HyperSphere."
   ]
  },
  {
   "cell_type": "markdown",
   "id": "41095ad5",
   "metadata": {},
   "source": [
    "---\n",
    "## Setup Some conversions between Euler Angles and Quaternions for different Euler Angle Conventions"
   ]
  },
  {
   "cell_type": "markdown",
   "id": "35eb2b88",
   "metadata": {},
   "source": [
    "## Finding the representations of the same physical vector in different frames - Coordinate Transformations\n",
    "\n",
    "We meant  \n",
    "$$\n",
    "v_1 = q_1 v_0 q_1^{-1}\n",
    "$$\n",
    "\n",
    "We want $v_2$ such that  \n",
    "$$\n",
    "v_1 = q_2 v_2 q_2^{-1}\n",
    "$$\n",
    "\n",
    "\\[\n",
    "\\begin{aligned}\n",
    "\\Rightarrow v_2 &= q_2^{-1} v_1 q_2 \\\\\n",
    "&= q_2^{-1} (q_1 v_0 q_1^{-1}) q_2 \\\\\n",
    "&= (q_2^{-1} q_1) v_0 (q_1^{-1} q_2) \\\\\n",
    "&= q^* v_0 q^{*-1}\n",
    "\\end{aligned}\n",
    "\\]\n",
    "\n",
    "where  \n",
    "$$\n",
    "q^* = q_2^{-1} q_1\n",
    "$$\n",
    "\n",
    "$q^*$ takes you from $q_1$ space $\\rightarrow$ std space $\\rightarrow q_2$ space.\n",
    "\n",
    "---\n",
    "\n",
    "So if you have a vector $v_0$ in $q_1$ space, you transform it to the std state.\n",
    "\n",
    "So in std basis, $v_0$ would appear as $q_1 v_0 q_1^{-1}$.\n",
    "\n",
    "To then take this to $q_2$ space by inverse operation of $q_2$:\n",
    "\n",
    "$v_0$ in $q_1$ space would be $q_2^{-1} q_1 v_0 q_1^{-1} q_2$.\n",
    "\n",
    "In std basis:\n",
    "\n",
    "$$\n",
    "q_2^{-1} q_1 v_0 q_1^{-1} q_2 \\quad \\text{(in $q_2$ space)}\n",
    "$$\n",
    "\n",
    "---\n",
    "\n",
    "- The operation is $q_2^{-1} q_1$ (i.e., $q_1 \\rightarrow \\text{std} \\rightarrow q_2$ space).\n",
    "- $q^* = q_2^{-1} q_1$ would be the **change of basis quaternion**.\n"
   ]
  },
  {
   "cell_type": "code",
   "execution_count": 8,
   "id": "e39ce8d7",
   "metadata": {},
   "outputs": [
    {
     "data": {
      "text/plain": [
       "coordinate_transform (generic function with 8 methods)"
      ]
     },
     "metadata": {},
     "output_type": "display_data"
    }
   ],
   "source": [
    "# Following the above mathematics, hoping I derived the correct equations, I can now write a function to convert between different spaces.\n",
    "\n",
    "function change_of_basis_quaternion(from::Quaternion, to::Quaternion)\n",
    "    # Convert q from 'from' basis to 'to' basis\n",
    "    return inv(to) * from\n",
    "end\n",
    "\n",
    "function coordinate_transform(q::Quaternion, from::Quaternion, to::Quaternion=Quaternion(1.0, 0.0, 0.0, 0.0))\n",
    "    # Convert quaternion q from 'from' basis to 'to' basis\n",
    "    change_of_basis = change_of_basis_quaternion(from, to)\n",
    "    return change_of_basis * q * inv(change_of_basis)\n",
    "end\n",
    "\n",
    "function coordinate_transform(q::Quaternion, from::State, to::State=State())\n",
    "    # Convert quaternion q from 'from' basis to 'to' basis\n",
    "    return coordinate_transform(q, from.q, to.q)\n",
    "end\n",
    "\n",
    "function coordinate_transform(v::AbstractVector{<:Real}, from::Quaternion, to::Quaternion=Quaternion(1.0, 0.0, 0.0, 0.0))\n",
    "    # Convert vector v from 'from' basis to 'to' basis\n",
    "    q = Quaternion(0, v...) # Ensure from is a State\n",
    "    transformed_q = coordinate_transform(q, from, to)\n",
    "    return Point{3,Float64}(imag_part(transformed_q))\n",
    "end\n",
    "\n",
    "function coordinate_transform(v::AbstractVector{<:Real}, from::State, to::State=State())\n",
    "    # Convert vector v from 'from' basis to 'to' basis\n",
    "    return coordinate_transform(v, from.q, to.q)\n",
    "end"
   ]
  },
  {
   "cell_type": "code",
   "execution_count": null,
   "id": "9ff842c0",
   "metadata": {},
   "outputs": [
    {
     "data": {
      "text/plain": [
       "MeshScatter{Tuple{Vector{Point{3, Float64}}}}"
      ]
     },
     "metadata": {},
     "output_type": "display_data"
    }
   ],
   "source": [
    "## Testing coordinate transformations for a vector\n",
    "s = Scene(camera=cam3d!)\n",
    "drawState!(s)\n",
    "\n",
    "v0 = Point{3,Float64}([0, 1, 1])\n",
    "# Draw Arrow A represemtoing v0 in the standard state\n",
    "arrow_v0 = Arrow(v0)\n",
    "meshscatter!(s, (0, 0, 0), marker=arrow_v0.mesh, markersize=1, color=:black)\n",
    "\n",
    "display(s)\n",
    "\n",
    "state1 = State(Quaternion(0, 1, 1, 0))\n",
    "drawState!(s, state1; scale=0.75, alpha=0.5)\n",
    "\n",
    "v1 = coordinate_transform(v0, state1) # You transform the vector v0 defined in state1 basis to the standard state basis\n",
    "arrow_v1 = Arrow(v1)\n",
    "meshscatter!(s, (0, 0, 0), marker=arrow_v1.mesh, markersize=0.75, color=:black, alpha=0.5, transparency=true)"
   ]
  },
  {
   "cell_type": "code",
   "execution_count": null,
   "id": "b15e53fb",
   "metadata": {},
   "outputs": [
    {
     "data": {
      "text/plain": [
       "(MakieCore.Mesh{Tuple{GeometryBasics.Mesh{3, Float64, NgonFace{3, OffsetInteger{-1, UInt32}}, (:position, :normal), Tuple{Vector{Point{3, Float64}}, Vector{Vec{3, Float32}}}, Vector{NgonFace{3, OffsetInteger{-1, UInt32}}}}}}, MakieCore.Mesh{Tuple{GeometryBasics.Mesh{3, Float64, NgonFace{3, OffsetInteger{-1, UInt32}}, (:position, :normal), Tuple{Vector{Point{3, Float64}}, Vector{Vec{3, Float32}}}, Vector{NgonFace{3, OffsetInteger{-1, UInt32}}}}}}, MakieCore.Mesh{Tuple{GeometryBasics.Mesh{3, Float64, NgonFace{3, OffsetInteger{-1, UInt32}}, (:position, :normal), Tuple{Vector{Point{3, Float64}}, Vector{Vec{3, Float32}}}, Vector{NgonFace{3, OffsetInteger{-1, UInt32}}}}}})"
      ]
     },
     "metadata": {},
     "output_type": "display_data"
    }
   ],
   "source": [
    "## Testing coordinate transformations for a quaternion describing a rotation\n",
    "\n",
    "axis = [1, 0, 0]\n",
    "angle = π / 2\n",
    "\n",
    "body_fixed_rotation = axisangle2quat(axis, angle) #defined within the state state1\n",
    "\n",
    "# Now we want to represent this rotation in the standard state basis\n",
    "space_fixed_rotation = coordinate_transform(body_fixed_rotation, state1) # This should correspond to the rotation of standard basis around the x-axis defined in local space by π/2\n",
    "\n",
    "drawState!(s, State(space_fixed_rotation); scale=2, alpha=0.5)\n",
    "\n",
    "\n",
    "vertification_state = State(axisangle2quat(coordinate_transform(axis, state1), angle)) # This is the rotation matrix corresponding to the body-fixed rotation\n",
    "drawState!(s, vertification_state; scale=1, alpha=0.5)"
   ]
  },
  {
   "cell_type": "markdown",
   "id": "cd999552",
   "metadata": {},
   "source": [
    "#### Interpolate Transformation that Supports animation of Arrows that are created through lifting Observable Vectors"
   ]
  },
  {
   "cell_type": "code",
   "execution_count": 111,
   "id": "be50f9a4",
   "metadata": {},
   "outputs": [
    {
     "data": {
      "text/plain": [
       "interpolate_vector (generic function with 2 methods)"
      ]
     },
     "metadata": {},
     "output_type": "display_data"
    }
   ],
   "source": [
    "# Defining a interpolate transform function for a list of observable vectors defined in coordinates of State A to coordinates of State B, outputting the standard state representation of the same physical vector in the interpolated states.\n",
    "\n",
    "\n",
    "function interpolate_states(from::Observable{State}, to::State; n::Int=100, time::Real=1.0, rate_function=t -> t)\n",
    "    # Interpolate between two states from_copy to to with n steps and time duration time\n",
    "    from_copy = from[] # Copy the initial state\n",
    "    for i in 1:n\n",
    "        t = i / n\n",
    "        from[] = State(slerp(from_copy.q, to.q, rate_function(t)))\n",
    "        sleep(time / n) # Sleep for a short duration to control the speed of the animation\n",
    "        yield()\n",
    "    end\n",
    "end\n",
    "\n",
    "\n",
    "function interpolate_vector(\n",
    "    v1::Observable{AbstractVector{<:Real}},\n",
    "    v2::AbstractVector{<:Real},\n",
    "    axis::Union{AbstractVector{<:Real},Nothing}=nothing;\n",
    "    n::Int=100, time::Real=1.0, rate_function=t -> t\n",
    ")\n",
    "    # Animate rotation of v1 to v2 about axis (or cross(v1, v2) if axis is nothing)\n",
    "    @async begin\n",
    "        # In principle, rotate_vector(axisangle2quat(axis, angle), v1) should equal v2\n",
    "        # We must find this angle for the 2 vectors v1 and v2 for the given axis \n",
    "        # If the angle exists, we interpolate between the angle and transform v1 into the vectors given by the intermediate angles.\n",
    "        # If the angle does not exist, throw an error.\n",
    "        v_start = copy(v1[])\n",
    "        v_end = normalize(v2)\n",
    "        v0 = normalize(v_start)\n",
    "        if isnothing(axis)\n",
    "            axis = cross(v0, v_end)\n",
    "            if norm(axis) < 1e-8\n",
    "                # Vectors are parallel or anti-parallel\n",
    "                # Pick any perpendicular axis if anti-parallel\n",
    "                if dot(v0, v_end) < 0\n",
    "                    axis = abs(v0[1]) < 0.9 ? cross(v0, [1, 0, 0]) : cross(v0, [0, 1, 0])\n",
    "                else\n",
    "                    # Already aligned, nothing to do\n",
    "                    return\n",
    "                end\n",
    "            end\n",
    "        end\n",
    "        axis = normalize(axis)\n",
    "        angle = acos(clamp(dot(v0, v_end), -1.0, 1.0))\n",
    "        if isnan(angle)\n",
    "            error(\"The angle between the vectors is not defined.\")\n",
    "        end\n",
    "        for i in 1:n\n",
    "            t = i / n\n",
    "            interpolated_angle = angle * rate_function(t)\n",
    "            v_interpolated = rotate_vector(axisangle2quat(axis, interpolated_angle), v_start)\n",
    "            v1[] = v_interpolated\n",
    "            sleep(time / n)\n",
    "        end\n",
    "    end\n",
    "end"
   ]
  },
  {
   "cell_type": "code",
   "execution_count": 223,
   "id": "f94855c5",
   "metadata": {},
   "outputs": [],
   "source": [
    "GLMakie.closeall() # Close all windows"
   ]
  },
  {
   "cell_type": "code",
   "execution_count": 227,
   "id": "0115f1e8",
   "metadata": {},
   "outputs": [
    {
     "data": {
      "text/plain": [
       "GLMakie.Screen(...)"
      ]
     },
     "metadata": {},
     "output_type": "display_data"
    }
   ],
   "source": [
    "# Testing the interpolate_transform function \n",
    "\n",
    "standard_state = State(Quaternion(1.0, 0.0, 0.0, 0.0))\n",
    "state_a = State(axisangle2quat([1.0, 0.0, 0.0], π / 2)) # 90 degrees around x-axis\n",
    "state_b = State(axisangle2quat([0.0, 1.0, 0.0], π / 2)) # 90 degrees around y-axis\n",
    "\n",
    "vector_state = Observable(standard_state)\n",
    "\n",
    "# Create a list of observable vectors\n",
    "obsvectors = [Observable(Point{3,Float64}([1, 0, 0])), Observable(Point{3,Float64}([0, 1, 0])), Observable(Point{3,Float64}([0, 0, 1])), Observable(Point{3,Float64}(normalize([1, 1, 1])))]\n",
    "colors = [:red, :green, :blue, :black] # Colors for the vectors\n",
    "\n",
    "# Create a vector of Observables that are the obsvectors transformed from vector_state to standard_state through lifting 2 variables \n",
    "\n",
    "obsvectors_in_vector_state = [lift((obsvector, vector_state) -> coordinate_transform(obsvector, vector_state), obsvector, vector_state) for obsvector in obsvectors]\n",
    "observables_in_vector_state = [lift(vector_state -> coordinate_transform(obsvector[], vector_state), vector_state) for obsvector in obsvectors]\n",
    "# Draw the initial state\n",
    "s = Scene(camera=cam3d!, size=(1920, 1080))\n",
    "drawState!(s, standard_state; scale=2, alpha=1)\n",
    "# Draw the initial vectors in the standard state using the lift function \n",
    "for i in eachindex(obsvectors_in_vector_state)\n",
    "    meshscatter!(s, (0, 0, 0), marker=lift(v -> Arrow(v).mesh, obsvectors_in_vector_state[i]), color=colors[i], markersize=1, alpha=0.5, transparency=true)\n",
    "end\n",
    "\n",
    "display(s)"
   ]
  },
  {
   "cell_type": "code",
   "execution_count": 229,
   "id": "a9b90678",
   "metadata": {},
   "outputs": [
    {
     "data": {
      "text/plain": [
       "Task (runnable, started) @0x0000025e9bd57840"
      ]
     },
     "metadata": {},
     "output_type": "display_data"
    }
   ],
   "source": [
    "recording = Observable(true)\n",
    "\n",
    "on(events(s).keyboardbutton) do event\n",
    "    if event.action == Keyboard.press && event.key == Keyboard.q\n",
    "        recording[] = false\n",
    "    end\n",
    "end\n",
    "\n",
    "# Use Makie's record function for video\n",
    "@async record(s, \"EulerAnglesWithWing.mp4\"; framerate=30) do io\n",
    "    sleep(1)  # Wait for the scene to be displayed\n",
    "    while isopen(s) && recording[]\n",
    "        recordframe!(io)\n",
    "        sleep(1/30)\n",
    "    end\n",
    "end"
   ]
  },
  {
   "cell_type": "code",
   "execution_count": 132,
   "id": "2fe010e8",
   "metadata": {},
   "outputs": [
    {
     "data": {
      "text/plain": [
       "animate_intrinsic_xyz! (generic function with 1 method)"
      ]
     },
     "metadata": {},
     "output_type": "display_data"
    }
   ],
   "source": [
    "function animate_intrinsic_xyz!(vector_state::Observable{State}, alpha::Real, beta::Real, gamma::Real; n::Int=100, time::Real=1.0, rate_function=t -> t, wait::Real=0.1)\n",
    "    # Step 1: Rotate about current x axis by alpha\n",
    "    qx = axisangle2quat([1.0, 0.0, 0.0], alpha)\n",
    "    q1 = vector_state[].q * qx\n",
    "    state1 = State(q1)\n",
    "    interpolate_states(vector_state, state1; n=n, time=time, rate_function=rate_function)\n",
    "    sleep(wait)\n",
    "\n",
    "    # Step 2: Rotate about new y axis by beta (body y after x rotation)\n",
    "    qy = axisangle2quat([0.0, 1.0, 0.0], beta)\n",
    "    q2 = q1 * qy\n",
    "    state2 = State(q2)\n",
    "    interpolate_states(vector_state, state2; n=n, time=time, rate_function=rate_function)\n",
    "    sleep(wait)\n",
    "\n",
    "    # Step 3: Rotate about new z axis by gamma (body z after x and y rotations)\n",
    "    qz = axisangle2quat([0.0, 0.0, 1.0], gamma)\n",
    "    q3 = q2 * qz\n",
    "    state3 = State(q3)\n",
    "    interpolate_states(vector_state, state3; n=n, time=time, rate_function=rate_function)\n",
    "    sleep(wait)\n",
    "end"
   ]
  },
  {
   "cell_type": "code",
   "execution_count": 170,
   "id": "f88ca60c",
   "metadata": {},
   "outputs": [],
   "source": [
    "# Suppose you already have vector_state = Observable(State())\n",
    "animate_intrinsic_xyz!(vector_state, π/3, π/3, π/3; n=100, time=1.0, rate_function=t -> sin(t * pi / 2))"
   ]
  },
  {
   "cell_type": "code",
   "execution_count": null,
   "id": "c81f517c",
   "metadata": {},
   "outputs": [
    {
     "data": {
      "text/plain": [
       "Task (runnable, started) @0x000001f81413aab0"
      ]
     },
     "metadata": {},
     "output_type": "display_data"
    }
   ],
   "source": [
    "# # Asynchornously interpolate vector_state from standard_state to state_a and then to state_b\n",
    "# n = 100;\n",
    "# time = 1.0;\n",
    "# rate_function = t -> sin(t * pi / 2); # Rate function for the animation #f(t=0)=0 and f(t=1)=1;\n",
    "# @async begin\n",
    "#     for i in 1:n\n",
    "#         t = i / n\n",
    "#         vector_state[] = State(slerp(standard_state.q, state_a.q, rate_function(t)))\n",
    "#         sleep(time / n) # Sleep for a short duration to control the speed of the animation\n",
    "#     end\n",
    "#     sleep(0.5) # Wait for the first interpolation to finish\n",
    "#     for i in 1:n\n",
    "#         t = i / n\n",
    "#         vector_state[] = State(slerp(state_a.q, state_b.q, rate_function(t)))\n",
    "#         sleep(time / n) # Sleep for a short duration to control the speed of the animation\n",
    "#     end\n",
    "# end"
   ]
  },
  {
   "cell_type": "code",
   "execution_count": 230,
   "id": "373ebbef",
   "metadata": {},
   "outputs": [],
   "source": [
    "interpolate_states(vector_state, state_a; n=100, time=1.0, rate_function=t -> sin(t * pi / 2))"
   ]
  },
  {
   "cell_type": "code",
   "execution_count": 231,
   "id": "d906c121",
   "metadata": {},
   "outputs": [],
   "source": [
    "interpolate_states(vector_state, state_b; n=100, time=1.0, rate_function=t -> sin(t * pi / 2))"
   ]
  },
  {
   "cell_type": "code",
   "execution_count": 232,
   "id": "6e17d781",
   "metadata": {},
   "outputs": [],
   "source": [
    "interpolate_states(vector_state, standard_state; n=100, time=1.0, rate_function=t -> sin(t * pi / 2))"
   ]
  },
  {
   "cell_type": "markdown",
   "id": "9f93708f",
   "metadata": {},
   "source": [
    "<video controls width=\"640\">\n",
    "  <source src=\"EulerAngles.mp4\" type=\"video/mp4\">\n",
    "  Your browser does not support the video tag.\n",
    "</video>\n",
    "---"
   ]
  },
  {
   "cell_type": "code",
   "execution_count": 210,
   "id": "c8c9d7bb",
   "metadata": {},
   "outputs": [
    {
     "data": {
      "text/plain": [
       "GLMakie.Screen(...)"
      ]
     },
     "metadata": {},
     "output_type": "display_data"
    }
   ],
   "source": [
    "using GLMakie\n",
    "using FileIO\n",
    "\n",
    "wing = load(assetpath(\"D:/Programming/Flapping Wing Flying Research/Models/edited_wing.STL\"))\n",
    "s = Scene(camera=cam3d!, size=(1920, 1080))\n",
    "drawState!(s; alpha=0.5)\n",
    "wingmesh = meshscatter!(s, (0,0,0), marker=wing, markersize=0.0075; color=:brown, transparency=true, alpha=0.5)\n",
    "display(s)"
   ]
  },
  {
   "cell_type": "code",
   "execution_count": 211,
   "id": "69b0474c",
   "metadata": {},
   "outputs": [
    {
     "data": {
      "text/plain": [
       "GLMakie.Screen(...)"
      ]
     },
     "metadata": {},
     "output_type": "display_data"
    }
   ],
   "source": [
    "using GLMakie\n",
    "using FileIO\n",
    "using LinearAlgebra\n",
    "\n",
    "wing = load(assetpath(\"D:/Programming/Flapping Wing Flying Research/Models/edited_wing.STL\"))\n",
    "s = Scene(camera=cam3d!, size=(1920, 1080))\n",
    "drawState!(s; alpha=0.5)\n",
    "\n",
    "# Define a rotation matrix (e.g., 45 degrees around z-axis)\n",
    "θ = π/4\n",
    "R = [cos(θ) -sin(θ) 0;\n",
    "     sin(θ)  cos(θ) 0;\n",
    "     0        0     1]\n",
    "\n",
    "# Rotate mesh vertices\n",
    "positions = wing.vertex_attributes[1]\n",
    "rotated_positions = [Point3f(R * Vec3f(p)) for p in positions]\n",
    "faces = wing.faces\n",
    "rotated_mesh = GeometryBasics.mesh(rotated_positions, faces)\n",
    "\n",
    "# Display rotated mesh\n",
    "wingmesh = meshscatter!(s, (0,0,0), marker=rotated_mesh, markersize=0.0075; color=:brown, transparency=true, alpha=0.5)\n",
    "display(s)"
   ]
  },
  {
   "cell_type": "code",
   "execution_count": 244,
   "id": "d5b19bb7",
   "metadata": {},
   "outputs": [
    {
     "data": {
      "text/plain": [
       "GLMakie.Screen(...)"
      ]
     },
     "metadata": {},
     "output_type": "display_data"
    }
   ],
   "source": [
    "using GLMakie\n",
    "using FileIO\n",
    "using LinearAlgebra\n",
    "\n",
    "wing = load(assetpath(\"D:/Programming/Flapping Wing Flying Research/Models/edited_wing.STL\"))\n",
    "\n",
    "# Observable for the state (already defined in your code)\n",
    "# vector_state = Observable(standard_state)\n",
    "\n",
    "# Create an observable mesh that rotates with vector_state\n",
    "obswingmesh = lift(vector_state) do st\n",
    "    R = quat2rotmatrix(st.q)\n",
    "    positions = wing.vertex_attributes[1]\n",
    "    rotated_positions = [Point3f(R * Vec3f(p)) for p in positions]\n",
    "    faces = wing.faces\n",
    "    GeometryBasics.mesh(rotated_positions, faces)\n",
    "end\n",
    "\n",
    "s = Scene(camera=cam3d!, size=(1920, 1080))\n",
    "drawState!(s, standard_state; scale=2, alpha=1)\n",
    "\n",
    "# Plot the observable mesh\n",
    "meshscatter!(s, (0,0,0), marker=obswingmesh, markersize=0.0075, color=:brown, transparency=true, alpha=0.5)\n",
    "\n",
    "# (Optional) Plot the observable arrows as before\n",
    "for i in eachindex(obsvectors_in_vector_state)\n",
    "    meshscatter!(s, (0, 0, 0), marker=lift(v -> Arrow(v).mesh, obsvectors_in_vector_state[i]), color=colors[i], markersize=0.5, alpha=0.2, transparency=true)\n",
    "end\n",
    "\n",
    "display(s)"
   ]
  },
  {
   "cell_type": "code",
   "execution_count": 233,
   "id": "d74c11b5",
   "metadata": {},
   "outputs": [],
   "source": [
    "state_up = State(axisangle2quat([1,0,0], π/6))\n",
    "state_down = State(axisangle2quat([1,0,0], -π/6))\n",
    "\n",
    "cycles = 10\n",
    "n = 100\n",
    "time_per_half = 0.25\n",
    "\n",
    "for i in 1:cycles\n",
    "    interpolate_states(vector_state, state_up; n=n, time=time_per_half, rate_function=t -> sin(t * π / 2))\n",
    "    interpolate_states(vector_state, state_down; n=n, time=time_per_half, rate_function=t -> sin(t * π / 2))\n",
    "end"
   ]
  },
  {
   "cell_type": "code",
   "execution_count": 234,
   "id": "6ab278cb",
   "metadata": {},
   "outputs": [],
   "source": [
    "state_up = State(axisangle2quat([1,1,0], π/6))\n",
    "state_down = State(axisangle2quat([1,1,0], -π/6))\n",
    "\n",
    "cycles = 10\n",
    "n = 100\n",
    "time_per_half = 0.25\n",
    "\n",
    "for i in 1:cycles\n",
    "    interpolate_states(vector_state, state_up; n=n, time=time_per_half, rate_function=t -> sin(t * π / 2))\n",
    "    interpolate_states(vector_state, state_down; n=n, time=time_per_half, rate_function=t -> sin(t * π / 2))\n",
    "end"
   ]
  },
  {
   "cell_type": "markdown",
   "id": "cc14e20b",
   "metadata": {},
   "source": [
    "<video controls width=\"640\">\n",
    "  <source src=\"EulerAnglesWithWing.mp4\" type=\"video/mp4\">\n",
    "  Your browser does not support the video tag.\n",
    "</video>"
   ]
  },
  {
   "cell_type": "code",
   "execution_count": 246,
   "id": "1f20512b",
   "metadata": {},
   "outputs": [],
   "source": [
    "state_up = State(axisangle2quat([1,1,0.5], π/3))\n",
    "state_down = State(axisangle2quat([1,1,-0.5], -π/3))\n",
    "\n",
    "cycles = 10\n",
    "n = 100\n",
    "time_per_half = 0.001\n",
    "\n",
    "for i in 1:cycles\n",
    "    interpolate_states(vector_state, state_up; n=n, time=time_per_half, rate_function=t -> sin(t * π / 2))\n",
    "    interpolate_states(vector_state, state_down; n=n, time=time_per_half, rate_function=t -> sin(t * π / 2))\n",
    "end"
   ]
  },
  {
   "cell_type": "code",
   "execution_count": 245,
   "id": "39913049",
   "metadata": {},
   "outputs": [
    {
     "data": {
      "text/plain": [
       "Task (runnable, started) @0x0000025e3fe84da0"
      ]
     },
     "metadata": {},
     "output_type": "display_data"
    }
   ],
   "source": [
    "recording = Observable(true)\n",
    "\n",
    "on(events(s).keyboardbutton) do event\n",
    "    if event.action == Keyboard.press && event.key == Keyboard.q\n",
    "        recording[] = false\n",
    "    end\n",
    "end\n",
    "\n",
    "# Use Makie's record function for video\n",
    "@async record(s, \"EulerAnglesWithWing_4.mp4\"; framerate=60) do io\n",
    "    sleep(1)  # Wait for the scene to be displayed\n",
    "    while isopen(s) && recording[]\n",
    "        recordframe!(io)\n",
    "        sleep(1/10)\n",
    "    end\n",
    "end"
   ]
  },
  {
   "cell_type": "code",
   "execution_count": 1,
   "id": "926ca54d",
   "metadata": {},
   "outputs": [
    {
     "data": {
      "text/plain": [
       "5"
      ]
     },
     "metadata": {},
     "output_type": "display_data"
    }
   ],
   "source": [
    "Threads.nthreads()"
   ]
  },
  {
   "cell_type": "code",
   "execution_count": null,
   "id": "e1ed2421",
   "metadata": {},
   "outputs": [],
   "source": []
  }
 ],
 "metadata": {
  "kernelspec": {
   "display_name": "Julia 1.11.5",
   "language": "julia",
   "name": "julia-1.11"
  },
  "language_info": {
   "file_extension": ".jl",
   "mimetype": "application/julia",
   "name": "julia",
   "version": "1.11.5"
  }
 },
 "nbformat": 4,
 "nbformat_minor": 5
}

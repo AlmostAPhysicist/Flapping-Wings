{
 "cells": [
  {
   "cell_type": "code",
   "execution_count": 1,
   "id": "2c81206a",
   "metadata": {},
   "outputs": [],
   "source": [
    "using GLMakie"
   ]
  },
  {
   "cell_type": "code",
   "execution_count": 2,
   "id": "2c8ef710",
   "metadata": {},
   "outputs": [
    {
     "name": "stdout",
     "output_type": "stream",
     "text": [
      "Convex Hull Faces:\n",
      "Face 1:\n",
      "  P1: (0.0, 0.0, 0.0)\n",
      "  P2: (1.0, 0.0, 0.0)\n",
      "  P3: (0.0, 1.0, 0.0)\n",
      "Face 2:\n",
      "  P1: (0.0, 0.0, 0.0)\n",
      "  P2: (1.0, 0.0, 0.0)\n",
      "  P3: (0.0, 1.0, 0.0)\n",
      "Face 3:\n",
      "  P1: (1.0, 0.0, 0.0)\n",
      "  P2: (0.0, 1.0, 0.0)\n",
      "  P3: (0.0, 0.0, 0.0)\n",
      "Face 4:\n",
      "  P1: (0.0, 1.0, 0.0)\n",
      "  P2: (0.0, 0.0, 0.0)\n",
      "  P3: (1.0, 0.0, 0.0)\n"
     ]
    }
   ],
   "source": [
    "using LinearAlgebra\n",
    "\n",
    "struct Point3D\n",
    "    x::Float64\n",
    "    y::Float64\n",
    "    z::Float64\n",
    "end\n",
    "\n",
    "struct Face\n",
    "    p1::Point3D\n",
    "    p2::Point3D\n",
    "    p3::Point3D\n",
    "end\n",
    "\n",
    "function cross_product(p1::Point3D, p2::Point3D, p3::Point3D)\n",
    "    # Vector from p1 to p2\n",
    "    u = [p2.x - p1.x, p2.y - p1.y, p2.z - p1.z]\n",
    "    # Vector from p1 to p3\n",
    "    v = [p3.x - p1.x, p3.y - p1.y, p3.z - p1.z]\n",
    "    # Cross product\n",
    "    return [\n",
    "        u[2]*v[3] - u[3]*v[2],\n",
    "        u[3]*v[1] - u[1]*v[3],\n",
    "        u[1]*v[2] - u[2]*v[1]\n",
    "    ]\n",
    "end\n",
    "\n",
    "function is_point_above_plane(point::Point3D, face::Face)\n",
    "    # Normal vector of the face\n",
    "    normal = cross_product(face.p1, face.p2, face.p3)\n",
    "    # Vector from face.p1 to point\n",
    "    v = [point.x - face.p1.x, point.y - face.p1.y, point.z - face.p1.z]\n",
    "    # Dot product to check if point is above the plane\n",
    "    return dot(normal, v) > 0\n",
    "end\n",
    "\n",
    "function convex_hull_3d(points::Vector{Point3D})\n",
    "    if length(points) < 4\n",
    "        return Face[]\n",
    "    end\n",
    "\n",
    "    # Find the point with minimum z-coordinate\n",
    "    min_z = minimum(p.z for p in points)\n",
    "    start_point = points[argmin([p.z for p in points])]\n",
    "\n",
    "    # Initialize hull\n",
    "    hull = Face[]\n",
    "    visited = Set{Tuple{Point3D,Point3D}}()\n",
    "    candidates = copy(points)\n",
    "\n",
    "    # Find first face\n",
    "    # Pick two other points to form initial face\n",
    "    p1 = start_point\n",
    "    # Find p2: point not collinear with p1\n",
    "    p2 = nothing\n",
    "    for p in candidates\n",
    "        if p != p1\n",
    "            p2 = p\n",
    "            break\n",
    "        end\n",
    "    end\n",
    "    if p2 === nothing\n",
    "        return Face[]\n",
    "    end\n",
    "\n",
    "    # Find p3: point not coplanar with p1, p2\n",
    "    p3 = nothing\n",
    "    for p in candidates\n",
    "        if p != p1 && p != p2\n",
    "            normal = cross_product(p1, p2, p)\n",
    "            if norm(normal) > 1e-10  # Not collinear\n",
    "                p3 = p\n",
    "                break\n",
    "            end\n",
    "        end\n",
    "    end\n",
    "    if p3 === nothing\n",
    "        return Face[]\n",
    "    end\n",
    "\n",
    "    # Create first face\n",
    "    first_face = Face(p1, p2, p3)\n",
    "    \n",
    "    # Ensure normal points outward\n",
    "    # Check if most points are below the plane\n",
    "    above_count = sum(is_point_above_plane(p, first_face) for p in candidates)\n",
    "    if above_count > length(candidates)/2\n",
    "        first_face = Face(p1, p3, p2)  # Reverse orientation\n",
    "    end\n",
    "\n",
    "    # Initialize queue with edges of first face\n",
    "    edges = [\n",
    "        (first_face.p1, first_face.p2),\n",
    "        (first_face.p2, first_face.p3),\n",
    "        (first_face.p3, first_face.p1)\n",
    "    ]\n",
    "    push!(hull, first_face)\n",
    "\n",
    "    while !isempty(edges)\n",
    "        edge = popfirst!(edges)\n",
    "        if edge in visited\n",
    "            continue\n",
    "        end\n",
    "        push!(visited, edge)\n",
    "\n",
    "        # Find the point that forms the next face with this edge\n",
    "        best_point = nothing\n",
    "        best_angle = -Inf\n",
    "        edge_vec = [edge[2].x - edge[1].x, edge[2].y - edge[1].y, edge[2].z - edge[1].z]\n",
    "        \n",
    "        for p in candidates\n",
    "            if p != edge[1] && p != edge[2]\n",
    "                # Create temporary face\n",
    "                temp_face = Face(edge[1], edge[2], p)\n",
    "                normal = cross_product(edge[1], edge[2], p)\n",
    "                if norm(normal) > 1e-10  # Not coplanar\n",
    "                    # Calculate angle between planes\n",
    "                    prev_normal = cross_product(hull[end].p1, hull[end].p2, hull[end].p3)\n",
    "                    angle = dot(normal, prev_normal)/(norm(normal)*norm(prev_normal))\n",
    "                    if angle > best_angle\n",
    "                        best_angle = angle\n",
    "                        best_point = p\n",
    "                    end\n",
    "                end\n",
    "            end\n",
    "        end\n",
    "\n",
    "        if best_point !== nothing\n",
    "            new_face = Face(edge[1], edge[2], best_point)\n",
    "            # Ensure normal points outward\n",
    "            above_count = sum(is_point_above_plane(p, new_face) for p in candidates)\n",
    "            if above_count > length(candidates)/2\n",
    "                new_face = Face(edge[1], best_point, edge[2])\n",
    "            end\n",
    "            \n",
    "            push!(hull, new_face)\n",
    "            \n",
    "            # Add new edges to queue\n",
    "            new_edges = [\n",
    "                (new_face.p1, new_face.p2),\n",
    "                (new_face.p2, new_face.p3),\n",
    "                (new_face.p3, new_face.p1)\n",
    "            ]\n",
    "            \n",
    "            for new_edge in new_edges\n",
    "                if new_edge ∉ visited\n",
    "                    push!(edges, new_edge)\n",
    "                end\n",
    "            end\n",
    "        end\n",
    "    end\n",
    "\n",
    "    return hull\n",
    "end\n",
    "\n",
    "# Example usage\n",
    "function main()\n",
    "    points = [\n",
    "        Point3D(0.0, 0.0, 0.0),\n",
    "        Point3D(1.0, 0.0, 0.0),\n",
    "        Point3D(0.0, 1.0, 0.0),\n",
    "        Point3D(0.0, 0.0, 1.0),\n",
    "        Point3D(1.0, 1.0, 1.0),\n",
    "        Point3D(0.5, 0.5, 0.5)\n",
    "    ]\n",
    "    \n",
    "    hull = convex_hull_3d(points)\n",
    "    \n",
    "    println(\"Convex Hull Faces:\")\n",
    "    for (i, face) in enumerate(hull)\n",
    "        println(\"Face $i:\")\n",
    "        println(\"  P1: ($(face.p1.x), $(face.p1.y), $(face.p1.z))\")\n",
    "        println(\"  P2: ($(face.p2.x), $(face.p2.y), $(face.p2.z))\")\n",
    "        println(\"  P3: ($(face.p3.x), $(face.p3.y), $(face.p3.z))\")\n",
    "    end\n",
    "end\n",
    "\n",
    "main()"
   ]
  },
  {
   "cell_type": "code",
   "execution_count": 5,
   "id": "254547b3",
   "metadata": {},
   "outputs": [
    {
     "data": {
      "text/plain": [
       "Vector{Face}\u001b[90m (alias for \u001b[39m\u001b[90mArray{Face, 1}\u001b[39m\u001b[90m)\u001b[39m"
      ]
     },
     "metadata": {},
     "output_type": "display_data"
    }
   ],
   "source": [
    "typeof(convex_hull_3d([Point3D(0, 0, 0), Point3D(1, 0, 0), Point3D(0, 1, 0), Point3D(0, 0, 1)]))"
   ]
  },
  {
   "cell_type": "code",
   "execution_count": 25,
   "id": "1198c0c2",
   "metadata": {},
   "outputs": [],
   "source": [
    "GLMakie.GeometryBasics.mesh(hull::Vector{Face}) = GLMakie.GeometryBasics.Mesh(\n",
    "    vertices = [Point3{Float64}(p.x, p.y, p.z) for face in hull for p in [face.p1, face.p2, face.p3]],\n",
    "    faces = [[i, i+1, i+2] for i in 1:3:length(hull)*3]\n",
    ")"
   ]
  },
  {
   "cell_type": "code",
   "execution_count": 29,
   "id": "7c45d9c8",
   "metadata": {},
   "outputs": [],
   "source": [
    "vertices = [Point3f(0, 0, 0), Point3f(1, 0, 0), Point3f(0, 1, 0), Point3f(0, 0, 1)]\n",
    "faces = [\n",
    "    1 2 3\n",
    "    2 3 4\n",
    "    ]  # Note the space-separated matrix\n",
    "\n",
    "mesh(vertices, faces)"
   ]
  },
  {
   "cell_type": "code",
   "execution_count": 33,
   "id": "9b197098",
   "metadata": {},
   "outputs": [
    {
     "data": {
      "text/plain": [
       "4-element Vector{Vector{Int64}}:\n",
       " [1, 2, 3]\n",
       " [4, 5, 6]\n",
       " [7, 8, 9]\n",
       " [10, 11, 12]"
      ]
     },
     "metadata": {},
     "output_type": "display_data"
    }
   ],
   "source": [
    "A = [[i, i+1, i+2] for i in 1:3:4*3]"
   ]
  },
  {
   "cell_type": "code",
   "execution_count": 1,
   "id": "548decfb",
   "metadata": {},
   "outputs": [
    {
     "ename": "UndefVarError",
     "evalue": "UndefVarError: `Face` not defined in `Main`\nSuggestion: check for spelling errors or missing imports.\nHint: a global variable of this name may be made accessible by importing StyledStrings in the current active module Main",
     "output_type": "error",
     "traceback": [
      "UndefVarError: `Face` not defined in `Main`\n",
      "Suggestion: check for spelling errors or missing imports.\n",
      "Hint: a global variable of this name may be made accessible by importing StyledStrings in the current active module Main\n",
      "\n",
      "Stacktrace:\n",
      " [1] top-level scope\n",
      "   @ d:\\Programming\\Flapping Wing Flying Research\\Demos-and-Tutorials\\jl_notebook_cell_df34fa98e69747e1a8f8a730347b8e2f_W6sZmlsZQ==.jl:2"
     ]
    }
   ],
   "source": [
    "import GLMakie\n",
    "function GLMakie.GeometryBasics.Mesh(hull::Vector{Face})\n",
    "    vertices = [Point3f(p.x, p.y, p.z) for face in hull for p in [face.p1, face.p2, face.p3]]\n",
    "    faces = [[i, i+1, i+2] for i in 1:3:length(hull)*3]\n",
    "    faces = GLMakie.GeometryBasics.NgonFace{3, Int}[faces...]\n",
    "    return GLMakie.GeometryBasics.Mesh(vertices, faces)\n",
    "end"
   ]
  },
  {
   "cell_type": "code",
   "execution_count": 67,
   "id": "c004ce7b",
   "metadata": {},
   "outputs": [
    {
     "data": {
      "text/plain": [
       "Mesh{3, Float32, GeometryBasics.TriangleFace{Int64}}\n",
       "    faces: 4\n",
       "    vertex position: 12\n"
      ]
     },
     "metadata": {},
     "output_type": "display_data"
    }
   ],
   "source": [
    "M = GLMakie.GeometryBasics.Mesh(convex_hull_3d([Point3D(0, 0, 0), Point3D(1, 0, 0), Point3D(0, 1, 0), Point3D(0, 0, 1)]))"
   ]
  },
  {
   "cell_type": "code",
   "execution_count": 69,
   "id": "6d68ca8d",
   "metadata": {},
   "outputs": [],
   "source": [
    "mesh(M)"
   ]
  },
  {
   "cell_type": "code",
   "execution_count": 2,
   "id": "f2c7cc10",
   "metadata": {},
   "outputs": [
    {
     "data": {
      "text/plain": [
       "2-element Vector{GeometryBasics.TriangleFace{Int64}}:\n",
       " TriangleFace{Int64}(1, 2, 3)\n",
       " TriangleFace{Int64}(4, 5, 6)"
      ]
     },
     "metadata": {},
     "output_type": "display_data"
    }
   ],
   "source": [
    "GLMakie.GeometryBasics.NgonFace{3, Int}[\n",
    "    [1 2 3],\n",
    "    [4 5 6]\n",
    "]"
   ]
  },
  {
   "cell_type": "code",
   "execution_count": 3,
   "id": "ba1776f7",
   "metadata": {},
   "outputs": [
    {
     "data": {
      "text/plain": [
       "2-element Vector{GeometryBasics.TriangleFace{Int64}}:\n",
       " TriangleFace{Int64}(1, 2, 3)\n",
       " TriangleFace{Int64}(4, 5, 6)"
      ]
     },
     "metadata": {},
     "output_type": "display_data"
    }
   ],
   "source": [
    "A = [[1,2,3], [4,5,6]]\n",
    "GLMakie.GeometryBasics.NgonFace{3, Int}[A...]"
   ]
  },
  {
   "cell_type": "code",
   "execution_count": 4,
   "id": "27ffdb59",
   "metadata": {},
   "outputs": [
    {
     "data": {
      "text/plain": [
       "2-element Vector{Vector{Int64}}:\n",
       " [1, 2, 3]\n",
       " [4, 5, 6]"
      ]
     },
     "metadata": {},
     "output_type": "display_data"
    }
   ],
   "source": [
    "B = [A...]"
   ]
  },
  {
   "cell_type": "code",
   "execution_count": 36,
   "id": "e76387c9",
   "metadata": {},
   "outputs": [
    {
     "data": {
      "text/plain": [
       "Mesh{3, Float32, GeometryBasics.TriangleFace{Int64}}\n",
       "    faces: 2\n",
       "    vertex position: 4\n"
      ]
     },
     "metadata": {},
     "output_type": "display_data"
    }
   ],
   "source": [
    "using GLMakie\n",
    "import GLMakie.GeometryBasics\n",
    "\n",
    "# Example of a mesh\n",
    "S = GeometryBasics.mesh(GeometryBasics.Sphere(Point3(0.0, 0.0, 0.0), 1.0))\n",
    "\n",
    "S_vertices = S.vertex_attributes[1]  #\n",
    "# 576-element Vector{Point{3, Float64}}:\n",
    "#  [0.0, 0.0, 1.0]\n",
    "#  [0.1361666490962466, 0.0, 0.9906859460363308]\n",
    "#  [0.2697967711570243, 0.0, 0.9629172873477994]\n",
    "#  .\n",
    "#  .\n",
    "#  .\n",
    "\n",
    "\n",
    "S_faces = S.faces  \n",
    "# 1058-element Vector{GeometryBasics.NgonFace{3, GeometryBasics.OffsetInteger{-1, UInt32}}}:\n",
    "#  GLTriangleFace(1, 2, 26)\n",
    "#  GLTriangleFace(1, 26, 25)\n",
    "#  .\n",
    "#  .\n",
    "#  .\n",
    "\n",
    "[Int(S_faces[1][index].i) for index in 1:length(S_faces[1])]\n",
    "# 3-element Vector{Int64}:\n",
    "#   0\n",
    "#   1\n",
    "#  25\n",
    "\n",
    "\n",
    "# # Example of how you would create your own mesh\n",
    "vertices = [Point3f(0, 0, 0), Point3f(1, 0, 0), Point3f(0, 1, 0), Point3f(0, 0, 1)]\n",
    "faces = [[1, 2, 3], [2, 3, 4]]  # Note the space-separated matrix\n",
    "faces = GLMakie.GeometryBasics.NgonFace{3, Int}[faces...]\n",
    "GLMakie.GeometryBasics.Mesh(vertices, faces)\n",
    "\n"
   ]
  },
  {
   "cell_type": "code",
   "execution_count": 26,
   "id": "46b9a205",
   "metadata": {},
   "outputs": [
    {
     "data": {
      "text/plain": [
       "(:i,)"
      ]
     },
     "metadata": {},
     "output_type": "display_data"
    }
   ],
   "source": [
    "fieldnames(GLMakie.GLIndex)"
   ]
  },
  {
   "cell_type": "code",
   "execution_count": 37,
   "id": "24f15baf",
   "metadata": {},
   "outputs": [],
   "source": [
    "using GLMakie\n",
    "import GLMakie.GeometryBasics\n",
    "using LinearAlgebra\n",
    "using DataStructures  # For priority queue"
   ]
  },
  {
   "cell_type": "code",
   "execution_count": 46,
   "id": "69a46096",
   "metadata": {},
   "outputs": [
    {
     "data": {
      "text/plain": [
       "Mesh{3, Float32, GeometryBasics.TriangleFace{Int64}}\n",
       "    faces: 504\n",
       "    vertex position: 288\n"
      ]
     },
     "metadata": {},
     "output_type": "display_data"
    }
   ],
   "source": [
    "using GLMakie\n",
    "import GLMakie.GeometryBasics\n",
    "using LinearAlgebra\n",
    "using DataStructures  # For priority queue\n",
    "using Statistics: mean\n",
    "\n",
    "# Compute triangle quality (aspect ratio: longest edge / shortest edge)\n",
    "function compute_triangle_quality(vertices::Vector{Point3f}, face::GeometryBasics.NgonFace{3, Int})\n",
    "    v0 = vertices[face[1]]\n",
    "    v1 = vertices[face[2]]\n",
    "    v2 = vertices[face[3]]\n",
    "    edges = [\n",
    "        norm(v1 - v0),\n",
    "        norm(v2 - v1),\n",
    "        norm(v0 - v2)\n",
    "    ]\n",
    "    shortest = minimum(edges)\n",
    "    longest = maximum(edges)\n",
    "    return shortest > 0 ? longest / shortest : Inf\n",
    "end\n",
    "\n",
    "# Compute cost of collapsing an edge, balancing geometric error and triangle quality\n",
    "function compute_collapse_cost(vertices::Vector{Point3f}, faces::Vector{GeometryBasics.NgonFace{3, Int}}, edge::Tuple{Int, Int})\n",
    "    v1, v2 = edge\n",
    "    v_new = (vertices[v1] + vertices[v2]) / 2  # Midpoint (could optimize position)\n",
    "    \n",
    "    # Find affected faces (those containing v1 or v2)\n",
    "    affected_faces = [f for f in faces if v1 in f || v2 in f]\n",
    "    \n",
    "    # Geometric error (distance between vertices)\n",
    "    error = norm(vertices[v1] - vertices[v2])\n",
    "    \n",
    "    # Simulate collapse and compute average aspect ratio of resulting triangles\n",
    "    temp_vertices = copy(vertices)\n",
    "    temp_vertices[v1] = v_new\n",
    "    temp_vertices[v2] = v_new\n",
    "    aspect_ratios = Float64[]\n",
    "    for face in affected_faces\n",
    "        new_face = [idx == v1 || idx == v2 ? v1 : idx for idx in face]\n",
    "        if length(unique(new_face)) == 3  # Non-degenerate triangle\n",
    "            push!(aspect_ratios, compute_triangle_quality(temp_vertices, GeometryBasics.NgonFace{3, Int}(new_face...)))\n",
    "        end\n",
    "    end\n",
    "    \n",
    "    # Penalize poor triangle quality\n",
    "    avg_aspect_ratio = isempty(aspect_ratios) ? 1.0 : mean(aspect_ratios)\n",
    "    cost = error + 5.0 * max(0, avg_aspect_ratio - 1.0)  # Weight quality penalty\n",
    "    return cost\n",
    "end\n",
    "\n",
    "# Extract unique edges from faces\n",
    "function get_edges(faces::Vector{GeometryBasics.NgonFace{3, Int}})\n",
    "    edges = Set{Tuple{Int, Int}}()\n",
    "    for face in faces\n",
    "        v1, v2, v3 = face\n",
    "        push!(edges, tuple(sort([v1, v2])...))\n",
    "        push!(edges, tuple(sort([v2, v3])...))\n",
    "        push!(edges, tuple(sort([v1, v3])...))\n",
    "    end\n",
    "    return collect(edges)\n",
    "end\n",
    "\n",
    "# Simplify mesh while optimizing for well-sized triangles\n",
    "function simplify_mesh_well_sized(vertices::Vector{Point3f}, faces::Vector{GeometryBasics.NgonFace{3, Int}}, target_vertex_count::Int)\n",
    "    vertices = copy(vertices)\n",
    "    faces = copy(faces)\n",
    "    \n",
    "    # Initialize priority queue with edge costs\n",
    "    edges = get_edges(faces)\n",
    "    edge_queue = PriorityQueue{Tuple{Int, Int}, Float64}()\n",
    "    for edge in edges\n",
    "        enqueue!(edge_queue, edge, compute_collapse_cost(vertices, faces, edge))\n",
    "    end\n",
    "    \n",
    "    # Track vertex mapping - use Dict for cleaner mapping\n",
    "    vertex_map = Dict{Int, Int}()\n",
    "    for i in 1:length(vertices)\n",
    "        vertex_map[i] = i\n",
    "    end\n",
    "    \n",
    "    # Collapse edges until target is reached\n",
    "    while length(unique(values(vertex_map))) > target_vertex_count && !isempty(edge_queue)\n",
    "        edge, cost = dequeue_pair!(edge_queue)\n",
    "        v1, v2 = edge\n",
    "        \n",
    "        # Skip if vertices already merged\n",
    "        if vertex_map[v1] == vertex_map[v2]\n",
    "            continue\n",
    "        end\n",
    "        \n",
    "        # Create new vertex at midpoint\n",
    "        v_new = (vertices[v1] + vertices[v2]) / 2\n",
    "        push!(vertices, v_new)\n",
    "        new_idx = length(vertices)\n",
    "        \n",
    "        # Update vertex mapping - map both vertices to new index\n",
    "        old_v1_idx = vertex_map[v1]\n",
    "        old_v2_idx = vertex_map[v2]\n",
    "        \n",
    "        # Update all vertices that were mapped to either v1 or v2\n",
    "        for (k, v) in vertex_map\n",
    "            if v == old_v1_idx || v == old_v2_idx\n",
    "                vertex_map[k] = new_idx\n",
    "            end\n",
    "        end\n",
    "        \n",
    "        # Add mapping for the new vertex\n",
    "        vertex_map[new_idx] = new_idx\n",
    "        \n",
    "        # Update faces with new mapping\n",
    "        new_faces = GeometryBasics.NgonFace{3, Int}[]\n",
    "        for face in faces\n",
    "            new_face = [vertex_map[idx] for idx in face]\n",
    "            if length(unique(new_face)) == 3  # Keep non-degenerate faces\n",
    "                push!(new_faces, GeometryBasics.NgonFace{3, Int}(new_face...))\n",
    "            end\n",
    "        end\n",
    "        faces = new_faces\n",
    "        \n",
    "        # Update edge list and recompute costs\n",
    "        edges = get_edges(faces)\n",
    "        edge_queue = PriorityQueue{Tuple{Int, Int}, Float64}()\n",
    "        for edge in edges\n",
    "            if haskey(vertex_map, edge[1]) && haskey(vertex_map, edge[2])\n",
    "                enqueue!(edge_queue, edge, compute_collapse_cost(vertices, faces, edge))\n",
    "            end\n",
    "        end\n",
    "    end\n",
    "    \n",
    "    # Clean up vertices and reindex faces\n",
    "    used_vertices = unique([idx for face in faces for idx in face])\n",
    "    sort!(used_vertices)\n",
    "    \n",
    "    # Create final vertex mapping\n",
    "    final_vertex_map = Dict{Int, Int}()\n",
    "    for (new_idx, old_idx) in enumerate(used_vertices)\n",
    "        final_vertex_map[old_idx] = new_idx\n",
    "    end\n",
    "    \n",
    "    # Create final vertices and faces\n",
    "    final_vertices = vertices[used_vertices]\n",
    "    final_faces = [GeometryBasics.NgonFace{3, Int}([final_vertex_map[idx] for idx in face]...) for face in faces]\n",
    "    \n",
    "    return final_vertices, final_faces\n",
    "end\n",
    "\n",
    "# Example: Simplify sphere mesh and visualize\n",
    "function main()\n",
    "    # Create sphere mesh\n",
    "    S = GeometryBasics.mesh(GeometryBasics.Sphere(Point3f(0.0, 0.0, 0.0), 1.0))\n",
    "    vertices = S.position  # Vector{Point3f}\n",
    "    faces = S.faces       # Vector{NgonFace{3, OffsetInteger{-1, UInt32}}}\n",
    "    \n",
    "    # Convert faces to use 1-based indexing\n",
    "    faces = [GeometryBasics.NgonFace{3, Int}([Int(f[i].i) + 1 for i in 1:3]...) for f in faces]\n",
    "    \n",
    "    # Simplify to 50% of original vertices\n",
    "    target_vertices = Int(round(length(vertices) * 0.5))\n",
    "    new_vertices, new_faces = simplify_mesh_well_sized(vertices, faces, target_vertices)\n",
    "    \n",
    "    # Create new mesh\n",
    "    new_mesh = GeometryBasics.Mesh(new_vertices, new_faces)\n",
    "    \n",
    "    # Visualize original and simplified meshes\n",
    "    fig = Figure()\n",
    "    \n",
    "    # Original mesh\n",
    "    ax1 = Axis3(fig[1, 1], title=\"Original Mesh\")\n",
    "    mesh!(ax1, S, color=:blue)\n",
    "    \n",
    "    # Simplified mesh\n",
    "    ax2 = Axis3(fig[1, 2], title=\"Simplified Mesh\")\n",
    "    mesh!(ax2, new_mesh, color=:red)\n",
    "    \n",
    "    display(fig)\n",
    "    \n",
    "    return new_mesh\n",
    "end\n",
    "\n",
    "Edit = main()"
   ]
  },
  {
   "cell_type": "code",
   "execution_count": 47,
   "id": "61b4b401",
   "metadata": {},
   "outputs": [],
   "source": [
    "mesh(Edit)"
   ]
  },
  {
   "cell_type": "code",
   "execution_count": 38,
   "id": "ca58b8e0",
   "metadata": {},
   "outputs": [
    {
     "ename": "ArgumentError",
     "evalue": "ArgumentError: Package DataStructures not found in current path.\n- Run `import Pkg; Pkg.add(\"DataStructures\")` to install the DataStructures package.",
     "output_type": "error",
     "traceback": [
      "ArgumentError: Package DataStructures not found in current path.\n",
      "- Run `import Pkg; Pkg.add(\"DataStructures\")` to install the DataStructures package.\n",
      "\n",
      "Stacktrace:\n",
      "  [1] macro expansion\n",
      "    @ .\\loading.jl:2296 [inlined]\n",
      "  [2] macro expansion\n",
      "    @ .\\lock.jl:273 [inlined]\n",
      "  [3] __require(into::Module, mod::Symbol)\n",
      "    @ Base .\\loading.jl:2271\n",
      "  [4] #invoke_in_world#3\n",
      "    @ .\\essentials.jl:1089 [inlined]\n",
      "  [5] invoke_in_world\n",
      "    @ .\\essentials.jl:1086 [inlined]\n",
      "  [6] require(into::Module, mod::Symbol)\n",
      "    @ Base .\\loading.jl:2260\n",
      "  [7] eval\n",
      "    @ .\\boot.jl:430 [inlined]\n",
      "  [8] include_string(mapexpr::typeof(REPL.softscope), mod::Module, code::String, filename::String)\n",
      "    @ Base .\\loading.jl:2734\n",
      "  [9] #invokelatest#2\n",
      "    @ .\\essentials.jl:1055 [inlined]\n",
      " [10] invokelatest\n",
      "    @ .\\essentials.jl:1052 [inlined]\n",
      " [11] (::VSCodeServer.var\"#217#218\"{VSCodeServer.NotebookRunCellArguments, String})()\n",
      "    @ VSCodeServer c:\\Users\\aryan\\.vscode\\extensions\\julialang.language-julia-1.149.2\\scripts\\packages\\VSCodeServer\\src\\serve_notebook.jl:24\n",
      " [12] withpath(f::VSCodeServer.var\"#217#218\"{VSCodeServer.NotebookRunCellArguments, String}, path::String)\n",
      "    @ VSCodeServer c:\\Users\\aryan\\.vscode\\extensions\\julialang.language-julia-1.149.2\\scripts\\packages\\VSCodeServer\\src\\repl.jl:276\n",
      " [13] notebook_runcell_request(conn::VSCodeServer.JSONRPC.JSONRPCEndpoint{Base.PipeEndpoint, Base.PipeEndpoint, VSCodeServer.JSON.Serializations.StandardSerialization}, params::VSCodeServer.NotebookRunCellArguments, token::VSCodeServer.CancellationTokens.CancellationToken)\n",
      "    @ VSCodeServer c:\\Users\\aryan\\.vscode\\extensions\\julialang.language-julia-1.149.2\\scripts\\packages\\VSCodeServer\\src\\serve_notebook.jl:13\n",
      " [14] dispatch_msg(x::VSCodeServer.JSONRPC.JSONRPCEndpoint{Base.PipeEndpoint, Base.PipeEndpoint, VSCodeServer.JSON.Serializations.StandardSerialization}, dispatcher::VSCodeServer.JSONRPC.MsgDispatcher, msg::VSCodeServer.JSONRPC.Request)\n",
      "    @ VSCodeServer.JSONRPC c:\\Users\\aryan\\.vscode\\extensions\\julialang.language-julia-1.149.2\\scripts\\packages\\JSONRPC\\src\\typed.jl:68\n",
      " [15] serve_notebook(pipename::String, debugger_pipename::String, outputchannel_logger::Base.CoreLogging.SimpleLogger; error_handler::var\"#5#10\"{String})\n",
      "    @ VSCodeServer c:\\Users\\aryan\\.vscode\\extensions\\julialang.language-julia-1.149.2\\scripts\\packages\\VSCodeServer\\src\\serve_notebook.jl:147\n",
      " [16] top-level scope\n",
      "    @ c:\\Users\\aryan\\.vscode\\extensions\\julialang.language-julia-1.149.2\\scripts\\notebook\\notebook.jl:35"
     ]
    }
   ],
   "source": [
    "using GLMakie\n",
    "import GLMakie.GeometryBasics\n",
    "using LinearAlgebra\n",
    "using DataStructures  # For priority queue\n",
    "using Statistics: mean\n",
    "\n",
    "# Compute triangle quality (aspect ratio: longest edge / shortest edge)\n",
    "function compute_triangle_quality(vertices::Vector{Point3f}, face::GeometryBasics.NgonFace{3, Int})\n",
    "    v0 = vertices[face[1]]\n",
    "    v1 = vertices[face[2]]\n",
    "    v2 = vertices[face[3]]\n",
    "    edges = [\n",
    "        norm(v1 - v0),\n",
    "        norm(v2 - v1),\n",
    "        norm(v0 - v2)\n",
    "    ]\n",
    "    shortest = minimum(edges)\n",
    "    longest = maximum(edges)\n",
    "    return shortest > 0 ? longest / shortest : Inf\n",
    "end\n",
    "\n",
    "# Compute cost of collapsing an edge, balancing geometric error and triangle quality\n",
    "function compute_collapse_cost(vertices::Vector{Point3f}, faces::Vector{GeometryBasics.NgonFace{3, Int}}, edge::Tuple{Int, Int})\n",
    "    v1, v2 = edge\n",
    "    v_new = (vertices[v1] + vertices[v2]) / 2  # Midpoint (could optimize position)\n",
    "    \n",
    "    # Find affected faces (those containing v1 or v2)\n",
    "    affected_faces = [f for f in faces if v1 in f || v2 in f]\n",
    "    \n",
    "    # Geometric error (distance between vertices)\n",
    "    error = norm(vertices[v1] - vertices[v2])\n",
    "    \n",
    "    # Simulate collapse and compute average aspect ratio of resulting triangles\n",
    "    temp_vertices = copy(vertices)\n",
    "    temp_vertices[v1] = v_new\n",
    "    temp_vertices[v2] = v_new\n",
    "    aspect_ratios = Float64[]\n",
    "    for face in affected_faces\n",
    "        new_face = [idx == v1 || idx == v2 ? v1 : idx for idx in face]\n",
    "        if length(unique(new_face)) == 3  # Non-degenerate triangle\n",
    "            push!(aspect_ratios, compute_triangle_quality(temp_vertices, GeometryBasics.NgonFace{3, Int}(new_face...)))\n",
    "        end\n",
    "    end\n",
    "    \n",
    "    # Penalize poor triangle quality\n",
    "    avg_aspect_ratio = isempty(aspect_ratios) ? 1.0 : mean(aspect_ratios)\n",
    "    cost = error + 5.0 * max(0, avg_aspect_ratio - 1.0)  # Weight quality penalty\n",
    "    return cost\n",
    "end\n",
    "\n",
    "# Extract unique edges from faces\n",
    "function get_edges(faces::Vector{GeometryBasics.NgonFace{3, Int}})\n",
    "    edges = Set{Tuple{Int, Int}}()\n",
    "    for face in faces\n",
    "        v1, v2, v3 = face\n",
    "        push!(edges, tuple(sort([v1, v2])...))\n",
    "        push!(edges, tuple(sort([v2, v3])...))\n",
    "        push!(edges, tuple(sort([v1, v3])...))\n",
    "    end\n",
    "    return collect(edges)\n",
    "end\n",
    "\n",
    "# Simplify mesh while optimizing for well-sized triangles\n",
    "function simplify_mesh_well_sized(vertices::Vector{Point3f}, faces::Vector{GeometryBasics.NgonFace{3, Int}}, target_vertex_count::Int)\n",
    "    vertices = copy(vertices)\n",
    "    faces = copy(faces)\n",
    "    \n",
    "    # Initialize priority queue with edge costs\n",
    "    edges = get_edges(faces)\n",
    "    edge_queue = PriorityQueue{Tuple{Int, Int}, Float64}()\n",
    "    for edge in edges\n",
    "        enqueue!(edge_queue, edge, compute_collapse_cost(vertices, faces, edge))\n",
    "    end\n",
    "    \n",
    "    # Track vertex mapping - use Dict for cleaner mapping\n",
    "    vertex_map = Dict{Int, Int}()\n",
    "    for i in 1:length(vertices)\n",
    "        vertex_map[i] = i\n",
    "    end\n",
    "    \n",
    "    # Collapse edges until target is reached\n",
    "    while length(unique(values(vertex_map))) > target_vertex_count && !isempty(edge_queue)\n",
    "        edge, cost = dequeue_pair!(edge_queue)\n",
    "        v1, v2 = edge\n",
    "        \n",
    "        # Skip if vertices already merged\n",
    "        if vertex_map[v1] == vertex_map[v2]\n",
    "            continue\n",
    "        end\n",
    "        \n",
    "        # Create new vertex at midpoint\n",
    "        v_new = (vertices[v1] + vertices[v2]) / 2\n",
    "        push!(vertices, v_new)\n",
    "        new_idx = length(vertices)\n",
    "        \n",
    "        # Update vertex mapping - map both vertices to new index\n",
    "        old_v2_idx = vertex_map[v2]\n",
    "        for (k, v) in vertex_map\n",
    "            if v == vertex_map[v1] || v == old_v2_idx\n",
    "                vertex_map[k] = new_idx\n",
    "            end\n",
    "        end\n",
    "        \n",
    "        # Update faces with new mapping\n",
    "        new_faces = GeometryBasics.NgonFace{3, Int}[]\n",
    "        for face in faces\n",
    "            new_face = [vertex_map[idx] for idx in face]\n",
    "            if length(unique(new_face)) == 3  # Keep non-degenerate faces\n",
    "                push!(new_faces, GeometryBasics.NgonFace{3, Int}(new_face...))\n",
    "            end\n",
    "        end\n",
    "        faces = new_faces\n",
    "        \n",
    "        # Update edge list and recompute costs\n",
    "        edges = get_edges(faces)\n",
    "        edge_queue = PriorityQueue{Tuple{Int, Int}, Float64}()\n",
    "        for edge in edges\n",
    "            if haskey(vertex_map, edge[1]) && haskey(vertex_map, edge[2])\n",
    "                enqueue!(edge_queue, edge, compute_collapse_cost(vertices, faces, edge))\n",
    "            end\n",
    "        end\n",
    "    end\n",
    "    \n",
    "    # Clean up vertices and reindex faces\n",
    "    used_vertices = unique([idx for face in faces for idx in face])\n",
    "    sort!(used_vertices)\n",
    "    \n",
    "    # Create final vertex mapping\n",
    "    final_vertex_map = Dict{Int, Int}()\n",
    "    for (new_idx, old_idx) in enumerate(used_vertices)\n",
    "        final_vertex_map[old_idx] = new_idx\n",
    "    end\n",
    "    \n",
    "    # Create final vertices and faces\n",
    "    final_vertices = vertices[used_vertices]\n",
    "    final_faces = [GeometryBasics.NgonFace{3, Int}([final_vertex_map[idx] for idx in face]...) for face in faces]\n",
    "    \n",
    "    return final_vertices, final_faces\n",
    "end\n",
    "\n",
    "# Example: Simplify sphere mesh and visualize\n",
    "function main()\n",
    "    # Create sphere mesh\n",
    "    S = GeometryBasics.mesh(GeometryBasics.Sphere(Point3f(0.0, 0.0, 0.0), 1.0))\n",
    "    vertices = S.position  # Vector{Point3f}\n",
    "    faces = S.faces       # Vector{NgonFace{3, OffsetInteger{-1, UInt32}}}\n",
    "    \n",
    "    # Convert faces to use 1-based indexing\n",
    "    faces = [GeometryBasics.NgonFace{3, Int}([Int(f[i]) + 1 for i in 1:3]...) for f in faces]\n",
    "    \n",
    "    # Simplify to 50% of original vertices\n",
    "    target_vertices = Int(round(length(vertices) * 0.5))\n",
    "    new_vertices, new_faces = simplify_mesh_well_sized(vertices, faces, target_vertices)\n",
    "    \n",
    "    # Create new mesh\n",
    "    new_mesh = GeometryBasics.Mesh(new_vertices, new_faces)\n",
    "    \n",
    "    # Visualize original and simplified meshes\n",
    "    fig = Figure()\n",
    "    \n",
    "    # Original mesh\n",
    "    ax1 = Axis3(fig[1, 1], title=\"Original Mesh ($(length(vertices)) vertices)\")\n",
    "    mesh!(ax1, S, color=:blue, alpha=0.8)\n",
    "    \n",
    "    # Simplified mesh\n",
    "    ax2 = Axis3(fig[1, 2], title=\"Simplified Mesh ($(length(new_vertices)) vertices)\")\n",
    "    mesh!(ax2, new_mesh, color=:red, alpha=0.8)\n",
    "    \n",
    "    display(fig)\n",
    "    \n",
    "    return new_mesh\n",
    "end\n",
    "\n",
    "main()"
   ]
  },
  {
   "cell_type": "code",
   "execution_count": 1,
   "id": "c03e3fdc",
   "metadata": {},
   "outputs": [
    {
     "name": "stdout",
     "output_type": "stream",
     "text": [
      "\u001b[32m\u001b[1mStatus\u001b[22m\u001b[39m `C:\\Users\\aryan\\.julia\\environments\\testing\\Project.toml`\n",
      "  \u001b[90m[a93c6f00] \u001b[39mDataFrames v1.7.0\n",
      "  \u001b[90m[07eb4e4e] \u001b[39mDelaunay v1.2.0\n",
      "  \u001b[90m[927a84f5] \u001b[39mDelaunayTriangulation v1.6.4\n",
      "\u001b[32m⌃\u001b[39m \u001b[90m[ffbed154] \u001b[39mDocStringExtensions v0.9.4\n",
      "\u001b[32m⌃\u001b[39m \u001b[90m[e9467ef8] \u001b[39mGLMakie v0.13.3\n",
      "  \u001b[90m[7073ff75] \u001b[39mIJulia v1.29.0\n",
      "  \u001b[90m[682c06a0] \u001b[39mJSON v0.21.4\n",
      "\u001b[36m\u001b[1mInfo\u001b[22m\u001b[39m Packages marked with \u001b[32m⌃\u001b[39m have new versions available and may be upgradable.\n"
     ]
    }
   ],
   "source": [
    "using Pkg\n",
    "Pkg.status()"
   ]
  },
  {
   "cell_type": "code",
   "execution_count": 2,
   "id": "2dc3aed9",
   "metadata": {},
   "outputs": [
    {
     "name": "stderr",
     "output_type": "stream",
     "text": [
      "\u001b[32m\u001b[1m   Resolving\u001b[22m\u001b[39m package versions...\n",
      "\u001b[32m\u001b[1m   Installed\u001b[22m\u001b[39m ScopedValues ───────────── v1.4.0\n",
      "\u001b[32m\u001b[1m   Installed\u001b[22m\u001b[39m ZygoteRules ────────────── v0.2.7\n",
      "\u001b[32m\u001b[1m   Installed\u001b[22m\u001b[39m TiledIteration ─────────── v0.5.0\n",
      "\u001b[32m\u001b[1m   Installed\u001b[22m\u001b[39m Distances ──────────────── v0.10.12\n",
      "\u001b[32m\u001b[1m   Installed\u001b[22m\u001b[39m Static ─────────────────── v1.2.0\n",
      "\u001b[32m\u001b[1m   Installed\u001b[22m\u001b[39m IRTools ────────────────── v0.4.15\n",
      "\u001b[32m\u001b[1m   Installed\u001b[22m\u001b[39m NearestNeighbors ───────── v0.4.22\n",
      "\u001b[32m\u001b[1m   Installed\u001b[22m\u001b[39m Bessels ────────────────── v0.2.8\n",
      "\u001b[32m\u001b[1m   Installed\u001b[22m\u001b[39m IfElse ─────────────────── v0.1.1\n",
      "\u001b[32m\u001b[1m   Installed\u001b[22m\u001b[39m CommonSubexpressions ───── v0.3.1\n",
      "\u001b[32m\u001b[1m   Installed\u001b[22m\u001b[39m StaticArrayInterface ───── v1.8.0\n",
      "\u001b[32m\u001b[1m   Installed\u001b[22m\u001b[39m CommonWorldInvalidations ─ v1.0.0\n",
      "\u001b[32m\u001b[1m   Installed\u001b[22m\u001b[39m DiffRules ──────────────── v1.15.1\n",
      "\u001b[32m\u001b[1m   Installed\u001b[22m\u001b[39m ChainRules ─────────────── v1.72.5\n",
      "\u001b[32m\u001b[1m   Installed\u001b[22m\u001b[39m Zygote ─────────────────── v0.7.10\n",
      "\u001b[32m\u001b[1m   Installed\u001b[22m\u001b[39m DiffResults ────────────── v1.1.0\n",
      "\u001b[32m\u001b[1m   Installed\u001b[22m\u001b[39m Colorfy ────────────────── v1.1.0\n",
      "\u001b[32m\u001b[1m   Installed\u001b[22m\u001b[39m ArrayInterface ─────────── v7.19.0\n",
      "\u001b[32m\u001b[1m   Installed\u001b[22m\u001b[39m Rotations ──────────────── v1.7.1\n",
      "\u001b[32m\u001b[1m   Installed\u001b[22m\u001b[39m SparseInverseSubset ────── v0.1.2\n",
      "\u001b[32m\u001b[1m   Installed\u001b[22m\u001b[39m ForwardDiff ────────────── v1.0.1\n",
      "\u001b[32m\u001b[1m   Installed\u001b[22m\u001b[39m CircularArrays ─────────── v1.4.0\n",
      "\u001b[32m\u001b[1m   Installed\u001b[22m\u001b[39m TransformsBase ─────────── v1.6.0\n",
      "\u001b[32m\u001b[1m   Installed\u001b[22m\u001b[39m Meshes ─────────────────── v0.54.0\n",
      "\u001b[32m\u001b[1m   Installed\u001b[22m\u001b[39m CoordRefSystems ────────── v0.18.8\n",
      "\u001b[32m\u001b[1m    Updating\u001b[22m\u001b[39m `C:\\Users\\aryan\\.julia\\environments\\testing\\Project.toml`\n",
      "  \u001b[90m[eacbb407] \u001b[39m\u001b[92m+ Meshes v0.54.0\u001b[39m\n",
      "\u001b[32m\u001b[1m    Updating\u001b[22m\u001b[39m `C:\\Users\\aryan\\.julia\\environments\\testing\\Manifest.toml`\n",
      "  \u001b[90m[4fba245c] \u001b[39m\u001b[92m+ ArrayInterface v7.19.0\u001b[39m\n",
      "  \u001b[90m[0e736298] \u001b[39m\u001b[92m+ Bessels v0.2.8\u001b[39m\n",
      "  \u001b[90m[082447d4] \u001b[39m\u001b[92m+ ChainRules v1.72.5\u001b[39m\n",
      "  \u001b[90m[7a955b69] \u001b[39m\u001b[92m+ CircularArrays v1.4.0\u001b[39m\n",
      "  \u001b[90m[03fe91ce] \u001b[39m\u001b[92m+ Colorfy v1.1.0\u001b[39m\n",
      "  \u001b[90m[bbf7d656] \u001b[39m\u001b[92m+ CommonSubexpressions v0.3.1\u001b[39m\n",
      "  \u001b[90m[f70d9fcc] \u001b[39m\u001b[92m+ CommonWorldInvalidations v1.0.0\u001b[39m\n",
      "  \u001b[90m[b46f11dc] \u001b[39m\u001b[92m+ CoordRefSystems v0.18.8\u001b[39m\n",
      "  \u001b[90m[163ba53b] \u001b[39m\u001b[92m+ DiffResults v1.1.0\u001b[39m\n",
      "  \u001b[90m[b552c78f] \u001b[39m\u001b[92m+ DiffRules v1.15.1\u001b[39m\n",
      "  \u001b[90m[b4f34e82] \u001b[39m\u001b[92m+ Distances v0.10.12\u001b[39m\n",
      "  \u001b[90m[f6369f11] \u001b[39m\u001b[92m+ ForwardDiff v1.0.1\u001b[39m\n",
      "  \u001b[90m[46192b85] \u001b[39m\u001b[92m+ GPUArraysCore v0.2.0\u001b[39m\n",
      "  \u001b[90m[076d061b] \u001b[39m\u001b[92m+ HashArrayMappedTries v0.2.0\u001b[39m\n",
      "  \u001b[90m[7869d1d1] \u001b[39m\u001b[92m+ IRTools v0.4.15\u001b[39m\n",
      "  \u001b[90m[615f187c] \u001b[39m\u001b[92m+ IfElse v0.1.1\u001b[39m\n",
      "  \u001b[90m[eacbb407] \u001b[39m\u001b[92m+ Meshes v0.54.0\u001b[39m\n",
      "  \u001b[90m[77ba4419] \u001b[39m\u001b[92m+ NaNMath v1.1.3\u001b[39m\n",
      "  \u001b[90m[b8a86587] \u001b[39m\u001b[92m+ NearestNeighbors v0.4.22\u001b[39m\n",
      "  \u001b[90m[94ee1d12] \u001b[39m\u001b[92m+ Quaternions v0.7.6\u001b[39m\n",
      "  \u001b[90m[c1ae055f] \u001b[39m\u001b[92m+ RealDot v0.1.0\u001b[39m\n",
      "  \u001b[90m[6038ab10] \u001b[39m\u001b[92m+ Rotations v1.7.1\u001b[39m\n",
      "  \u001b[90m[7e506255] \u001b[39m\u001b[92m+ ScopedValues v1.4.0\u001b[39m\n",
      "  \u001b[90m[dc90abb0] \u001b[39m\u001b[92m+ SparseInverseSubset v0.1.2\u001b[39m\n",
      "  \u001b[90m[aedffcd0] \u001b[39m\u001b[92m+ Static v1.2.0\u001b[39m\n",
      "  \u001b[90m[0d7ed370] \u001b[39m\u001b[92m+ StaticArrayInterface v1.8.0\u001b[39m\n",
      "  \u001b[90m[06e1c1a7] \u001b[39m\u001b[92m+ TiledIteration v0.5.0\u001b[39m\n",
      "  \u001b[90m[28dd2a49] \u001b[39m\u001b[92m+ TransformsBase v1.6.0\u001b[39m\n",
      "  \u001b[90m[e88e6eb3] \u001b[39m\u001b[92m+ Zygote v0.7.10\u001b[39m\n",
      "  \u001b[90m[700de1a5] \u001b[39m\u001b[92m+ ZygoteRules v0.2.7\u001b[39m\n",
      "\u001b[92m\u001b[1mPrecompiling\u001b[22m\u001b[39m project...\n",
      "   2507.6 ms\u001b[32m  ✓ \u001b[39m\u001b[90mIfElse\u001b[39m\n",
      "   5813.6 ms\u001b[32m  ✓ \u001b[39m\u001b[90mBessels\u001b[39m\n",
      "   2488.7 ms\u001b[32m  ✓ \u001b[39m\u001b[90mCommonWorldInvalidations\u001b[39m\n",
      "   2550.8 ms\u001b[32m  ✓ \u001b[39m\u001b[90mCircularArrays\u001b[39m\n",
      "   2394.1 ms\u001b[32m  ✓ \u001b[39m\u001b[90mScopedValues\u001b[39m\n",
      "   2430.3 ms\u001b[32m  ✓ \u001b[39m\u001b[90mTransformsBase\u001b[39m\n",
      "   2460.3 ms\u001b[32m  ✓ \u001b[39m\u001b[90mCommonSubexpressions\u001b[39m\n",
      "   3810.8 ms\u001b[32m  ✓ \u001b[39m\u001b[90mDistances\u001b[39m\n",
      "    937.2 ms\u001b[32m  ✓ \u001b[39m\u001b[90mDiffResults\u001b[39m\n",
      "   1129.7 ms\u001b[32m  ✓ \u001b[39m\u001b[90mArrayInterface\u001b[39m\n",
      "   1419.8 ms\u001b[32m  ✓ \u001b[39m\u001b[90mSparseInverseSubset\u001b[39m\n",
      "   1258.1 ms\u001b[32m  ✓ \u001b[39m\u001b[90mDiffRules\u001b[39m\n",
      "   1668.1 ms\u001b[32m  ✓ \u001b[39m\u001b[90mColorfy\u001b[39m\n",
      "   2552.3 ms\u001b[32m  ✓ \u001b[39m\u001b[90mZygoteRules\u001b[39m\n",
      "   1795.2 ms\u001b[32m  ✓ \u001b[39m\u001b[90mDistances → DistancesSparseArraysExt\u001b[39m\n",
      "   2975.5 ms\u001b[32m  ✓ \u001b[39m\u001b[90mIRTools\u001b[39m\n",
      "   1653.0 ms\u001b[32m  ✓ \u001b[39m\u001b[90mDistances → DistancesChainRulesCoreExt\u001b[39m\n",
      "   2199.1 ms\u001b[32m  ✓ \u001b[39m\u001b[90mStatic\u001b[39m\n",
      "   1579.8 ms\u001b[32m  ✓ \u001b[39m\u001b[90mArrayInterface → ArrayInterfaceSparseArraysExt\u001b[39m\n",
      "   3387.6 ms\u001b[32m  ✓ \u001b[39m\u001b[90mRotations\u001b[39m\n",
      "    786.7 ms\u001b[32m  ✓ \u001b[39m\u001b[90mArrayInterface → ArrayInterfaceStaticArraysCoreExt\u001b[39m\n",
      "   1097.3 ms\u001b[32m  ✓ \u001b[39m\u001b[90mArrayInterface → ArrayInterfaceChainRulesCoreExt\u001b[39m\n",
      "   1499.6 ms\u001b[32m  ✓ \u001b[39m\u001b[90mArrayInterface → ArrayInterfaceGPUArraysCoreExt\u001b[39m\n",
      "   1482.7 ms\u001b[32m  ✓ \u001b[39m\u001b[90mIntervalArithmetic → IntervalArithmeticDiffRulesExt\u001b[39m\n",
      "   4639.6 ms\u001b[32m  ✓ \u001b[39m\u001b[90mNearestNeighbors\u001b[39m\n",
      "   3176.7 ms\u001b[32m  ✓ \u001b[39m\u001b[90mColorfy → ColorfyUnitfulExt\u001b[39m\n",
      "   3041.7 ms\u001b[32m  ✓ \u001b[39m\u001b[90mStaticArrayInterface\u001b[39m\n",
      "   1796.6 ms\u001b[32m  ✓ \u001b[39m\u001b[90mStaticArrayInterface → StaticArrayInterfaceOffsetArraysExt\u001b[39m\n",
      "   5305.7 ms\u001b[32m  ✓ \u001b[39m\u001b[90mColorfy → ColorfyDistributionsExt\u001b[39m\n",
      "   2431.5 ms\u001b[32m  ✓ \u001b[39m\u001b[90mStaticArrayInterface → StaticArrayInterfaceStaticArraysExt\u001b[39m\n",
      "   1808.1 ms\u001b[32m  ✓ \u001b[39m\u001b[90mTiledIteration\u001b[39m\n",
      "   7329.6 ms\u001b[32m  ✓ \u001b[39m\u001b[90mForwardDiff\u001b[39m\n",
      "   1809.7 ms\u001b[32m  ✓ \u001b[39m\u001b[90mIntervalArithmetic → IntervalArithmeticForwardDiffExt\u001b[39m\n",
      "   1893.9 ms\u001b[32m  ✓ \u001b[39m\u001b[90mUnitful → ForwardDiffExt\u001b[39m\n",
      "   2614.8 ms\u001b[32m  ✓ \u001b[39m\u001b[90mForwardDiff → ForwardDiffStaticArraysExt\u001b[39m\n",
      "  13746.7 ms\u001b[32m  ✓ \u001b[39m\u001b[90mChainRules\u001b[39m\n",
      "   2508.5 ms\u001b[32m  ✓ \u001b[39m\u001b[90mArrayInterface → ArrayInterfaceChainRulesExt\u001b[39m\n",
      "  66772.7 ms\u001b[32m  ✓ \u001b[39m\u001b[90mZygote\u001b[39m\n",
      "   5293.6 ms\u001b[32m  ✓ \u001b[39m\u001b[90mZygote → ZygoteColorsExt\u001b[39m\n",
      "   6520.4 ms\u001b[32m  ✓ \u001b[39m\u001b[90mZygote → ZygoteDistancesExt\u001b[39m\n",
      "  13430.6 ms\u001b[32m  ✓ \u001b[39m\u001b[90mCoordRefSystems\u001b[39m\n",
      "  20485.8 ms\u001b[32m  ✓ \u001b[39mMeshes\n",
      "  55813.8 ms\u001b[32m  ✓ \u001b[39mMeshes → MeshesMakieExt\n",
      "  43 dependencies successfully precompiled in 186 seconds. 311 already precompiled.\n"
     ]
    }
   ],
   "source": [
    "Pkg.add(\"Meshes\")"
   ]
  },
  {
   "cell_type": "code",
   "execution_count": 8,
   "id": "ae91fd40",
   "metadata": {},
   "outputs": [],
   "source": [
    "using Meshes\n",
    "import GLMakie.GeometryBasics\n",
    "using GLMakie"
   ]
  },
  {
   "cell_type": "code",
   "execution_count": 9,
   "id": "bac8969e",
   "metadata": {},
   "outputs": [
    {
     "data": {
      "text/plain": [
       "Mesh{3, Float32, GeometryBasics.NgonFace{3, GeometryBasics.OffsetInteger{-1, UInt32}}}\n",
       "    faces: 1058\n",
       "    vertex position: 576\n"
      ]
     },
     "metadata": {},
     "output_type": "display_data"
    }
   ],
   "source": [
    "S = GeometryBasics.mesh(GeometryBasics.Sphere(Point3f(0.0, 0.0, 0.0), 1.0))"
   ]
  },
  {
   "cell_type": "code",
   "execution_count": 10,
   "id": "a2115916",
   "metadata": {},
   "outputs": [
    {
     "ename": "MethodError",
     "evalue": "MethodError: no method matching simplify(::GeometryBasics.Mesh{3, Float32, GeometryBasics.NgonFace{3, GeometryBasics.OffsetInteger{-1, UInt32}}, (:position,), Tuple{Vector{GeometryBasics.Point{3, Float32}}}, Vector{GeometryBasics.NgonFace{3, GeometryBasics.OffsetInteger{-1, UInt32}}}}, ::SelingerSimplification{Unitful.Quantity{Float64, 𝐋, Unitful.FreeUnits{(m,), 𝐋, nothing}}})\nThe function `simplify` exists, but no method is defined for this combination of argument types.\n\nClosest candidates are:\n  simplify(!Matched::Chain, ::SelingerSimplification)\n   @ Meshes C:\\Users\\aryan\\.julia\\packages\\Meshes\\oyDEM\\src\\simplification\\selinger.jl:25\n  simplify(!Matched::Domain, ::SimplificationMethod)\n   @ Meshes C:\\Users\\aryan\\.julia\\packages\\Meshes\\oyDEM\\src\\simplification.jl:25\n  simplify(!Matched::Multi, ::SimplificationMethod)\n   @ Meshes C:\\Users\\aryan\\.julia\\packages\\Meshes\\oyDEM\\src\\simplification.jl:23\n  ...\n",
     "output_type": "error",
     "traceback": [
      "MethodError: no method matching simplify(::GeometryBasics.Mesh{3, Float32, GeometryBasics.NgonFace{3, GeometryBasics.OffsetInteger{-1, UInt32}}, (:position,), Tuple{Vector{GeometryBasics.Point{3, Float32}}}, Vector{GeometryBasics.NgonFace{3, GeometryBasics.OffsetInteger{-1, UInt32}}}}, ::SelingerSimplification{Unitful.Quantity{Float64, 𝐋, Unitful.FreeUnits{(m,), 𝐋, nothing}}})\n",
      "The function `simplify` exists, but no method is defined for this combination of argument types.\n",
      "\n",
      "Closest candidates are:\n",
      "  simplify(!Matched::Chain, ::SelingerSimplification)\n",
      "   @ Meshes C:\\Users\\aryan\\.julia\\packages\\Meshes\\oyDEM\\src\\simplification\\selinger.jl:25\n",
      "  simplify(!Matched::Domain, ::SimplificationMethod)\n",
      "   @ Meshes C:\\Users\\aryan\\.julia\\packages\\Meshes\\oyDEM\\src\\simplification.jl:25\n",
      "  simplify(!Matched::Multi, ::SimplificationMethod)\n",
      "   @ Meshes C:\\Users\\aryan\\.julia\\packages\\Meshes\\oyDEM\\src\\simplification.jl:23\n",
      "  ...\n",
      "\n",
      "\n",
      "Stacktrace:\n",
      " [1] top-level scope\n",
      "   @ d:\\Programming\\Flapping Wing Flying Research\\Demos-and-Tutorials\\jl_notebook_cell_df34fa98e69747e1a8f8a730347b8e2f_X30sZmlsZQ==.jl:1"
     ]
    }
   ],
   "source": [
    "simp1 = simplify(S, SelingerSimplification(0.01))"
   ]
  },
  {
   "cell_type": "code",
   "execution_count": 13,
   "id": "aa88d6f6",
   "metadata": {},
   "outputs": [
    {
     "ename": "MethodError",
     "evalue": "MethodError: no method matching SimpleMesh(::GeometryBasics.Mesh{3, Float32, GeometryBasics.NgonFace{3, GeometryBasics.OffsetInteger{-1, UInt32}}, (:position,), Tuple{Vector{GeometryBasics.Point{3, Float32}}}, Vector{GeometryBasics.NgonFace{3, GeometryBasics.OffsetInteger{-1, UInt32}}}})\nThe type `SimpleMesh` exists, but no method is defined for this combination of argument types when trying to construct it.\n\nClosest candidates are:\n  SimpleMesh(::Any, !Matched::AbstractVector{<:Connectivity}; relations)\n   @ Meshes C:\\Users\\aryan\\.julia\\packages\\Meshes\\oyDEM\\src\\domains\\meshes\\simplemesh.jl:41\n  SimpleMesh(!Matched::V, !Matched::TP) where {M<:Meshes.Manifold, C<:CoordRefSystems.CRS, V<:AbstractArray{Meshes.Point{M, C}, 1}, TP<:Topology}\n   @ Meshes C:\\Users\\aryan\\.julia\\packages\\Meshes\\oyDEM\\src\\domains\\meshes\\simplemesh.jl:35\n  SimpleMesh(!Matched::AbstractVector{<:Tuple}, !Matched::Topology)\n   @ Meshes C:\\Users\\aryan\\.julia\\packages\\Meshes\\oyDEM\\src\\domains\\meshes\\simplemesh.jl:39\n",
     "output_type": "error",
     "traceback": [
      "MethodError: no method matching SimpleMesh(::GeometryBasics.Mesh{3, Float32, GeometryBasics.NgonFace{3, GeometryBasics.OffsetInteger{-1, UInt32}}, (:position,), Tuple{Vector{GeometryBasics.Point{3, Float32}}}, Vector{GeometryBasics.NgonFace{3, GeometryBasics.OffsetInteger{-1, UInt32}}}})\n",
      "The type `SimpleMesh` exists, but no method is defined for this combination of argument types when trying to construct it.\n",
      "\n",
      "Closest candidates are:\n",
      "  SimpleMesh(::Any, !Matched::AbstractVector{<:Connectivity}; relations)\n",
      "   @ Meshes C:\\Users\\aryan\\.julia\\packages\\Meshes\\oyDEM\\src\\domains\\meshes\\simplemesh.jl:41\n",
      "  SimpleMesh(!Matched::V, !Matched::TP) where {M<:Meshes.Manifold, C<:CoordRefSystems.CRS, V<:AbstractArray{Meshes.Point{M, C}, 1}, TP<:Topology}\n",
      "   @ Meshes C:\\Users\\aryan\\.julia\\packages\\Meshes\\oyDEM\\src\\domains\\meshes\\simplemesh.jl:35\n",
      "  SimpleMesh(!Matched::AbstractVector{<:Tuple}, !Matched::Topology)\n",
      "   @ Meshes C:\\Users\\aryan\\.julia\\packages\\Meshes\\oyDEM\\src\\domains\\meshes\\simplemesh.jl:39\n",
      "\n",
      "\n",
      "Stacktrace:\n",
      " [1] top-level scope\n",
      "   @ d:\\Programming\\Flapping Wing Flying Research\\Demos-and-Tutorials\\jl_notebook_cell_df34fa98e69747e1a8f8a730347b8e2f_X32sZmlsZQ==.jl:1"
     ]
    }
   ],
   "source": [
    "S = Meshes.SimpleMesh(S)"
   ]
  },
  {
   "cell_type": "code",
   "execution_count": 15,
   "id": "e4ce62bc",
   "metadata": {},
   "outputs": [
    {
     "name": "stdout",
     "output_type": "stream",
     "text": [
      "Original mesh vertices: 576\n",
      "Original mesh faces: 1058\n",
      "Simple mesh vertices: 576\n",
      "Simple mesh elements: 1058\n"
     ]
    }
   ],
   "source": [
    "using GLMakie\n",
    "import GLMakie.GeometryBasics\n",
    "using Meshes\n",
    "\n",
    "# Create the original GeometryBasics mesh\n",
    "S = GeometryBasics.mesh(GeometryBasics.Sphere(Point3f(0.0, 0.0, 0.0), 1.0))\n",
    "\n",
    "# Convert GeometryBasics.Mesh to Meshes.SimpleMesh\n",
    "function convert_to_simple_mesh(geom_mesh::GeometryBasics.Mesh)\n",
    "    # Extract vertices - convert Point3f to tuples\n",
    "    vertices = S.position  # This gets the vertices directly\n",
    "    points = [(v[1], v[2], v[3]) for v in vertices]\n",
    "    \n",
    "    # Extract faces and convert to connectivity\n",
    "    faces = S.faces\n",
    "    # Convert from 0-based OffsetInteger to 1-based indices and create triangular connectivity\n",
    "    connec = [connect((Int(f[1].i) + 1, Int(f[2].i) + 1, Int(f[3].i) + 1), Triangle) for f in faces]\n",
    "    \n",
    "    # Create SimpleMesh\n",
    "    return SimpleMesh(points, connec)\n",
    "end\n",
    "\n",
    "# Convert the sphere mesh\n",
    "simple_mesh = convert_to_simple_mesh(S)\n",
    "\n",
    "# Verify the conversion\n",
    "println(\"Original mesh vertices: \", length(S.position))\n",
    "println(\"Original mesh faces: \", length(S.faces))\n",
    "println(\"Simple mesh vertices: \", length(vertices(simple_mesh)))\n",
    "println(\"Simple mesh elements: \", length(elements(simple_mesh)))"
   ]
  },
  {
   "cell_type": "code",
   "execution_count": 39,
   "id": "b985f3e5",
   "metadata": {},
   "outputs": [
    {
     "ename": "MethodError",
     "evalue": "MethodError: no method matching getindex(::Meshes.Point{𝔼{3}, CoordRefSystems.Cartesian3D{CoordRefSystems.NoDatum, Unitful.Quantity{Float32, 𝐋, Unitful.FreeUnits{(m,), 𝐋, nothing}}}}, ::Int64)\nThe function `getindex` exists, but no method is defined for this combination of argument types.",
     "output_type": "error",
     "traceback": [
      "MethodError: no method matching getindex(::Meshes.Point{𝔼{3}, CoordRefSystems.Cartesian3D{CoordRefSystems.NoDatum, Unitful.Quantity{Float32, 𝐋, Unitful.FreeUnits{(m,), 𝐋, nothing}}}}, ::Int64)\n",
      "The function `getindex` exists, but no method is defined for this combination of argument types.\n",
      "\n",
      "Stacktrace:\n",
      " [1] (::var\"#21#22\")(v::Meshes.Point{𝔼{3}, CoordRefSystems.Cartesian3D{CoordRefSystems.NoDatum, Unitful.Quantity{Float32, 𝐋, Unitful.FreeUnits{(m,), 𝐋, nothing}}}})\n",
      "   @ Main .\\none:0\n",
      " [2] iterate\n",
      "   @ .\\generator.jl:48 [inlined]\n",
      " [3] collect\n",
      "   @ .\\array.jl:791 [inlined]\n",
      " [4] convert_to_makie_mesh(simple_mesh::SimpleMesh{𝔼{3}, CoordRefSystems.Cartesian3D{CoordRefSystems.NoDatum, Unitful.Quantity{Float32, 𝐋, Unitful.FreeUnits{(m,), 𝐋, nothing}}}, Vector{Meshes.Point{𝔼{3}, CoordRefSystems.Cartesian3D{CoordRefSystems.NoDatum, Unitful.Quantity{Float32, 𝐋, Unitful.FreeUnits{(m,), 𝐋, nothing}}}}}, SimpleTopology{Connectivity{Triangle, 3}}})\n",
      "   @ Main d:\\Programming\\Flapping Wing Flying Research\\Demos-and-Tutorials\\jl_notebook_cell_df34fa98e69747e1a8f8a730347b8e2f_X36sZmlsZQ==.jl:5\n",
      " [5] top-level scope\n",
      "   @ d:\\Programming\\Flapping Wing Flying Research\\Demos-and-Tutorials\\jl_notebook_cell_df34fa98e69747e1a8f8a730347b8e2f_X36sZmlsZQ==.jl:22"
     ]
    }
   ],
   "source": [
    "# Convert Meshes.SimpleMesh back to GeometryBasics.Mesh\n",
    "function convert_to_makie_mesh(simple_mesh::SimpleMesh)\n",
    "    # Extract vertices from SimpleMesh\n",
    "    mesh_vertices = vertices(simple_mesh)\n",
    "    points = [Point3f(v[1], v[2], v[3]) for v in mesh_vertices]\n",
    "    \n",
    "    # Extract faces from SimpleMesh\n",
    "    mesh_elements = elements(simple_mesh)\n",
    "    faces = GeometryBasics.NgonFace{3, Int}[]\n",
    "    \n",
    "    for element in mesh_elements\n",
    "        # Get the vertex indices for this triangle\n",
    "        indices = [v for v in element]\n",
    "        push!(faces, GeometryBasics.NgonFace{3, Int}(indices...))\n",
    "    end\n",
    "    \n",
    "    # Create GeometryBasics.Mesh\n",
    "    return GeometryBasics.Mesh(points, faces)\n",
    "end\n",
    "\n",
    "# Test the conversion\n",
    "makie_mesh = convert_to_makie_mesh(simple_mesh)\n",
    "\n",
    "# Verify the conversion\n",
    "println(\"Simple mesh vertices: \", length(vertices(simple_mesh)))\n",
    "println(\"Simple mesh elements: \", length(elements(simple_mesh)))\n",
    "println(\"Makie mesh vertices: \", length(makie_mesh.position))\n",
    "println(\"Makie mesh faces: \", length(makie_mesh.faces))\n",
    "\n",
    "# Visualize to confirm it works\n",
    "mesh(makie_mesh)"
   ]
  },
  {
   "cell_type": "code",
   "execution_count": 20,
   "id": "84afd608",
   "metadata": {},
   "outputs": [
    {
     "name": "stderr",
     "output_type": "stream",
     "text": [
      "┌ Warning: `shading = FastShading` is deprecated in favor of `shading = true` as a plot attribute. To switch between `FastShading` and `MultiLightShading` explicitly, use scene attributes.\n",
      "└ @ Makie C:\\Users\\aryan\\.julia\\packages\\Makie\\aJUtI\\src\\conversions.jl:2343\n"
     ]
    }
   ],
   "source": [
    "viz(simple_mesh, showsegments = true)"
   ]
  },
  {
   "cell_type": "code",
   "execution_count": 36,
   "id": "a6b19ca5",
   "metadata": {},
   "outputs": [
    {
     "data": {
      "text/plain": [
       "1058 GeometrySet\n",
       "├─ PolyArea((x: 0.136167 m, y: 0.0 m, z: 0.990686 m), (x: 0.131117 m, y: 0.0367373 m, z: 0.990686 m), (x: 0.0 m, y: 0.0 m, z: 1.0 m))\n",
       "├─ PolyArea((x: 0.131117 m, y: 0.0367373 m, z: 0.990686 m), (x: 0.0 m, y: 0.0 m, z: 1.0 m), (x: 0.0 m, y: 0.0 m, z: 1.0 m))\n",
       "├─ PolyArea((x: 0.269797 m, y: 0.0 m, z: 0.962917 m), (x: 0.259792 m, y: 0.0727903 m, z: 0.962917 m), (x: 0.136167 m, y: 0.0 m, z: 0.990686 m))\n",
       "├─ PolyArea((x: 0.259792 m, y: 0.0727903 m, z: 0.962917 m), (x: 0.131117 m, y: 0.0367373 m, z: 0.990686 m), (x: 0.136167 m, y: 0.0 m, z: 0.990686 m))\n",
       "├─ PolyArea((x: 0.398401 m, y: 0.0 m, z: 0.917211 m), (x: 0.383627 m, y: 0.107487 m, z: 0.917211 m), (x: 0.269797 m, y: 0.0 m, z: 0.962917 m))\n",
       "⋮\n",
       "├─ PolyArea((x: 0.269797 m, y: -6.60811f-17 m, z: -0.962917 m), (x: 0.398401 m, y: -9.75801f-17 m, z: -0.917211 m), (x: 0.383627 m, y: -0.107487 m, z: -0.917211 m))\n",
       "├─ PolyArea((x: 0.131117 m, y: -0.0367373 m, z: -0.990686 m), (x: 0.136167 m, y: -3.33512f-17 m, z: -0.990686 m), (x: 0.259792 m, y: -0.0727903 m, z: -0.962917 m))\n",
       "├─ PolyArea((x: 0.136167 m, y: -3.33512f-17 m, z: -0.990686 m), (x: 0.269797 m, y: -6.60811f-17 m, z: -0.962917 m), (x: 0.259792 m, y: -0.0727903 m, z: -0.962917 m))\n",
       "├─ PolyArea((x: 1.17923f-16 m, y: -3.30406f-17 m, z: -1.0 m), (x: 1.22465f-16 m, y: -2.99952f-32 m, z: -1.0 m), (x: 0.131117 m, y: -0.0367373 m, z: -0.990686 m))\n",
       "└─ PolyArea((x: 1.22465f-16 m, y: -2.99952f-32 m, z: -1.0 m), (x: 0.136167 m, y: -3.33512f-17 m, z: -0.990686 m), (x: 0.131117 m, y: -0.0367373 m, z: -0.990686 m))"
      ]
     },
     "metadata": {},
     "output_type": "display_data"
    }
   ],
   "source": [
    "simp1 = simplify(simple_mesh, SelingerSimplification(0.5))"
   ]
  },
  {
   "cell_type": "code",
   "execution_count": 37,
   "id": "5201a04c",
   "metadata": {},
   "outputs": [
    {
     "name": "stderr",
     "output_type": "stream",
     "text": [
      "┌ Warning: `shading = FastShading` is deprecated in favor of `shading = true` as a plot attribute. To switch between `FastShading` and `MultiLightShading` explicitly, use scene attributes.\n",
      "└ @ Makie C:\\Users\\aryan\\.julia\\packages\\Makie\\aJUtI\\src\\conversions.jl:2343\n"
     ]
    }
   ],
   "source": [
    "viz(simp1, showsegments = true)"
   ]
  },
  {
   "cell_type": "code",
   "execution_count": 6,
   "id": "524c81ab",
   "metadata": {},
   "outputs": [
    {
     "name": "stdout",
     "output_type": "stream",
     "text": [
      "Original mesh: 576 vertices, 1058 faces\n",
      "Grid size 0.1: 468 vertices, 932 faces (18.8% reduction)\n",
      "Grid size 0.2: 291 vertices, 578 faces (49.5% reduction)\n",
      "Grid size 0.3: 157 vertices, 310 faces (72.7% reduction)\n",
      "Grid size 0.5: 57 vertices, 110 faces (90.1% reduction)\n"
     ]
    },
    {
     "data": {
      "text/plain": [
       "Mesh{3, Float32, GeometryBasics.TriangleFace{Int64}}\n",
       "    faces: 310\n",
       "    vertex position: 157\n"
      ]
     },
     "metadata": {},
     "output_type": "display_data"
    }
   ],
   "source": [
    "using GLMakie\n",
    "import GLMakie.GeometryBasics\n",
    "using LinearAlgebra\n",
    "\n",
    "# Vertex clustering mesh simplification\n",
    "function vertex_clustering_simplification(vertices::Vector{Point3f}, faces::Vector{GeometryBasics.NgonFace{3, Int}}, grid_size::Float64)\n",
    "    # Create a spatial grid for clustering\n",
    "    # Find bounding box\n",
    "    min_coords = Point3f(Inf, Inf, Inf)\n",
    "    max_coords = Point3f(-Inf, -Inf, -Inf)\n",
    "    \n",
    "    for v in vertices\n",
    "        min_coords = Point3f(min(min_coords[1], v[1]), min(min_coords[2], v[2]), min(min_coords[3], v[3]))\n",
    "        max_coords = Point3f(max(max_coords[1], v[1]), max(max_coords[2], v[2]), max(max_coords[3], v[3]))\n",
    "    end\n",
    "    \n",
    "    # Create grid cells\n",
    "    grid_cells = Dict{Tuple{Int, Int, Int}, Vector{Int}}()\n",
    "    \n",
    "    # Assign vertices to grid cells\n",
    "    for (i, v) in enumerate(vertices)\n",
    "        # Calculate grid cell coordinates\n",
    "        cell_x = Int(floor((v[1] - min_coords[1]) / grid_size))\n",
    "        cell_y = Int(floor((v[2] - min_coords[2]) / grid_size))\n",
    "        cell_z = Int(floor((v[3] - min_coords[3]) / grid_size))\n",
    "        \n",
    "        cell_key = (cell_x, cell_y, cell_z)\n",
    "        \n",
    "        if !haskey(grid_cells, cell_key)\n",
    "            grid_cells[cell_key] = Int[]\n",
    "        end\n",
    "        push!(grid_cells[cell_key], i)\n",
    "    end\n",
    "    \n",
    "    # Create clustered vertices and mapping\n",
    "    clustered_vertices = Point3f[]\n",
    "    vertex_mapping = Dict{Int, Int}()\n",
    "    \n",
    "    for (cell_key, vertex_indices) in grid_cells\n",
    "        if !isempty(vertex_indices)\n",
    "            # Compute centroid of vertices in this cell\n",
    "            centroid = Point3f(0.0, 0.0, 0.0)\n",
    "            for idx in vertex_indices\n",
    "                centroid = centroid + vertices[idx]\n",
    "            end\n",
    "            centroid = centroid / length(vertex_indices)\n",
    "            \n",
    "            # Add clustered vertex\n",
    "            push!(clustered_vertices, centroid)\n",
    "            cluster_idx = length(clustered_vertices)\n",
    "            \n",
    "            # Map all original vertices in this cell to the clustered vertex\n",
    "            for idx in vertex_indices\n",
    "                vertex_mapping[idx] = cluster_idx\n",
    "            end\n",
    "        end\n",
    "    end\n",
    "    \n",
    "    # Update faces with new vertex indices\n",
    "    new_faces = GeometryBasics.NgonFace{3, Int}[]\n",
    "    for face in faces\n",
    "        new_face_indices = [vertex_mapping[face[i]] for i in 1:3]\n",
    "        \n",
    "        # Only keep non-degenerate faces (all vertices different)\n",
    "        if length(unique(new_face_indices)) == 3\n",
    "            push!(new_faces, GeometryBasics.NgonFace{3, Int}(new_face_indices...))\n",
    "        end\n",
    "    end\n",
    "    \n",
    "    return clustered_vertices, new_faces\n",
    "end\n",
    "\n",
    "# Example usage\n",
    "function demo_vertex_clustering()\n",
    "    # Create original sphere mesh\n",
    "    S = GeometryBasics.mesh(GeometryBasics.Sphere(Point3f(0.0, 0.0, 0.0), 1.0))\n",
    "    vertices = S.position\n",
    "    faces = [GeometryBasics.NgonFace{3, Int}([Int(f[i].i) + 1 for i in 1:3]...) for f in S.faces]\n",
    "    \n",
    "    println(\"Original mesh: $(length(vertices)) vertices, $(length(faces)) faces\")\n",
    "    \n",
    "    # Apply vertex clustering with different grid sizes\n",
    "    grid_sizes = [0.1, 0.2, 0.3, 0.5]\n",
    "    \n",
    "    fig = Figure(size = (1200, 800))\n",
    "    \n",
    "    # Original mesh\n",
    "    ax1 = Axis3(fig[1, 1], title=\"Original Mesh\\n$(length(vertices)) vertices\")\n",
    "    mesh!(ax1, S, color=:blue, alpha=0.8)\n",
    "    \n",
    "    for (i, grid_size) in enumerate(grid_sizes)\n",
    "        clustered_vertices, clustered_faces = vertex_clustering_simplification(vertices, faces, grid_size)\n",
    "        \n",
    "        # Create new mesh\n",
    "        clustered_mesh = GeometryBasics.Mesh(clustered_vertices, clustered_faces)\n",
    "        \n",
    "        # Calculate reduction percentage\n",
    "        reduction = round((1 - length(clustered_vertices) / length(vertices)) * 100, digits=1)\n",
    "        \n",
    "        println(\"Grid size $grid_size: $(length(clustered_vertices)) vertices, $(length(clustered_faces)) faces ($(reduction)% reduction)\")\n",
    "        \n",
    "        # Plot\n",
    "        row = (i - 1) ÷ 2 + 1\n",
    "        col = (i - 1) % 2 + 2\n",
    "        ax = Axis3(fig[row, col], title=\"Grid Size: $grid_size\\n$(length(clustered_vertices)) vertices ($(reduction)% reduction)\")\n",
    "        mesh!(ax, clustered_mesh, color=:red, alpha=0.8)\n",
    "    end\n",
    "    \n",
    "    display(fig)\n",
    "    \n",
    "    # Return the most simplified mesh for further use\n",
    "    final_vertices, final_faces = vertex_clustering_simplification(vertices, faces, 0.3)\n",
    "    return GeometryBasics.Mesh(final_vertices, final_faces)\n",
    "end\n",
    "\n",
    "# Advanced vertex clustering with quality preservation\n",
    "function adaptive_vertex_clustering(vertices::Vector{Point3f}, faces::Vector{GeometryBasics.NgonFace{3, Int}}, target_reduction::Float64)\n",
    "    # Start with a small grid size and increase until we reach target reduction\n",
    "    grid_size = 0.01\n",
    "    max_grid_size = 1.0\n",
    "    target_vertex_count = Int(round(length(vertices) * (1 - target_reduction)))\n",
    "    \n",
    "    best_vertices = vertices\n",
    "    best_faces = faces\n",
    "    \n",
    "    while grid_size <= max_grid_size\n",
    "        clustered_vertices, clustered_faces = vertex_clustering_simplification(vertices, faces, grid_size)\n",
    "        \n",
    "        if length(clustered_vertices) <= target_vertex_count\n",
    "            best_vertices = clustered_vertices\n",
    "            best_faces = clustered_faces\n",
    "            break\n",
    "        end\n",
    "        \n",
    "        # If we're still above target, keep this result and continue\n",
    "        if length(clustered_vertices) < length(best_vertices)\n",
    "            best_vertices = clustered_vertices\n",
    "            best_faces = clustered_faces\n",
    "        end\n",
    "        \n",
    "        grid_size *= 1.5  # Increase grid size\n",
    "    end\n",
    "    \n",
    "    return best_vertices, best_faces\n",
    "end\n",
    "\n",
    "# Demo the adaptive clustering\n",
    "function demo_adaptive_clustering()\n",
    "    # Create original sphere mesh\n",
    "    S = GeometryBasics.mesh(GeometryBasics.Sphere(Point3f(0.0, 0.0, 0.0), 1.0))\n",
    "    vertices = S.position\n",
    "    faces = [GeometryBasics.NgonFace{3, Int}([Int(f[i].i) + 1 for i in 1:3]...) for f in S.faces]\n",
    "    \n",
    "    println(\"Original mesh: $(length(vertices)) vertices, $(length(faces)) faces\")\n",
    "    \n",
    "    # Test different reduction targets\n",
    "    reductions = [0.25, 0.5, 0.75, 0.9]\n",
    "    \n",
    "    fig = Figure(size = (1200, 800))\n",
    "    \n",
    "    # Original mesh\n",
    "    ax1 = Axis3(fig[1, 1], title=\"Original Mesh\\n$(length(vertices)) vertices\")\n",
    "    mesh!(ax1, S, color=:blue, alpha=0.8)\n",
    "    \n",
    "    for (i, reduction) in enumerate(reductions)\n",
    "        adaptive_vertices, adaptive_faces = adaptive_vertex_clustering(vertices, faces, reduction)\n",
    "        \n",
    "        # Create new mesh\n",
    "        adaptive_mesh = GeometryBasics.Mesh(adaptive_vertices, adaptive_faces)\n",
    "        \n",
    "        # Calculate actual reduction percentage\n",
    "        actual_reduction = round((1 - length(adaptive_vertices) / length(vertices)) * 100, digits=1)\n",
    "        \n",
    "        println(\"Target $(reduction*100)% reduction: $(length(adaptive_vertices)) vertices, $(length(adaptive_faces)) faces (actual: $(actual_reduction)% reduction)\")\n",
    "        \n",
    "        # Plot\n",
    "        row = (i - 1) ÷ 2 + 1\n",
    "        col = (i - 1) % 2 + 2\n",
    "        ax = Axis3(fig[row, col], title=\"Target: $(reduction*100)% reduction\\n$(length(adaptive_vertices)) vertices (actual: $(actual_reduction)%)\")\n",
    "        mesh!(ax, adaptive_mesh, color=:green, alpha=0.8)\n",
    "    end\n",
    "    \n",
    "    display(fig)\n",
    "    \n",
    "    return adaptive_vertices, adaptive_faces\n",
    "end\n",
    "\n",
    "# Run the demos\n",
    "simplified_mesh = demo_vertex_clustering()"
   ]
  },
  {
   "cell_type": "code",
   "execution_count": 4,
   "id": "e409ec2e",
   "metadata": {},
   "outputs": [],
   "source": [
    "# Add wireframe visualization to the vertex clustering demo\n",
    "function demo_vertex_clustering_with_wireframe()\n",
    "    # Create original sphere mesh\n",
    "    S = GeometryBasics.mesh(GeometryBasics.Sphere(Point3f(0.0, 0.0, 0.0), 1.0))\n",
    "    vertices = S.position\n",
    "    faces = [GeometryBasics.NgonFace{3, Int}([Int(f[i].i) + 1 for i in 1:3]...) for f in S.faces]\n",
    "    \n",
    "    println(\"Original mesh: $(length(vertices)) vertices, $(length(faces)) faces\")\n",
    "    \n",
    "    # Apply vertex clustering with different grid sizes\n",
    "    grid_sizes = [0.1, 0.2, 0.3, 0.5]\n",
    "    \n",
    "    fig = Figure(size = (1200, 800))\n",
    "    \n",
    "    # Original mesh\n",
    "    ax1 = Axis3(fig[1, 1], title=\"Original Mesh\\n$(length(vertices)) vertices\")\n",
    "    mesh!(ax1, S, color=:blue, alpha=0.8)\n",
    "    \n",
    "    for (i, grid_size) in enumerate(grid_sizes)\n",
    "        clustered_vertices, clustered_faces = vertex_clustering_simplification(vertices, faces, grid_size)\n",
    "        \n",
    "        # Create new mesh\n",
    "        clustered_mesh = GeometryBasics.Mesh(clustered_vertices, clustered_faces)\n",
    "        \n",
    "        # Calculate reduction percentage\n",
    "        reduction = round((1 - length(clustered_vertices) / length(vertices)) * 100, digits=1)\n",
    "        \n",
    "        println(\"Grid size $grid_size: $(length(clustered_vertices)) vertices, $(length(clustered_faces)) faces ($(reduction)% reduction)\")\n",
    "        \n",
    "        # Plot\n",
    "        row = (i - 1) ÷ 2 + 1\n",
    "        col = (i - 1) % 2 + 2\n",
    "        ax = Axis3(fig[row, col], title=\"Grid Size: $grid_size\\n$(length(clustered_vertices)) vertices ($(reduction)% reduction)\")\n",
    "        \n",
    "        # Draw filled mesh\n",
    "        mesh!(ax, clustered_mesh, color=:red, alpha=0.6)\n",
    "        \n",
    "        # Draw wireframe for each face\n",
    "        for face in clustered_faces\n",
    "            v1 = clustered_vertices[face[1]]\n",
    "            v2 = clustered_vertices[face[2]]\n",
    "            v3 = clustered_vertices[face[3]]\n",
    "            \n",
    "            # Draw triangle edges\n",
    "            lines!(ax, [v1, v2, v3, v1], color=:black, linewidth=1.5)\n",
    "        end\n",
    "    end\n",
    "    \n",
    "    display(fig)\n",
    "    \n",
    "    # Return the most simplified mesh for further use\n",
    "    final_vertices, final_faces = vertex_clustering_simplification(vertices, faces, 0.3)\n",
    "    return GeometryBasics.Mesh(final_vertices, final_faces)\n",
    "end\n",
    "\n",
    "# Enhanced adaptive clustering with wireframe\n",
    "function demo_adaptive_clustering_with_wireframe()\n",
    "    # Create original sphere mesh\n",
    "    S = GeometryBasics.mesh(GeometryBasics.Sphere(Point3f(0.0, 0.0, 0.0), 1.0))\n",
    "    vertices = S.position\n",
    "    faces = [GeometryBasics.NgonFace{3, Int}([Int(f[i].i) + 1 for i in 1:3]...) for f in S.faces]\n",
    "    \n",
    "    println(\"Original mesh: $(length(vertices)) vertices, $(length(faces)) faces\")\n",
    "    \n",
    "    # Test different reduction targets\n",
    "    reductions = [0.25, 0.5, 0.75, 0.9]\n",
    "    \n",
    "    fig = Figure(size = (1200, 800))\n",
    "    \n",
    "    # Original mesh with wireframe\n",
    "    ax1 = Axis3(fig[1, 1], title=\"Original Mesh\\n$(length(vertices)) vertices\")\n",
    "    mesh!(ax1, S, color=:blue, alpha=0.6)\n",
    "    \n",
    "    # Draw original wireframe (sample only first 100 faces for performance)\n",
    "    for face in faces[1:min(100, length(faces))]\n",
    "        v1 = vertices[face[1]]\n",
    "        v2 = vertices[face[2]]\n",
    "        v3 = vertices[face[3]]\n",
    "        lines!(ax1, [v1, v2, v3, v1], color=:darkblue, linewidth=0.5)\n",
    "    end\n",
    "    \n",
    "    # Store the final result for return\n",
    "    final_result = nothing\n",
    "    \n",
    "    for (i, reduction) in enumerate(reductions)\n",
    "        curr_vertices, curr_faces = adaptive_vertex_clustering(vertices, faces, reduction)\n",
    "        \n",
    "        # Store the last result\n",
    "        if i == length(reductions)\n",
    "            final_result = (curr_vertices, curr_faces)\n",
    "        end\n",
    "        \n",
    "        # Create new mesh\n",
    "        adaptive_mesh = GeometryBasics.Mesh(curr_vertices, curr_faces)\n",
    "        \n",
    "        # Calculate actual reduction percentage\n",
    "        actual_reduction = round((1 - length(curr_vertices) / length(vertices)) * 100, digits=1)\n",
    "        \n",
    "        println(\"Target $(reduction*100)% reduction: $(length(curr_vertices)) vertices, $(length(curr_faces)) faces (actual: $(actual_reduction)% reduction)\")\n",
    "        \n",
    "        # Plot\n",
    "        row = (i - 1) ÷ 2 + 1\n",
    "        col = (i - 1) % 2 + 2\n",
    "        ax = Axis3(fig[row, col], title=\"Target: $(reduction*100)% reduction\\n$(length(curr_vertices)) vertices (actual: $(actual_reduction)%)\")\n",
    "        \n",
    "        # Draw filled mesh\n",
    "        mesh!(ax, adaptive_mesh, color=:green, alpha=0.6)\n",
    "        \n",
    "        # Draw wireframe for each face\n",
    "        for face in curr_faces\n",
    "            v1 = curr_vertices[face[1]]\n",
    "            v2 = curr_vertices[face[2]]\n",
    "            v3 = curr_vertices[face[3]]\n",
    "            \n",
    "            # Draw triangle edges\n",
    "            lines!(ax, [v1, v2, v3, v1], color=:darkgreen, linewidth=1.5)\n",
    "        end\n",
    "    end\n",
    "    \n",
    "    display(fig)\n",
    "    \n",
    "    return final_result\n",
    "end\n",
    "\n",
    "# Function to create wireframe-only visualization\n",
    "function visualize_wireframe_only(vertices::Vector{Point3f}, faces::Vector{GeometryBasics.NgonFace{3, Int}}, title::String=\"Wireframe Mesh\")\n",
    "    fig = Figure(size = (800, 600))\n",
    "    ax = Axis3(fig[1, 1], title=title)\n",
    "    \n",
    "    # Draw wireframe for each face\n",
    "    for face in faces\n",
    "        v1 = vertices[face[1]]\n",
    "        v2 = vertices[face[2]]\n",
    "        v3 = vertices[face[3]]\n",
    "        \n",
    "        # Draw triangle edges\n",
    "        lines!(ax, [v1, v2, v3, v1], color=:black, linewidth=1.0)\n",
    "    end\n",
    "    \n",
    "    display(fig)\n",
    "    return fig\n",
    "end\n",
    "nothing"
   ]
  },
  {
   "cell_type": "code",
   "execution_count": 52,
   "id": "92465eba",
   "metadata": {},
   "outputs": [
    {
     "name": "stdout",
     "output_type": "stream",
     "text": [
      "Original mesh: 576 vertices, 1058 faces\n",
      "Grid size 0.1: 468 vertices, 932 faces (18.8% reduction)\n",
      "Grid size 0.2: 291 vertices, 578 faces (49.5% reduction)\n",
      "Grid size 0.3: 157 vertices, 310 faces (72.7% reduction)\n",
      "Grid size 0.5: 57 vertices, 110 faces (90.1% reduction)\n"
     ]
    },
    {
     "data": {
      "text/plain": [
       "Mesh{3, Float32, GeometryBasics.TriangleFace{Int64}}\n",
       "    faces: 310\n",
       "    vertex position: 157\n"
      ]
     },
     "metadata": {},
     "output_type": "display_data"
    }
   ],
   "source": [
    "simplified_mesh = demo_vertex_clustering_with_wireframe()"
   ]
  },
  {
   "cell_type": "code",
   "execution_count": 53,
   "id": "e87482a3",
   "metadata": {},
   "outputs": [
    {
     "name": "stdout",
     "output_type": "stream",
     "text": [
      "Original mesh: 576 vertices, 1058 faces\n",
      "Target 25.0% reduction: 342 vertices, 680 faces (actual: 40.6% reduction)\n",
      "Target 50.0% reduction: 201 vertices, 398 faces (actual: 65.1% reduction)\n",
      "Target 75.0% reduction: 106 vertices, 208 faces (actual: 81.6% reduction)\n",
      "Target 90.0% reduction: 48 vertices, 92 faces (actual: 91.7% reduction)\n"
     ]
    },
    {
     "data": {
      "text/plain": [
       "(GeometryBasics.Point{3, Float32}[[-0.14615677, -0.83344483, 0.4725292], [-0.6803071, -0.11419268, -0.6764999], [-0.12260679, 0.37824452, 0.88836735], [-0.5646684, 0.7999529, -0.1345839], [-0.8419488, -0.1157232, 0.45152676], [0.75862634, -0.46133092, -0.46006504], [0.800087, -0.48654366, 0.33280024], [-0.5894169, 0.44617537, -0.6303114], [-0.17181617, 0.8268248, -0.51837265], [-0.6754416, 0.49810824, 0.479582]  …  [0.43934545, -0.84789824, -0.1345839], [-0.554001, 0.7848405, 0.2691678], [0.43219122, -0.09906625, -0.86144555], [0.32485017, 0.91404074, -0.1345839], [0.6974617, -0.14422695, 0.6825532], [-0.66211104, -0.7089479, -0.1345839], [0.43611488, 0.41239953, -0.75268286], [-0.050210834, -0.054391682, 0.97907054], [0.571221, 0.5559945, 0.5458654], [-0.11510051, -0.64930075, -0.70944494]], GeometryBasics.TriangleFace{Int64}[TriangleFace{Int64}(28, 43, 47), TriangleFace{Int64}(28, 47, 31), TriangleFace{Int64}(43, 22, 25), TriangleFace{Int64}(43, 25, 47), TriangleFace{Int64}(22, 26, 27), TriangleFace{Int64}(22, 27, 25), TriangleFace{Int64}(26, 20, 24), TriangleFace{Int64}(26, 24, 27), TriangleFace{Int64}(20, 41, 45), TriangleFace{Int64}(20, 45, 24)  …  TriangleFace{Int64}(39, 29, 6), TriangleFace{Int64}(39, 6, 15), TriangleFace{Int64}(43, 30, 22), TriangleFace{Int64}(30, 7, 22), TriangleFace{Int64}(7, 15, 26), TriangleFace{Int64}(7, 26, 22), TriangleFace{Int64}(15, 6, 20), TriangleFace{Int64}(15, 20, 26), TriangleFace{Int64}(6, 29, 20), TriangleFace{Int64}(29, 41, 20)])"
      ]
     },
     "metadata": {},
     "output_type": "display_data"
    }
   ],
   "source": [
    "adaptive_result = demo_adaptive_clustering_with_wireframe()"
   ]
  },
  {
   "cell_type": "code",
   "execution_count": 54,
   "id": "e49be11d",
   "metadata": {},
   "outputs": [],
   "source": [
    "wireframe_fig = visualize_wireframe_only(adaptive_result[1], adaptive_result[2], \"Wireframe Only - Adaptive Clustering\")"
   ]
  },
  {
   "cell_type": "code",
   "execution_count": 58,
   "id": "0d6cd6d8",
   "metadata": {},
   "outputs": [],
   "source": [
    "mymesh = GeometryBasics.mesh(GeometryBasics.Rect(Point2f(0, 0), Point2f(1, 1)))\n",
    "mesh(mymesh)"
   ]
  },
  {
   "cell_type": "markdown",
   "id": "cd19ac6e",
   "metadata": {},
   "source": [
    "---"
   ]
  },
  {
   "cell_type": "code",
   "execution_count": 2,
   "id": "2ac26e93",
   "metadata": {},
   "outputs": [
    {
     "data": {
      "text/plain": [
       "demo_simplify_function (generic function with 1 method)"
      ]
     },
     "metadata": {},
     "output_type": "display_data"
    }
   ],
   "source": [
    "using GLMakie\n",
    "import GLMakie.GeometryBasics\n",
    "\n",
    "\n",
    "# Vertex clustering mesh simplification\n",
    "function vertex_clustering_simplification(vertices::Vector{Point3f}, faces::Vector{GeometryBasics.NgonFace{3, Int}}, grid_size::Float64)\n",
    "    # Create a spatial grid for clustering\n",
    "    # Find bounding box\n",
    "    min_coords = Point3f(Inf, Inf, Inf)\n",
    "    max_coords = Point3f(-Inf, -Inf, -Inf)\n",
    "    \n",
    "    for v in vertices\n",
    "        min_coords = Point3f(min(min_coords[1], v[1]), min(min_coords[2], v[2]), min(min_coords[3], v[3]))\n",
    "        max_coords = Point3f(max(max_coords[1], v[1]), max(max_coords[2], v[2]), max(max_coords[3], v[3]))\n",
    "    end\n",
    "    \n",
    "    # Create grid cells\n",
    "    grid_cells = Dict{Tuple{Int, Int, Int}, Vector{Int}}()\n",
    "    \n",
    "    # Assign vertices to grid cells\n",
    "    for (i, v) in enumerate(vertices)\n",
    "        # Calculate grid cell coordinates\n",
    "        cell_x = Int(floor((v[1] - min_coords[1]) / grid_size))\n",
    "        cell_y = Int(floor((v[2] - min_coords[2]) / grid_size))\n",
    "        cell_z = Int(floor((v[3] - min_coords[3]) / grid_size))\n",
    "        \n",
    "        cell_key = (cell_x, cell_y, cell_z)\n",
    "        \n",
    "        if !haskey(grid_cells, cell_key)\n",
    "            grid_cells[cell_key] = Int[]\n",
    "        end\n",
    "        push!(grid_cells[cell_key], i)\n",
    "    end\n",
    "    \n",
    "    # Create clustered vertices and mapping\n",
    "    clustered_vertices = Point3f[]\n",
    "    vertex_mapping = Dict{Int, Int}()\n",
    "    \n",
    "    for (cell_key, vertex_indices) in grid_cells\n",
    "        if !isempty(vertex_indices)\n",
    "            # Compute centroid of vertices in this cell\n",
    "            centroid = Point3f(0.0, 0.0, 0.0)\n",
    "            for idx in vertex_indices\n",
    "                centroid = centroid + vertices[idx]\n",
    "            end\n",
    "            centroid = centroid / length(vertex_indices)\n",
    "            \n",
    "            # Add clustered vertex\n",
    "            push!(clustered_vertices, centroid)\n",
    "            cluster_idx = length(clustered_vertices)\n",
    "            \n",
    "            # Map all original vertices in this cell to the clustered vertex\n",
    "            for idx in vertex_indices\n",
    "                vertex_mapping[idx] = cluster_idx\n",
    "            end\n",
    "        end\n",
    "    end\n",
    "    \n",
    "    # Update faces with new vertex indices\n",
    "    new_faces = GeometryBasics.NgonFace{3, Int}[]\n",
    "    for face in faces\n",
    "        new_face_indices = [vertex_mapping[face[i]] for i in 1:3]\n",
    "        \n",
    "        # Only keep non-degenerate faces (all vertices different)\n",
    "        if length(unique(new_face_indices)) == 3\n",
    "            push!(new_faces, GeometryBasics.NgonFace{3, Int}(new_face_indices...))\n",
    "        end\n",
    "    end\n",
    "    \n",
    "    return clustered_vertices, new_faces\n",
    "end\n",
    "\n",
    "# Advanced vertex clustering with quality preservation\n",
    "function adaptive_vertex_clustering(vertices::Vector{Point3f}, faces::Vector{GeometryBasics.NgonFace{3, Int}}, target_reduction::Float64)\n",
    "    # Start with a small grid size and increase until we reach target reduction\n",
    "    grid_size = 0.01\n",
    "    max_grid_size = 1.0\n",
    "    target_vertex_count = Int(round(length(vertices) * (1 - target_reduction)))\n",
    "    \n",
    "    best_vertices = vertices\n",
    "    best_faces = faces\n",
    "    \n",
    "    while grid_size <= max_grid_size\n",
    "        clustered_vertices, clustered_faces = vertex_clustering_simplification(vertices, faces, grid_size)\n",
    "        \n",
    "        if length(clustered_vertices) <= target_vertex_count\n",
    "            best_vertices = clustered_vertices\n",
    "            best_faces = clustered_faces\n",
    "            break\n",
    "        end\n",
    "        \n",
    "        # If we're still above target, keep this result and continue\n",
    "        if length(clustered_vertices) < length(best_vertices)\n",
    "            best_vertices = clustered_vertices\n",
    "            best_faces = clustered_faces\n",
    "        end\n",
    "        \n",
    "        grid_size *= 1.5  # Increase grid size\n",
    "    end\n",
    "    \n",
    "    return best_vertices, best_faces\n",
    "end\n",
    "\n",
    "\"\"\"\n",
    "    simplify(mesh::GeometryBasics.Mesh, intensity::Float64, algorithm::Symbol)\n",
    "\n",
    "Simplify a mesh using the specified algorithm and intensity.\n",
    "\n",
    "# Arguments\n",
    "- `mesh`: The input GeometryBasics.Mesh to simplify\n",
    "- `intensity`: Simplification intensity factor\n",
    "  - For `:simple`: grid size (0.01 to 1.0, higher = more aggressive)\n",
    "  - For `:adaptive`: reduction percentage (0.0 to 1.0, where 0.5 = 50% reduction)\n",
    "- `algorithm`: Either `:simple` or `:adaptive`\n",
    "\n",
    "# Returns\n",
    "- `GeometryBasics.Mesh`: The simplified mesh\n",
    "\n",
    "# Examples\n",
    "```julia\n",
    "# Simple vertex clustering with grid size 0.3\n",
    "simplified = simplify(mesh, 0.3, :simple)\n",
    "\n",
    "# Adaptive clustering with 75% vertex reduction\n",
    "simplified = simplify(mesh, 0.75, :adaptive)\n",
    "```\n",
    "\"\"\"\n",
    "function simplify(mesh::GeometryBasics.Mesh, intensity::Float64, algorithm::Symbol)\n",
    "    # Extract vertices and faces from input mesh\n",
    "    vertices = mesh.position\n",
    "    faces = [GeometryBasics.NgonFace{3, Int}([Int(f[i].i) + 1 for i in 1:3]...) for f in mesh.faces]\n",
    "    \n",
    "    # Validate algorithm parameter\n",
    "    if algorithm ∉ [:simple, :adaptive]\n",
    "        throw(ArgumentError(\"Algorithm must be :simple or :adaptive, got :$algorithm\"))\n",
    "    end\n",
    "    \n",
    "    # Validate intensity parameter\n",
    "    if intensity < 0.0 || intensity > 1.0\n",
    "        throw(ArgumentError(\"Intensity must be between 0.0 and 1.0, got $intensity\"))\n",
    "    end\n",
    "    \n",
    "    # Apply the appropriate simplification algorithm\n",
    "    if algorithm == :simple\n",
    "        # For simple algorithm, intensity is the grid size\n",
    "        # Map intensity (0.0-1.0) to reasonable grid size range (0.01-1.0)\n",
    "        grid_size = 0.01 + intensity * 0.99\n",
    "        \n",
    "        println(\"Simplifying mesh using vertex clustering with grid size: $grid_size\")\n",
    "        simplified_vertices, simplified_faces = vertex_clustering_simplification(vertices, faces, grid_size)\n",
    "        \n",
    "    elseif algorithm == :adaptive\n",
    "        # For adaptive algorithm, intensity is the reduction percentage\n",
    "        target_reduction = intensity\n",
    "        \n",
    "        println(\"Simplifying mesh using adaptive clustering with $(target_reduction*100)% reduction target\")\n",
    "        simplified_vertices, simplified_faces = adaptive_vertex_clustering(vertices, faces, target_reduction)\n",
    "    end\n",
    "    \n",
    "    # Create and return the simplified mesh\n",
    "    simplified_mesh = GeometryBasics.Mesh(simplified_vertices, simplified_faces)\n",
    "    \n",
    "    # Print simplification results\n",
    "    original_vertex_count = length(vertices)\n",
    "    simplified_vertex_count = length(simplified_vertices)\n",
    "    actual_reduction = round((1 - simplified_vertex_count / original_vertex_count) * 100, digits=1)\n",
    "    \n",
    "    println(\"Simplification complete:\")\n",
    "    println(\"  Original vertices: $original_vertex_count\")\n",
    "    println(\"  Simplified vertices: $simplified_vertex_count\")\n",
    "    println(\"  Actual reduction: $(actual_reduction)%\")\n",
    "    \n",
    "    return simplified_mesh\n",
    "end\n",
    "\n",
    "# Convenience function for quick testing\n",
    "function demo_simplify_function()\n",
    "    # Create a test mesh\n",
    "    S = GeometryBasics.mesh(GeometryBasics.Sphere(Point3f(0.0, 0.0, 0.0), 1.0))\n",
    "    \n",
    "    println(\"=== Testing simplify function ===\")\n",
    "    println(\"Original mesh: $(length(S.position)) vertices, $(length(S.faces)) faces\")\n",
    "    \n",
    "    # Test simple algorithm with different intensities\n",
    "    println(\"\\n--- Simple Algorithm Tests ---\")\n",
    "    simple_low = simplify(S, 0.2, :simple)      # Low intensity (small grid)\n",
    "    simple_medium = simplify(S, 0.5, :simple)   # Medium intensity\n",
    "    simple_high = simplify(S, 0.8, :simple)     # High intensity (large grid)\n",
    "    \n",
    "    # Test adaptive algorithm with different intensities\n",
    "    println(\"\\n--- Adaptive Algorithm Tests ---\")\n",
    "    adaptive_25 = simplify(S, 0.25, :adaptive)   # 25% reduction\n",
    "    adaptive_50 = simplify(S, 0.50, :adaptive)   # 50% reduction\n",
    "    adaptive_75 = simplify(S, 0.75, :adaptive)   # 75% reduction\n",
    "    \n",
    "    # Visualize results\n",
    "    fig = Figure(size = (1500, 1000))\n",
    "    \n",
    "    # Original\n",
    "    ax1 = Axis3(fig[1, 1], title=\"Original\\n$(length(S.position)) vertices\")\n",
    "    mesh!(ax1, S, color=:blue, alpha=0.8)\n",
    "    \n",
    "    # Simple results\n",
    "    ax2 = Axis3(fig[1, 2], title=\"Simple (0.2)\\n$(length(simple_low.position)) vertices\")\n",
    "    mesh!(ax2, simple_low, color=:red, alpha=0.8)\n",
    "    \n",
    "    ax3 = Axis3(fig[1, 3], title=\"Simple (0.5)\\n$(length(simple_medium.position)) vertices\")\n",
    "    mesh!(ax3, simple_medium, color=:red, alpha=0.8)\n",
    "    \n",
    "    ax4 = Axis3(fig[1, 4], title=\"Simple (0.8)\\n$(length(simple_high.position)) vertices\")\n",
    "    mesh!(ax4, simple_high, color=:red, alpha=0.8)\n",
    "    \n",
    "    # Adaptive results\n",
    "    ax5 = Axis3(fig[2, 1], title=\"Adaptive (25%)\\n$(length(adaptive_25.position)) vertices\")\n",
    "    mesh!(ax5, adaptive_25, color=:green, alpha=0.8)\n",
    "    \n",
    "    ax6 = Axis3(fig[2, 2], title=\"Adaptive (50%)\\n$(length(adaptive_50.position)) vertices\")\n",
    "    mesh!(ax6, adaptive_50, color=:green, alpha=0.8)\n",
    "    \n",
    "    ax7 = Axis3(fig[2, 3], title=\"Adaptive (75%)\\n$(length(adaptive_75.position)) vertices\")\n",
    "    mesh!(ax7, adaptive_75, color=:green, alpha=0.8)\n",
    "    \n",
    "    display(fig)\n",
    "    \n",
    "    return (simple_low, simple_medium, simple_high, adaptive_25, adaptive_50, adaptive_75)\n",
    "end\n",
    "\n",
    "# Run the demo\n",
    "# test_results = demo_simplify_function()"
   ]
  },
  {
   "cell_type": "code",
   "execution_count": 3,
   "id": "7cc05776",
   "metadata": {},
   "outputs": [
    {
     "name": "stdout",
     "output_type": "stream",
     "text": [
      "\n",
      "Simplifying mesh using vertex clustering with grid size: 0.20800000000000002\n",
      "Simplification complete:\n",
      "  Original vertices: 576\n",
      "  Simplified vertices: 277\n",
      "  Actual reduction: 51.9%\n",
      "\n",
      "Simplifying mesh using vertex clustering with grid size: 0.802\n",
      "Simplification complete:\n",
      "  Original vertices: 576\n",
      "  Simplified vertices: 26\n",
      "  Actual reduction: 95.5%\n",
      "\n",
      "Simplifying mesh using adaptive clustering with 50.0% reduction target\n",
      "Simplification complete:\n",
      "  Original vertices: 576\n",
      "  Simplified vertices: 201\n",
      "  Actual reduction: 65.1%\n",
      "\n",
      "Simplifying mesh using adaptive clustering with 90.0% reduction target\n",
      "Simplification complete:\n",
      "  Original vertices: 576\n",
      "  Simplified vertices: 48\n",
      "  Actual reduction: 91.7%\n"
     ]
    },
    {
     "data": {
      "text/plain": [
       "Mesh{3, Float32, GeometryBasics.TriangleFace{Int64}}\n",
       "    faces: 92\n",
       "    vertex position: 48\n"
      ]
     },
     "metadata": {},
     "output_type": "display_data"
    }
   ],
   "source": [
    "# Create a mesh\n",
    "S = GeometryBasics.mesh(GeometryBasics.Sphere(Point3f(0.0, 0.0, 0.0), 1.0))\n",
    "println()\n",
    "# Simple vertex clustering with low intensity (fine grid)\n",
    "simplified_fine = simplify(S, 0.2, :simple)\n",
    "println()\n",
    "\n",
    "# Simple vertex clustering with high intensity (coarse grid)\n",
    "simplified_coarse = simplify(S, 0.8, :simple)\n",
    "println()\n",
    "\n",
    "# Adaptive clustering for 50% vertex reduction\n",
    "simplified_half = simplify(S, 0.5, :adaptive)\n",
    "println()\n",
    "\n",
    "# Adaptive clustering for aggressive 90% reduction\n",
    "simplified_aggressive = simplify(S, 0.9, :adaptive)"
   ]
  },
  {
   "cell_type": "code",
   "execution_count": 4,
   "id": "d7d7e592",
   "metadata": {},
   "outputs": [
    {
     "data": {
      "text/plain": [
       "plot_with_wireframe (generic function with 1 method)"
      ]
     },
     "metadata": {},
     "output_type": "display_data"
    }
   ],
   "source": [
    "function plot_with_wireframe(m)\n",
    "    f, ax, pl = mesh(m)\n",
    "    wires = wireframe!(ax, m, color=:black)\n",
    "    display(f)\n",
    "    return f, ax, pl, wires\n",
    "end"
   ]
  },
  {
   "cell_type": "code",
   "execution_count": 5,
   "id": "c0022773",
   "metadata": {},
   "outputs": [
    {
     "data": {
      "text/plain": [
       "(Scene (600px, 450px):\n",
       "  0 Plots\n",
       "  1 Child Scene:\n",
       "    └ Scene (600px, 450px), LScene(), Mesh{Tuple{GeometryBasics.Mesh{3, Float32, GeometryBasics.NgonFace{3, GeometryBasics.OffsetInteger{-1, UInt32}}, (:position, :normal), Tuple{Vector{Point{3, Float32}}, Vector{Vec{3, Float32}}}, Vector{GeometryBasics.NgonFace{3, GeometryBasics.OffsetInteger{-1, UInt32}}}}}}, Wireframe{Tuple{GeometryBasics.Mesh{3, Float32, GeometryBasics.NgonFace{3, GeometryBasics.OffsetInteger{-1, UInt32}}, (:position,), Tuple{Vector{Point{3, Float32}}}, Vector{GeometryBasics.NgonFace{3, GeometryBasics.OffsetInteger{-1, UInt32}}}}}})"
      ]
     },
     "metadata": {},
     "output_type": "display_data"
    }
   ],
   "source": [
    "plot_with_wireframe(S)"
   ]
  },
  {
   "cell_type": "code",
   "execution_count": 6,
   "id": "02a0c575",
   "metadata": {},
   "outputs": [
    {
     "data": {
      "text/plain": [
       "(Scene (600px, 450px):\n",
       "  0 Plots\n",
       "  1 Child Scene:\n",
       "    └ Scene (600px, 450px), LScene(), Mesh{Tuple{GeometryBasics.Mesh{3, Float32, GeometryBasics.NgonFace{3, GeometryBasics.OffsetInteger{-1, UInt32}}, (:position, :normal), Tuple{Vector{Point{3, Float32}}, Vector{Vec{3, Float32}}}, Vector{GeometryBasics.NgonFace{3, GeometryBasics.OffsetInteger{-1, UInt32}}}}}}, Wireframe{Tuple{GeometryBasics.Mesh{3, Float32, GeometryBasics.TriangleFace{Int64}, (:position,), Tuple{Vector{Point{3, Float32}}}, Vector{GeometryBasics.TriangleFace{Int64}}}}})"
      ]
     },
     "metadata": {},
     "output_type": "display_data"
    }
   ],
   "source": [
    "plot_with_wireframe(simplified_fine)"
   ]
  },
  {
   "cell_type": "code",
   "execution_count": 12,
   "id": "84aa9b6e",
   "metadata": {},
   "outputs": [
    {
     "data": {
      "text/plain": [
       "(Scene(1 children, 0 plots), LScene(), Mesh{Tuple{GeometryBasics.Mesh{3, Float32, GeometryBasics.NgonFace{3, GeometryBasics.OffsetInteger{-1, UInt32}}, (:position, :normal), Tuple{Vector{Point{3, Float32}}, Vector{Vec{3, Float32}}}, Vector{GeometryBasics.NgonFace{3, GeometryBasics.OffsetInteger{-1, UInt32}}}}}}, Wireframe{Tuple{GeometryBasics.Mesh{3, Float32, GeometryBasics.TriangleFace{Int64}, (:position,), Tuple{Vector{Point{3, Float32}}}, Vector{GeometryBasics.TriangleFace{Int64}}}}})"
      ]
     },
     "metadata": {},
     "output_type": "display_data"
    }
   ],
   "source": [
    "plot_with_wireframe(simplified_coarse)"
   ]
  },
  {
   "cell_type": "code",
   "execution_count": 13,
   "id": "c81f7406",
   "metadata": {},
   "outputs": [
    {
     "data": {
      "text/plain": [
       "(Scene(1 children, 0 plots), LScene(), Mesh{Tuple{GeometryBasics.Mesh{3, Float32, GeometryBasics.NgonFace{3, GeometryBasics.OffsetInteger{-1, UInt32}}, (:position, :normal), Tuple{Vector{Point{3, Float32}}, Vector{Vec{3, Float32}}}, Vector{GeometryBasics.NgonFace{3, GeometryBasics.OffsetInteger{-1, UInt32}}}}}}, Wireframe{Tuple{GeometryBasics.Mesh{3, Float32, GeometryBasics.TriangleFace{Int64}, (:position,), Tuple{Vector{Point{3, Float32}}}, Vector{GeometryBasics.TriangleFace{Int64}}}}})"
      ]
     },
     "metadata": {},
     "output_type": "display_data"
    }
   ],
   "source": [
    "plot_with_wireframe(simplified_half)"
   ]
  },
  {
   "cell_type": "code",
   "execution_count": 14,
   "id": "9219e670",
   "metadata": {},
   "outputs": [
    {
     "data": {
      "text/plain": [
       "(Scene(1 children, 0 plots), LScene(), Mesh{Tuple{GeometryBasics.Mesh{3, Float32, GeometryBasics.NgonFace{3, GeometryBasics.OffsetInteger{-1, UInt32}}, (:position, :normal), Tuple{Vector{Point{3, Float32}}, Vector{Vec{3, Float32}}}, Vector{GeometryBasics.NgonFace{3, GeometryBasics.OffsetInteger{-1, UInt32}}}}}}, Wireframe{Tuple{GeometryBasics.Mesh{3, Float32, GeometryBasics.TriangleFace{Int64}, (:position,), Tuple{Vector{Point{3, Float32}}}, Vector{GeometryBasics.TriangleFace{Int64}}}}})"
      ]
     },
     "metadata": {},
     "output_type": "display_data"
    }
   ],
   "source": [
    "plot_with_wireframe(simplified_aggressive)"
   ]
  },
  {
   "cell_type": "code",
   "execution_count": 15,
   "id": "8af64d07",
   "metadata": {},
   "outputs": [
    {
     "name": "stdout",
     "output_type": "stream",
     "text": [
      "Simplifying mesh using adaptive clustering with 90.0% reduction target\n",
      "Simplification complete:\n",
      "  Original vertices: 576\n",
      "  Simplified vertices: 48\n",
      "  Actual reduction: 91.7%\n"
     ]
    },
    {
     "data": {
      "text/plain": [
       "(Scene(1 children, 0 plots), LScene(), Mesh{Tuple{GeometryBasics.Mesh{3, Float32, GeometryBasics.NgonFace{3, GeometryBasics.OffsetInteger{-1, UInt32}}, (:position, :normal), Tuple{Vector{Point{3, Float32}}, Vector{Vec{3, Float32}}}, Vector{GeometryBasics.NgonFace{3, GeometryBasics.OffsetInteger{-1, UInt32}}}}}}, Wireframe{Tuple{GeometryBasics.Mesh{3, Float32, GeometryBasics.TriangleFace{Int64}, (:position,), Tuple{Vector{Point{3, Float32}}}, Vector{GeometryBasics.TriangleFace{Int64}}}}})"
      ]
     },
     "metadata": {},
     "output_type": "display_data"
    }
   ],
   "source": [
    "plot_with_wireframe(simplify(S, 0.9, :adaptive))"
   ]
  },
  {
   "cell_type": "code",
   "execution_count": 7,
   "id": "c3475fc0",
   "metadata": {},
   "outputs": [
    {
     "data": {
      "text/plain": [
       "Mesh{3, Float32, GeometryBasics.NgonFace{3, GeometryBasics.OffsetInteger{-1, UInt32}}}\n",
       "    faces: 18240\n",
       "    vertex position: 9122\n"
      ]
     },
     "metadata": {},
     "output_type": "display_data"
    }
   ],
   "source": [
    "using FileIO\n",
    "\n",
    "# _wing_model = load(\"../Models/DragonFly/FrontRight.stl\") # Load the shader for the body\n",
    "_wing_model = load(\"../Models/DragonFly/HighQuality/frontrightwing.obj\") # Load the shader for the wing\n",
    "_wing_model = GeometryBasics.mesh(_wing_model)"
   ]
  },
  {
   "cell_type": "code",
   "execution_count": 8,
   "id": "33956198",
   "metadata": {},
   "outputs": [
    {
     "name": "stdout",
     "output_type": "stream",
     "text": [
      "Simplifying mesh using adaptive clustering with 99.0% reduction target\n",
      "Simplification complete:\n",
      "  Original vertices: 9122\n",
      "  Simplified vertices: 64\n",
      "  Actual reduction: 99.3%\n"
     ]
    },
    {
     "data": {
      "text/plain": [
       "Mesh{3, Float32, GeometryBasics.TriangleFace{Int64}}\n",
       "    faces: 166\n",
       "    vertex position: 64\n"
      ]
     },
     "metadata": {},
     "output_type": "display_data"
    }
   ],
   "source": [
    "simpled_wing = simplify(_wing_model, 0.99, :adaptive)"
   ]
  },
  {
   "cell_type": "code",
   "execution_count": 9,
   "id": "f6dfc112",
   "metadata": {},
   "outputs": [
    {
     "data": {
      "text/plain": [
       "Mesh{3, Float32, GeometryBasics.NgonFace{3, GeometryBasics.OffsetInteger{-1, UInt32}}}\n",
       "    faces: 18240\n",
       "    vertex position: 9122\n"
      ]
     },
     "metadata": {},
     "output_type": "display_data"
    }
   ],
   "source": [
    "_wing_model"
   ]
  },
  {
   "cell_type": "code",
   "execution_count": 10,
   "id": "9e857a9a",
   "metadata": {},
   "outputs": [
    {
     "data": {
      "text/plain": [
       "Mesh{3, Float32, GeometryBasics.TriangleFace{Int64}}\n",
       "    faces: 166\n",
       "    vertex position: 64\n"
      ]
     },
     "metadata": {},
     "output_type": "display_data"
    }
   ],
   "source": [
    "simpled_wing"
   ]
  },
  {
   "cell_type": "code",
   "execution_count": 11,
   "id": "bbe694ce",
   "metadata": {},
   "outputs": [
    {
     "data": {
      "text/plain": [
       "(Scene (600px, 450px):\n",
       "  0 Plots\n",
       "  1 Child Scene:\n",
       "    └ Scene (600px, 450px), LScene(), Mesh{Tuple{GeometryBasics.Mesh{3, Float32, GeometryBasics.NgonFace{3, GeometryBasics.OffsetInteger{-1, UInt32}}, (:position, :normal), Tuple{Vector{Point{3, Float32}}, Vector{Vec{3, Float32}}}, Vector{GeometryBasics.NgonFace{3, GeometryBasics.OffsetInteger{-1, UInt32}}}}}}, Wireframe{Tuple{GeometryBasics.Mesh{3, Float32, GeometryBasics.TriangleFace{Int64}, (:position,), Tuple{Vector{Point{3, Float32}}}, Vector{GeometryBasics.TriangleFace{Int64}}}}})"
      ]
     },
     "metadata": {},
     "output_type": "display_data"
    }
   ],
   "source": [
    "plot_with_wireframe(simpled_wing)"
   ]
  },
  {
   "cell_type": "code",
   "execution_count": 8,
   "id": "35704907",
   "metadata": {},
   "outputs": [
    {
     "name": "stdout",
     "output_type": "stream",
     "text": [
      "Simplifying mesh using vertex clustering with grid size: 0.20800000000000002\n",
      "Simplification complete:\n",
      "  Original vertices: 9122\n",
      "  Simplified vertices: 88\n",
      "  Actual reduction: 99.0%\n"
     ]
    },
    {
     "data": {
      "text/plain": [
       "(Scene (600px, 450px):\n",
       "  0 Plots\n",
       "  1 Child Scene:\n",
       "    └ Scene (600px, 450px), LScene(), Mesh{Tuple{GeometryBasics.Mesh{3, Float32, GeometryBasics.NgonFace{3, GeometryBasics.OffsetInteger{-1, UInt32}}, (:position, :normal), Tuple{Vector{Point{3, Float32}}, Vector{Vec{3, Float32}}}, Vector{GeometryBasics.NgonFace{3, GeometryBasics.OffsetInteger{-1, UInt32}}}}}}, Wireframe{Tuple{GeometryBasics.Mesh{3, Float32, GeometryBasics.TriangleFace{Int64}, (:position,), Tuple{Vector{Point{3, Float32}}}, Vector{GeometryBasics.TriangleFace{Int64}}}}})"
      ]
     },
     "metadata": {},
     "output_type": "display_data"
    }
   ],
   "source": [
    "plot_with_wireframe(simplify(_wing_model, 0.2, :simple))"
   ]
  },
  {
   "cell_type": "code",
   "execution_count": 40,
   "id": "a0869211",
   "metadata": {},
   "outputs": [
    {
     "name": "stdout",
     "output_type": "stream",
     "text": [
      "Simplifying mesh using vertex clustering with grid size: 0.1585\n",
      "Simplification complete:\n",
      "  Original vertices: 9122\n",
      "  Simplified vertices: 154\n",
      "  Actual reduction: 98.3%\n"
     ]
    },
    {
     "data": {
      "text/plain": [
       "(Scene (600px, 450px):\n",
       "  0 Plots\n",
       "  1 Child Scene:\n",
       "    └ Scene (600px, 450px), LScene(), Mesh{Tuple{GeometryBasics.Mesh{3, Float32, GeometryBasics.NgonFace{3, GeometryBasics.OffsetInteger{-1, UInt32}}, (:position, :normal), Tuple{Vector{Point{3, Float32}}, Vector{Vec{3, Float32}}}, Vector{GeometryBasics.NgonFace{3, GeometryBasics.OffsetInteger{-1, UInt32}}}}}}, Wireframe{Tuple{GeometryBasics.Mesh{3, Float32, GeometryBasics.TriangleFace{Int64}, (:position,), Tuple{Vector{Point{3, Float32}}}, Vector{GeometryBasics.TriangleFace{Int64}}}}})"
      ]
     },
     "metadata": {},
     "output_type": "display_data"
    }
   ],
   "source": [
    "plot_at = plot_with_wireframe(simplify(_wing_model, 0.15, :simple))"
   ]
  },
  {
   "cell_type": "code",
   "execution_count": 41,
   "id": "cb92e782",
   "metadata": {},
   "outputs": [
    {
     "data": {
      "text/plain": [
       "Mesh{Tuple{GeometryBasics.Mesh{3, Float32, GeometryBasics.NgonFace{3, GeometryBasics.OffsetInteger{-1, UInt32}}, (:position, :normal), Tuple{Vector{Point{3, Float32}}, Vector{Vec{3, Float32}}}, Vector{GeometryBasics.NgonFace{3, GeometryBasics.OffsetInteger{-1, UInt32}}}}}}"
      ]
     },
     "metadata": {},
     "output_type": "display_data"
    }
   ],
   "source": [
    "mesh!(plot_at[2], _wing_model, color=:red, alpha=0.5)"
   ]
  },
  {
   "cell_type": "markdown",
   "id": "4442dd6d",
   "metadata": {},
   "source": [
    "---"
   ]
  },
  {
   "cell_type": "code",
   "execution_count": 16,
   "id": "3e997516",
   "metadata": {},
   "outputs": [
    {
     "data": {
      "text/plain": [
       "demo_all_algorithms (generic function with 1 method)"
      ]
     },
     "metadata": {},
     "output_type": "display_data"
    }
   ],
   "source": [
    "\n",
    "using LinearAlgebra\n",
    "using Statistics: mean, std\n",
    "\n",
    "# Calculate triangle angles in degrees\n",
    "function triangle_angles(v1::Point3f, v2::Point3f, v3::Point3f)\n",
    "    # Edge vectors\n",
    "    a = v2 - v1\n",
    "    b = v3 - v1\n",
    "    c = v3 - v2\n",
    "    \n",
    "    # Edge lengths\n",
    "    len_a = norm(a)\n",
    "    len_b = norm(b)\n",
    "    len_c = norm(c)\n",
    "    \n",
    "    # Prevent division by zero\n",
    "    if len_a < 1e-10 || len_b < 1e-10 || len_c < 1e-10\n",
    "        return [0.0, 0.0, 0.0]\n",
    "    end\n",
    "    \n",
    "    # Calculate angles using law of cosines\n",
    "    angle1 = acos(clamp(dot(a, b) / (len_a * len_b), -1.0, 1.0))\n",
    "    angle2 = acos(clamp(dot(-a, c) / (len_a * len_c), -1.0, 1.0))\n",
    "    angle3 = π - angle1 - angle2\n",
    "    \n",
    "    # Convert to degrees\n",
    "    return [rad2deg(angle1), rad2deg(angle2), rad2deg(angle3)]\n",
    "end\n",
    "\n",
    "# Calculate triangle quality based on angle deviation from 60 degrees\n",
    "function triangle_angle_quality(v1::Point3f, v2::Point3f, v3::Point3f)\n",
    "    angles = triangle_angles(v1, v2, v3)\n",
    "    \n",
    "    # Calculate deviation from 60 degrees\n",
    "    deviations = abs.(angles .- 60.0)\n",
    "    \n",
    "    # Quality score: lower is better (0 = perfect equilateral triangle)\n",
    "    # Maximum possible deviation is 120 degrees (degenerate triangle)\n",
    "    quality = sum(deviations) / 180.0  # Normalize to [0, 1]\n",
    "    \n",
    "    return quality\n",
    "end\n",
    "\n",
    "# Quality-based vertex clustering with angle optimization\n",
    "function angle_optimized_clustering(vertices::Vector{Point3f}, faces::Vector{GeometryBasics.NgonFace{3, Int}}, target_reduction::Float64)\n",
    "    # Start with a copy of the original mesh\n",
    "    current_vertices = copy(vertices)\n",
    "    current_faces = copy(faces)\n",
    "    target_vertex_count = Int(round(length(vertices) * (1 - target_reduction)))\n",
    "    \n",
    "    # Track which vertices can be merged\n",
    "    vertex_quality = Dict{Int, Float64}()\n",
    "    \n",
    "    # Calculate initial quality for all vertices\n",
    "    for (i, vertex) in enumerate(current_vertices)\n",
    "        # Find faces containing this vertex\n",
    "        adjacent_faces = [f for f in current_faces if i in f]\n",
    "        \n",
    "        if !isempty(adjacent_faces)\n",
    "            # Calculate average quality of adjacent triangles\n",
    "            total_quality = 0.0\n",
    "            for face in adjacent_faces\n",
    "                v1 = current_vertices[face[1]]\n",
    "                v2 = current_vertices[face[2]]\n",
    "                v3 = current_vertices[face[3]]\n",
    "                total_quality += triangle_angle_quality(v1, v2, v3)\n",
    "            end\n",
    "            vertex_quality[i] = total_quality / length(adjacent_faces)\n",
    "        else\n",
    "            vertex_quality[i] = 1.0  # Worst quality for isolated vertices\n",
    "        end\n",
    "    end\n",
    "    \n",
    "    # Iteratively remove vertices with worst quality impact\n",
    "    while length(current_vertices) > target_vertex_count\n",
    "        # Find vertex pairs that can be merged\n",
    "        merge_candidates = []\n",
    "        \n",
    "        for i in 1:length(current_vertices)\n",
    "            for j in (i+1):length(current_vertices)\n",
    "                if i != j\n",
    "                    # Calculate distance between vertices\n",
    "                    dist = norm(current_vertices[i] - current_vertices[j])\n",
    "                    \n",
    "                    # Only consider nearby vertices for merging\n",
    "                    if dist < 0.1  # Adjustable threshold\n",
    "                        # Calculate quality improvement if we merge these vertices\n",
    "                        new_vertex = (current_vertices[i] + current_vertices[j]) / 2\n",
    "                        \n",
    "                        # Find faces that would be affected\n",
    "                        affected_faces = [f for f in current_faces if i in f || j in f]\n",
    "                        \n",
    "                        # Calculate current quality\n",
    "                        current_quality = 0.0\n",
    "                        valid_faces = 0\n",
    "                        for face in affected_faces\n",
    "                            v1 = current_vertices[face[1]]\n",
    "                            v2 = current_vertices[face[2]]\n",
    "                            v3 = current_vertices[face[3]]\n",
    "                            current_quality += triangle_angle_quality(v1, v2, v3)\n",
    "                            valid_faces += 1\n",
    "                        end\n",
    "                        \n",
    "                        if valid_faces > 0\n",
    "                            current_quality /= valid_faces\n",
    "                            \n",
    "                            # Calculate new quality after merge\n",
    "                            new_quality = 0.0\n",
    "                            new_valid_faces = 0\n",
    "                            \n",
    "                            for face in affected_faces\n",
    "                                # Create new face with merged vertex\n",
    "                                new_face_vertices = []\n",
    "                                for vertex_idx in face\n",
    "                                    if vertex_idx == i || vertex_idx == j\n",
    "                                        push!(new_face_vertices, new_vertex)\n",
    "                                    else\n",
    "                                        push!(new_face_vertices, current_vertices[vertex_idx])\n",
    "                                    end\n",
    "                                end\n",
    "                                \n",
    "                                # Skip degenerate triangles\n",
    "                                if length(unique(new_face_vertices)) == 3\n",
    "                                    new_quality += triangle_angle_quality(new_face_vertices[1], new_face_vertices[2], new_face_vertices[3])\n",
    "                                    new_valid_faces += 1\n",
    "                                end\n",
    "                            end\n",
    "                            \n",
    "                            if new_valid_faces > 0\n",
    "                                new_quality /= new_valid_faces\n",
    "                                quality_improvement = current_quality - new_quality\n",
    "                                \n",
    "                                push!(merge_candidates, (i, j, quality_improvement, new_vertex))\n",
    "                            end\n",
    "                        end\n",
    "                    end\n",
    "                end\n",
    "            end\n",
    "        end\n",
    "        \n",
    "        # If no good merge candidates, break\n",
    "        if isempty(merge_candidates)\n",
    "            break\n",
    "        end\n",
    "        \n",
    "        # Sort by quality improvement (highest first)\n",
    "        sort!(merge_candidates, by=x->x[3], rev=true)\n",
    "        \n",
    "        # Perform the best merge\n",
    "        best_merge = merge_candidates[1]\n",
    "        i, j, improvement, new_vertex = best_merge\n",
    "        \n",
    "        # Update vertices\n",
    "        new_vertices = Point3f[]\n",
    "        vertex_mapping = Dict{Int, Int}()\n",
    "        \n",
    "        for (idx, vertex) in enumerate(current_vertices)\n",
    "            if idx == i\n",
    "                push!(new_vertices, new_vertex)\n",
    "                vertex_mapping[idx] = length(new_vertices)\n",
    "            elseif idx == j\n",
    "                vertex_mapping[idx] = vertex_mapping[i]\n",
    "            else\n",
    "                push!(new_vertices, vertex)\n",
    "                vertex_mapping[idx] = length(new_vertices)\n",
    "            end\n",
    "        end\n",
    "        \n",
    "        # Update faces\n",
    "        new_faces = GeometryBasics.NgonFace{3, Int}[]\n",
    "        for face in current_faces\n",
    "            new_face_indices = [vertex_mapping[face[k]] for k in 1:3]\n",
    "            \n",
    "            # Only keep non-degenerate faces\n",
    "            if length(unique(new_face_indices)) == 3\n",
    "                push!(new_faces, GeometryBasics.NgonFace{3, Int}(new_face_indices...))\n",
    "            end\n",
    "        end\n",
    "        \n",
    "        current_vertices = new_vertices\n",
    "        current_faces = new_faces\n",
    "    end\n",
    "    \n",
    "    return current_vertices, current_faces\n",
    "end\n",
    "\n",
    "# Enhanced simplify function with angle optimization\n",
    "function simplify(mesh::GeometryBasics.Mesh, intensity::Float64, algorithm::Symbol)\n",
    "    # Extract vertices and faces from input mesh\n",
    "    vertices = mesh.position\n",
    "    faces = mesh.faces\n",
    "        # Handle different face types\n",
    "    if !isempty(faces)\n",
    "        # Check if faces need conversion from OffsetInteger to Int\n",
    "        first_face = faces[1]\n",
    "        if hasfield(typeof(first_face[1]), :i)\n",
    "            # Convert from OffsetInteger to Int (0-based to 1-based)\n",
    "            faces = [GeometryBasics.NgonFace{3, Int}([Int(f[i].i) + 1 for i in 1:3]...) for f in faces]\n",
    "        else\n",
    "            # Already Int type, keep as is\n",
    "            faces = [GeometryBasics.NgonFace{3, Int}([Int(f[i]) for i in 1:3]...) for f in faces]\n",
    "        end\n",
    "    end\n",
    "    \n",
    "    # Validate algorithm parameter\n",
    "    if algorithm ∉ [:simple, :adaptive, :angle_optimized]\n",
    "        throw(ArgumentError(\"Algorithm must be :simple, :adaptive, or :angle_optimized, got :$algorithm\"))\n",
    "    end\n",
    "    \n",
    "    # Validate intensity parameter\n",
    "    if intensity < 0.0 || intensity > 1.0\n",
    "        throw(ArgumentError(\"Intensity must be between 0.0 and 1.0, got $intensity\"))\n",
    "    end\n",
    "    \n",
    "    # Apply the appropriate simplification algorithm\n",
    "    if algorithm == :simple\n",
    "        # For simple algorithm, intensity is the grid size\n",
    "        grid_size = 0.01 + intensity * 0.99\n",
    "        \n",
    "        println(\"Simplifying mesh using vertex clustering with grid size: $grid_size\")\n",
    "        simplified_vertices, simplified_faces = vertex_clustering_simplification(vertices, faces, grid_size)\n",
    "        \n",
    "    elseif algorithm == :adaptive\n",
    "        # For adaptive algorithm, intensity is the reduction percentage\n",
    "        target_reduction = intensity\n",
    "        \n",
    "        println(\"Simplifying mesh using adaptive clustering with $(target_reduction*100)% reduction target\")\n",
    "        simplified_vertices, simplified_faces = adaptive_vertex_clustering(vertices, faces, target_reduction)\n",
    "        \n",
    "    elseif algorithm == :angle_optimized\n",
    "        # For angle-optimized algorithm, intensity is the reduction percentage\n",
    "        target_reduction = intensity\n",
    "        \n",
    "        println(\"Simplifying mesh using angle-optimized clustering with $(target_reduction*100)% reduction target\")\n",
    "        simplified_vertices, simplified_faces = angle_optimized_clustering(vertices, faces, target_reduction)\n",
    "    end\n",
    "    \n",
    "    # Create and return the simplified mesh\n",
    "    simplified_mesh = GeometryBasics.Mesh(simplified_vertices, simplified_faces)\n",
    "    \n",
    "    # Print simplification results\n",
    "    original_vertex_count = length(vertices)\n",
    "    simplified_vertex_count = length(simplified_vertices)\n",
    "    actual_reduction = round((1 - simplified_vertex_count / original_vertex_count) * 100, digits=1)\n",
    "    \n",
    "    println(\"Simplification complete:\")\n",
    "    println(\"  Original vertices: $original_vertex_count\")\n",
    "    println(\"  Simplified vertices: $simplified_vertex_count\")\n",
    "    println(\"  Actual reduction: $(actual_reduction)%\")\n",
    "    \n",
    "    # Calculate and report triangle quality\n",
    "    if !isempty(simplified_faces)\n",
    "        total_quality = 0.0\n",
    "        for face in simplified_faces\n",
    "            v1 = simplified_vertices[face[1]]\n",
    "            v2 = simplified_vertices[face[2]]\n",
    "            v3 = simplified_vertices[face[3]]\n",
    "            total_quality += triangle_angle_quality(v1, v2, v3)\n",
    "        end\n",
    "        avg_quality = total_quality / length(simplified_faces)\n",
    "        println(\"  Average triangle quality: $(round(avg_quality, digits=3)) (0 = perfect equilateral)\")\n",
    "    end\n",
    "    \n",
    "    return simplified_mesh\n",
    "end\n",
    "\n",
    "# Function to analyze triangle quality\n",
    "function analyze_triangle_quality(mesh::GeometryBasics.Mesh)\n",
    "    vertices = mesh.position\n",
    "    faces = mesh.faces\n",
    "    \n",
    "    # Handle different face types\n",
    "    if !isempty(faces)\n",
    "        # Check if faces need conversion from OffsetInteger to Int\n",
    "        first_face = faces[1]\n",
    "        if hasfield(typeof(first_face[1]), :i)\n",
    "            # Convert from OffsetInteger to Int (0-based to 1-based)\n",
    "            faces = [GeometryBasics.NgonFace{3, Int}([Int(f[i].i) + 1 for i in 1:3]...) for f in faces]\n",
    "        else\n",
    "            # Already Int type, keep as is\n",
    "            faces = [GeometryBasics.NgonFace{3, Int}([Int(f[i]) for i in 1:3]...) for f in faces]\n",
    "        end\n",
    "    end\n",
    "    \n",
    "    qualities = Float64[]\n",
    "    angle_deviations = Float64[]\n",
    "    \n",
    "    for face in faces\n",
    "        v1 = vertices[face[1]]\n",
    "        v2 = vertices[face[2]]\n",
    "        v3 = vertices[face[3]]\n",
    "        \n",
    "        quality = triangle_angle_quality(v1, v2, v3)\n",
    "        push!(qualities, quality)\n",
    "        \n",
    "        angles = triangle_angles(v1, v2, v3)\n",
    "        deviations = abs.(angles .- 60.0)\n",
    "        append!(angle_deviations, deviations)\n",
    "    end\n",
    "    \n",
    "    println(\"Triangle Quality Analysis:\")\n",
    "    println(\"  Average quality: $(round(mean(qualities), digits=3))\")\n",
    "    println(\"  Best quality: $(round(minimum(qualities), digits=3))\")\n",
    "    println(\"  Worst quality: $(round(maximum(qualities), digits=3))\")\n",
    "    println(\"  Average angle deviation from 60°: $(round(mean(angle_deviations), digits=1))°\")\n",
    "    println(\"  Max angle deviation: $(round(maximum(angle_deviations), digits=1))°\")\n",
    "    \n",
    "    return qualities, angle_deviations\n",
    "end\n",
    "\n",
    "# Demo function comparing all algorithms\n",
    "function demo_all_algorithms()\n",
    "    # Create a test mesh\n",
    "    S = GeometryBasics.mesh(GeometryBasics.Sphere(Point3f(0.0, 0.0, 0.0), 1.0))\n",
    "    \n",
    "    println(\"=== Comparing All Simplification Algorithms ===\")\n",
    "    println(\"Original mesh: $(length(S.position)) vertices, $(length(S.faces)) faces\")\n",
    "    \n",
    "    # Test all algorithms with 50% reduction\n",
    "    println(\"\\n--- Original Mesh Quality ---\")\n",
    "    analyze_triangle_quality(S)\n",
    "    \n",
    "    println(\"\\n--- Simple Algorithm (50% reduction) ---\")\n",
    "    simple_result = simplify(S, 0.5, :simple)\n",
    "    analyze_triangle_quality(simple_result)\n",
    "    \n",
    "    println(\"\\n--- Adaptive Algorithm (50% reduction) ---\")\n",
    "    adaptive_result = simplify(S, 0.5, :adaptive)\n",
    "    analyze_triangle_quality(adaptive_result)\n",
    "    \n",
    "    println(\"\\n--- Angle-Optimized Algorithm (50% reduction) ---\")\n",
    "    angle_result = simplify(S, 0.5, :angle_optimized)\n",
    "    analyze_triangle_quality(angle_result)\n",
    "    \n",
    "    # Visualize results\n",
    "    fig = Figure(size = (1200, 800))\n",
    "    \n",
    "    # Original\n",
    "    ax1 = Axis3(fig[1, 1], title=\"Original\\n$(length(S.position)) vertices\")\n",
    "    mesh!(ax1, S, color=:blue, alpha=0.8)\n",
    "    \n",
    "    # Simple\n",
    "    ax2 = Axis3(fig[1, 2], title=\"Simple\\n$(length(simple_result.position)) vertices\")\n",
    "    mesh!(ax2, simple_result, color=:red, alpha=0.8)\n",
    "    \n",
    "    # Adaptive\n",
    "    ax3 = Axis3(fig[2, 1], title=\"Adaptive\\n$(length(adaptive_result.position)) vertices\")\n",
    "    mesh!(ax3, adaptive_result, color=:green, alpha=0.8)\n",
    "    \n",
    "    # Angle-optimized\n",
    "    ax4 = Axis3(fig[2, 2], title=\"Angle-Optimized\\n$(length(angle_result.position)) vertices\")\n",
    "    mesh!(ax4, angle_result, color=:purple, alpha=0.8)\n",
    "    \n",
    "    display(fig)\n",
    "    \n",
    "    return S, simple_result, adaptive_result, angle_result\n",
    "end\n",
    "\n",
    "# Run the comprehensive demo\n",
    "# results = demo_all_algorithms()"
   ]
  },
  {
   "cell_type": "code",
   "execution_count": 17,
   "id": "3e49fcc1",
   "metadata": {},
   "outputs": [
    {
     "name": "stdout",
     "output_type": "stream",
     "text": [
      "=== Comparing All Simplification Algorithms ===\n",
      "Original mesh: 576 vertices, 1058 faces\n",
      "\n",
      "--- Original Mesh Quality ---\n",
      "Triangle Quality Analysis:\n",
      "  Average quality: 0.389\n",
      "  Best quality: 0.251\n",
      "  Worst quality: 1.0\n",
      "  Average angle deviation from 60°: 23.3°\n",
      "  Max angle deviation: 60.0°\n",
      "\n",
      "--- Simple Algorithm (50% reduction) ---\n",
      "Simplifying mesh using vertex clustering with grid size: 0.505\n",
      "Simplification complete:\n",
      "  Original vertices: 576\n",
      "  Simplified vertices: 54\n",
      "  Actual reduction: 90.6%\n",
      "  Average triangle quality: 0.31 (0 = perfect equilateral)\n",
      "Triangle Quality Analysis:\n",
      "  Average quality: 0.31\n",
      "  Best quality: 0.024\n",
      "  Worst quality: 0.936\n",
      "  Average angle deviation from 60°: 18.6°\n",
      "  Max angle deviation: 84.3°\n",
      "\n",
      "--- Adaptive Algorithm (50% reduction) ---\n",
      "Simplifying mesh using adaptive clustering with 50.0% reduction target\n",
      "Simplification complete:\n",
      "  Original vertices: 576\n",
      "  Simplified vertices: 201\n",
      "  Actual reduction: 65.1%\n",
      "  Average triangle quality: 0.335 (0 = perfect equilateral)\n",
      "Triangle Quality Analysis:\n",
      "  Average quality: 0.335\n",
      "  Best quality: 0.014\n",
      "  Worst quality: 1.011\n",
      "  Average angle deviation from 60°: 20.1°\n",
      "  Max angle deviation: 91.0°\n",
      "\n",
      "--- Angle-Optimized Algorithm (50% reduction) ---\n",
      "Simplifying mesh using angle-optimized clustering with 50.0% reduction target\n",
      "Simplification complete:\n",
      "  Original vertices: 576\n",
      "  Simplified vertices: 454\n",
      "  Actual reduction: 21.2%\n",
      "  Average triangle quality: 0.335 (0 = perfect equilateral)\n",
      "Triangle Quality Analysis:\n",
      "  Average quality: 0.335\n",
      "  Best quality: 0.004\n",
      "  Worst quality: 0.47\n",
      "  Average angle deviation from 60°: 20.1°\n",
      "  Max angle deviation: 42.3°\n"
     ]
    },
    {
     "data": {
      "text/plain": [
       "(Mesh{3, Float32, GeometryBasics.NgonFace{3, GeometryBasics.OffsetInteger{-1, UInt32}}}(...), Mesh{3, Float32, GeometryBasics.TriangleFace{Int64}}(...), Mesh{3, Float32, GeometryBasics.TriangleFace{Int64}}(...), Mesh{3, Float32, GeometryBasics.TriangleFace{Int64}}(...))"
      ]
     },
     "metadata": {},
     "output_type": "display_data"
    }
   ],
   "source": [
    "demo_all_algorithms()"
   ]
  },
  {
   "cell_type": "code",
   "execution_count": 51,
   "id": "9b8401ec",
   "metadata": {},
   "outputs": [
    {
     "name": "stdout",
     "output_type": "stream",
     "text": [
      "Simplifying mesh using adaptive clustering with 70.0% reduction target\n",
      "Simplification complete:\n",
      "  Original vertices: 9122\n",
      "  Simplified vertices: 2168\n",
      "  Actual reduction: 76.2%\n",
      "  Average triangle quality: 0.332 (0 = perfect equilateral)\n"
     ]
    },
    {
     "data": {
      "text/plain": [
       "Mesh{3, Float32, GeometryBasics.TriangleFace{Int64}}\n",
       "    faces: 7888\n",
       "    vertex position: 2168\n"
      ]
     },
     "metadata": {},
     "output_type": "display_data"
    }
   ],
   "source": [
    "simplified_wing = simplify(_wing_model, 0.7, :adaptive)"
   ]
  },
  {
   "cell_type": "code",
   "execution_count": 52,
   "id": "46a8674d",
   "metadata": {},
   "outputs": [
    {
     "name": "stdout",
     "output_type": "stream",
     "text": [
      "Simplifying mesh using angle-optimized clustering with 10.0% reduction target\n",
      "Simplification complete:\n",
      "  Original vertices: 2168\n",
      "  Simplified vertices: 1951\n",
      "  Actual reduction: 10.0%\n",
      "  Average triangle quality: 0.281 (0 = perfect equilateral)\n"
     ]
    },
    {
     "data": {
      "text/plain": [
       "(Scene (600px, 450px):\n",
       "  0 Plots\n",
       "  1 Child Scene:\n",
       "    └ Scene (600px, 450px), LScene(), Mesh{Tuple{GeometryBasics.Mesh{3, Float32, GeometryBasics.NgonFace{3, GeometryBasics.OffsetInteger{-1, UInt32}}, (:position, :normal), Tuple{Vector{Point{3, Float32}}, Vector{Vec{3, Float32}}}, Vector{GeometryBasics.NgonFace{3, GeometryBasics.OffsetInteger{-1, UInt32}}}}}}, Wireframe{Tuple{GeometryBasics.Mesh{3, Float32, GeometryBasics.TriangleFace{Int64}, (:position,), Tuple{Vector{Point{3, Float32}}}, Vector{GeometryBasics.TriangleFace{Int64}}}}})"
      ]
     },
     "metadata": {},
     "output_type": "display_data"
    }
   ],
   "source": [
    "angle_simplified_wing = simplify(simplified_wing, 0.1, :angle_optimized)\n",
    "plot_with_wireframe(angle_simplified_wing)\n"
   ]
  },
  {
   "cell_type": "code",
   "execution_count": 53,
   "id": "f0a96018",
   "metadata": {},
   "outputs": [
    {
     "name": "stdout",
     "output_type": "stream",
     "text": [
      "Simplifying mesh using adaptive clustering with 10.0% reduction target\n",
      "Simplification complete:\n",
      "  Original vertices: 1951\n",
      "  Simplified vertices: 1138\n",
      "  Actual reduction: 41.7%\n",
      "  Average triangle quality: 0.28 (0 = perfect equilateral)\n",
      "Simplifying mesh using angle-optimized clustering with 10.0% reduction target\n",
      "Simplification complete:\n",
      "  Original vertices: 1138\n",
      "  Simplified vertices: 1024\n",
      "  Actual reduction: 10.0%\n",
      "  Average triangle quality: 0.223 (0 = perfect equilateral)\n"
     ]
    },
    {
     "data": {
      "text/plain": [
       "(Scene (600px, 450px):\n",
       "  0 Plots\n",
       "  1 Child Scene:\n",
       "    └ Scene (600px, 450px), LScene(), Mesh{Tuple{GeometryBasics.Mesh{3, Float32, GeometryBasics.NgonFace{3, GeometryBasics.OffsetInteger{-1, UInt32}}, (:position, :normal), Tuple{Vector{Point{3, Float32}}, Vector{Vec{3, Float32}}}, Vector{GeometryBasics.NgonFace{3, GeometryBasics.OffsetInteger{-1, UInt32}}}}}}, Wireframe{Tuple{GeometryBasics.Mesh{3, Float32, GeometryBasics.TriangleFace{Int64}, (:position,), Tuple{Vector{Point{3, Float32}}}, Vector{GeometryBasics.TriangleFace{Int64}}}}})"
      ]
     },
     "metadata": {},
     "output_type": "display_data"
    }
   ],
   "source": [
    "simplified_wing = simplify(angle_simplified_wing, 0.1, :adaptive)\n",
    "angle_simplified_wing = simplify(simplified_wing, 0.1, :angle_optimized)\n",
    "plot_with_wireframe(angle_simplified_wing)"
   ]
  },
  {
   "cell_type": "code",
   "execution_count": 54,
   "id": "61341390",
   "metadata": {},
   "outputs": [
    {
     "name": "stdout",
     "output_type": "stream",
     "text": [
      "Simplifying mesh using adaptive clustering with 10.0% reduction target\n",
      "Simplification complete:\n",
      "  Original vertices: 1024\n",
      "  Simplified vertices: 883\n",
      "  Actual reduction: 13.8%\n",
      "  Average triangle quality: 0.243 (0 = perfect equilateral)\n",
      "Simplifying mesh using angle-optimized clustering with 10.0% reduction target\n",
      "Simplification complete:\n",
      "  Original vertices: 883\n",
      "  Simplified vertices: 795\n",
      "  Actual reduction: 10.0%\n",
      "  Average triangle quality: 0.201 (0 = perfect equilateral)\n"
     ]
    },
    {
     "data": {
      "text/plain": [
       "(Scene (600px, 450px):\n",
       "  0 Plots\n",
       "  1 Child Scene:\n",
       "    └ Scene (600px, 450px), LScene(), Mesh{Tuple{GeometryBasics.Mesh{3, Float32, GeometryBasics.NgonFace{3, GeometryBasics.OffsetInteger{-1, UInt32}}, (:position, :normal), Tuple{Vector{Point{3, Float32}}, Vector{Vec{3, Float32}}}, Vector{GeometryBasics.NgonFace{3, GeometryBasics.OffsetInteger{-1, UInt32}}}}}}, Wireframe{Tuple{GeometryBasics.Mesh{3, Float32, GeometryBasics.TriangleFace{Int64}, (:position,), Tuple{Vector{Point{3, Float32}}}, Vector{GeometryBasics.TriangleFace{Int64}}}}})"
      ]
     },
     "metadata": {},
     "output_type": "display_data"
    }
   ],
   "source": [
    "simplified_wing = simplify(angle_simplified_wing, 0.1, :adaptive)\n",
    "angle_simplified_wing = simplify(simplified_wing, 0.1, :angle_optimized)\n",
    "plot_with_wireframe(angle_simplified_wing)"
   ]
  },
  {
   "cell_type": "code",
   "execution_count": 55,
   "id": "edef8a3f",
   "metadata": {},
   "outputs": [
    {
     "name": "stdout",
     "output_type": "stream",
     "text": [
      "Simplifying mesh using adaptive clustering with 10.0% reduction target\n",
      "Simplification complete:\n",
      "  Original vertices: 795\n",
      "  Simplified vertices: 509\n",
      "  Actual reduction: 36.0%\n",
      "  Average triangle quality: 0.271 (0 = perfect equilateral)\n",
      "Simplifying mesh using angle-optimized clustering with 10.0% reduction target\n",
      "Simplification complete:\n",
      "  Original vertices: 509\n",
      "  Simplified vertices: 458\n",
      "  Actual reduction: 10.0%\n",
      "  Average triangle quality: 0.223 (0 = perfect equilateral)\n"
     ]
    },
    {
     "data": {
      "text/plain": [
       "(Scene (600px, 450px):\n",
       "  0 Plots\n",
       "  1 Child Scene:\n",
       "    └ Scene (600px, 450px), LScene(), Mesh{Tuple{GeometryBasics.Mesh{3, Float32, GeometryBasics.NgonFace{3, GeometryBasics.OffsetInteger{-1, UInt32}}, (:position, :normal), Tuple{Vector{Point{3, Float32}}, Vector{Vec{3, Float32}}}, Vector{GeometryBasics.NgonFace{3, GeometryBasics.OffsetInteger{-1, UInt32}}}}}}, Wireframe{Tuple{GeometryBasics.Mesh{3, Float32, GeometryBasics.TriangleFace{Int64}, (:position,), Tuple{Vector{Point{3, Float32}}}, Vector{GeometryBasics.TriangleFace{Int64}}}}})"
      ]
     },
     "metadata": {},
     "output_type": "display_data"
    }
   ],
   "source": [
    "simplified_wing = simplify(angle_simplified_wing, 0.1, :adaptive)\n",
    "angle_simplified_wing = simplify(simplified_wing, 0.1, :angle_optimized)\n",
    "plot_with_wireframe(angle_simplified_wing)"
   ]
  },
  {
   "cell_type": "code",
   "execution_count": 56,
   "id": "ba8ae1fe",
   "metadata": {},
   "outputs": [
    {
     "name": "stdout",
     "output_type": "stream",
     "text": [
      "Simplifying mesh using adaptive clustering with 10.0% reduction target\n",
      "Simplification complete:\n",
      "  Original vertices: 458\n",
      "  Simplified vertices: 412\n",
      "  Actual reduction: 10.0%\n",
      "  Average triangle quality: 0.235 (0 = perfect equilateral)\n",
      "Simplifying mesh using angle-optimized clustering with 10.0% reduction target\n",
      "Simplification complete:\n",
      "  Original vertices: 412\n",
      "  Simplified vertices: 371\n",
      "  Actual reduction: 10.0%\n",
      "  Average triangle quality: 0.2 (0 = perfect equilateral)\n"
     ]
    },
    {
     "data": {
      "text/plain": [
       "(Scene (600px, 450px):\n",
       "  0 Plots\n",
       "  1 Child Scene:\n",
       "    └ Scene (600px, 450px), LScene(), Mesh{Tuple{GeometryBasics.Mesh{3, Float32, GeometryBasics.NgonFace{3, GeometryBasics.OffsetInteger{-1, UInt32}}, (:position, :normal), Tuple{Vector{Point{3, Float32}}, Vector{Vec{3, Float32}}}, Vector{GeometryBasics.NgonFace{3, GeometryBasics.OffsetInteger{-1, UInt32}}}}}}, Wireframe{Tuple{GeometryBasics.Mesh{3, Float32, GeometryBasics.TriangleFace{Int64}, (:position,), Tuple{Vector{Point{3, Float32}}}, Vector{GeometryBasics.TriangleFace{Int64}}}}})"
      ]
     },
     "metadata": {},
     "output_type": "display_data"
    }
   ],
   "source": [
    "simplified_wing = simplify(angle_simplified_wing, 0.1, :adaptive)\n",
    "angle_simplified_wing = simplify(simplified_wing, 0.1, :angle_optimized)\n",
    "plot_with_wireframe(angle_simplified_wing)"
   ]
  },
  {
   "cell_type": "code",
   "execution_count": 57,
   "id": "e0742df5",
   "metadata": {},
   "outputs": [
    {
     "name": "stdout",
     "output_type": "stream",
     "text": [
      "Max triangle angle in angle_simplified_wing: 154.39°\n",
      "Min triangle angle in angle_simplified_wing: 12.5°\n"
     ]
    }
   ],
   "source": [
    "# Print max angle in angle_simplified_wing\n",
    "\n",
    "function max_triangle_angle(mesh::GeometryBasics.Mesh)\n",
    "    vertices = mesh.position\n",
    "    faces = mesh.faces\n",
    "    \n",
    "    max_angle = 0.0\n",
    "    \n",
    "    for face in faces\n",
    "        v1 = vertices[face[1]]\n",
    "        v2 = vertices[face[2]]\n",
    "        v3 = vertices[face[3]]\n",
    "        \n",
    "        angles = triangle_angles(v1, v2, v3)\n",
    "        max_angle = max(max_angle, maximum(angles))\n",
    "    end\n",
    "    \n",
    "    return max_angle\n",
    "end\n",
    "\n",
    "function min_triangle_angle(mesh::GeometryBasics.Mesh)\n",
    "    vertices = mesh.position\n",
    "    faces = mesh.faces\n",
    "    \n",
    "    min_angle = Inf\n",
    "    \n",
    "    for face in faces\n",
    "        v1 = vertices[face[1]]\n",
    "        v2 = vertices[face[2]]\n",
    "        v3 = vertices[face[3]]\n",
    "        \n",
    "        angles = triangle_angles(v1, v2, v3)\n",
    "        min_angle = min(min_angle, minimum(angles))\n",
    "    end\n",
    "    \n",
    "    return min_angle\n",
    "end\n",
    "\n",
    "max_angle = max_triangle_angle(angle_simplified_wing)\n",
    "min_angle = min_triangle_angle(angle_simplified_wing)\n",
    "\n",
    "println(\"Max triangle angle in angle_simplified_wing: $(round(max_angle, digits=2))°\")\n",
    "println(\"Min triangle angle in angle_simplified_wing: $(round(min_angle, digits=2))°\")"
   ]
  },
  {
   "cell_type": "code",
   "execution_count": 59,
   "id": "23f42d75",
   "metadata": {},
   "outputs": [],
   "source": [
    "using Serialization\n",
    "serialize(\"angle_simplified_wing.json\", angle_simplified_wing)"
   ]
  },
  {
   "cell_type": "code",
   "execution_count": 63,
   "id": "f72c8f64",
   "metadata": {},
   "outputs": [
    {
     "data": {
      "text/plain": [
       "(Scene (600px, 450px):\n",
       "  0 Plots\n",
       "  1 Child Scene:\n",
       "    └ Scene (600px, 450px), LScene(), Mesh{Tuple{GeometryBasics.Mesh{3, Float32, GeometryBasics.NgonFace{3, GeometryBasics.OffsetInteger{-1, UInt32}}, (:position, :normal), Tuple{Vector{Point{3, Float32}}, Vector{Vec{3, Float32}}}, Vector{GeometryBasics.NgonFace{3, GeometryBasics.OffsetInteger{-1, UInt32}}}}}}, Wireframe{Tuple{GeometryBasics.Mesh{3, Float32, GeometryBasics.TriangleFace{Int64}, (:position,), Tuple{Vector{Point{3, Float32}}}, Vector{GeometryBasics.TriangleFace{Int64}}}}})"
      ]
     },
     "metadata": {},
     "output_type": "display_data"
    }
   ],
   "source": [
    "deserialized_wing = deserialize(\"angle_simplified_wing.json\")\n",
    "plot_with_wireframe(deserialized_wing)"
   ]
  },
  {
   "cell_type": "code",
   "execution_count": 95,
   "id": "04f00347",
   "metadata": {},
   "outputs": [
    {
     "name": "stdout",
     "output_type": "stream",
     "text": [
      "Simplifying mesh using adaptive clustering with 10.0% reduction target\n",
      "Simplification complete:\n",
      "  Original vertices: 41\n",
      "  Simplified vertices: 25\n",
      "  Actual reduction: 39.0%\n",
      "  Average triangle quality: 0.2 (0 = perfect equilateral)\n",
      "Simplifying mesh using angle-optimized clustering with 10.0% reduction target\n",
      "Simplification complete:\n",
      "  Original vertices: 25\n",
      "  Simplified vertices: 25\n",
      "  Actual reduction: 0.0%\n",
      "  Average triangle quality: 0.2 (0 = perfect equilateral)\n"
     ]
    },
    {
     "data": {
      "text/plain": [
       "(Scene (600px, 450px):\n",
       "  0 Plots\n",
       "  1 Child Scene:\n",
       "    └ Scene (600px, 450px), LScene(), Mesh{Tuple{GeometryBasics.Mesh{3, Float32, GeometryBasics.NgonFace{3, GeometryBasics.OffsetInteger{-1, UInt32}}, (:position, :normal), Tuple{Vector{Point{3, Float32}}, Vector{Vec{3, Float32}}}, Vector{GeometryBasics.NgonFace{3, GeometryBasics.OffsetInteger{-1, UInt32}}}}}}, Wireframe{Tuple{GeometryBasics.Mesh{3, Float32, GeometryBasics.TriangleFace{Int64}, (:position,), Tuple{Vector{Point{3, Float32}}}, Vector{GeometryBasics.TriangleFace{Int64}}}}})"
      ]
     },
     "metadata": {},
     "output_type": "display_data"
    }
   ],
   "source": [
    "simplified_wing = simplify(angle_simplified_wing, 0.1, :adaptive)\n",
    "angle_simplified_wing = simplify(simplified_wing, 0.1, :angle_optimized)\n",
    "plot_with_wireframe(angle_simplified_wing)"
   ]
  },
  {
   "cell_type": "code",
   "execution_count": null,
   "id": "ca8660c6",
   "metadata": {},
   "outputs": [
    {
     "data": {
      "text/plain": [
       "Mesh{3, Float32, GeometryBasics.TriangleFace{Int64}}\n",
       "    faces: 520\n",
       "    vertex position: 159\n"
      ]
     },
     "metadata": {},
     "output_type": "display_data"
    }
   ],
   "source": [
    "angle_simplified_wing\n"
   ]
  },
  {
   "cell_type": "code",
   "execution_count": 96,
   "id": "4abaa878",
   "metadata": {},
   "outputs": [
    {
     "data": {
      "text/plain": [
       "Mesh{Tuple{GeometryBasics.Mesh{3, Float32, GeometryBasics.NgonFace{3, GeometryBasics.OffsetInteger{-1, UInt32}}, (:position, :normal), Tuple{Vector{Point{3, Float32}}, Vector{Vec{3, Float32}}}, Vector{GeometryBasics.NgonFace{3, GeometryBasics.OffsetInteger{-1, UInt32}}}}}}"
      ]
     },
     "metadata": {},
     "output_type": "display_data"
    }
   ],
   "source": [
    "pl = plot_with_wireframe(angle_simplified_wing)\n",
    "mesh!(pl[2], _wing_model, color=:red, alpha=0.5)"
   ]
  },
  {
   "cell_type": "code",
   "execution_count": 30,
   "id": "61e63fde",
   "metadata": {},
   "outputs": [
    {
     "name": "stdout",
     "output_type": "stream",
     "text": [
      "Max triangle angle in simplified_wing): 166.23°\n",
      "Min triangle angle in simplified_wing): 6.51°\n"
     ]
    }
   ],
   "source": [
    "max_angle = max_triangle_angle(simplified_wing)\n",
    "min_angle = min_triangle_angle(simplified_wing)\n",
    "\n",
    "println(\"Max triangle angle in simplified_wing): $(round(max_angle, digits=2))°\")\n",
    "println(\"Min triangle angle in simplified_wing): $(round(min_angle, digits=2))°\")"
   ]
  },
  {
   "cell_type": "code",
   "execution_count": 97,
   "id": "d614cef6",
   "metadata": {},
   "outputs": [],
   "source": [
    "serialize(\"simplified_tiled_wing_v2.json\", angle_simplified_wing)"
   ]
  },
  {
   "cell_type": "code",
   "execution_count": null,
   "id": "2da7aeb9",
   "metadata": {},
   "outputs": [
    {
     "data": {
      "text/plain": [
       "demo_angle_weighting (generic function with 1 method)"
      ]
     },
     "metadata": {},
     "output_type": "display_data"
    }
   ],
   "source": [
    "# # Enhanced triangle quality function with adjustable weighting\n",
    "# function triangle_angle_quality(v1::Point3f, v2::Point3f, v3::Point3f, angle_weight::Float64=1.0)\n",
    "#     angles = triangle_angles(v1, v2, v3)\n",
    "    \n",
    "#     # Calculate deviation from 60 degrees\n",
    "#     deviations = abs.(angles .- 60.0)\n",
    "    \n",
    "#     # Apply exponential weighting to heavily penalize large deviations\n",
    "#     weighted_deviations = deviations .^ (1.0 + angle_weight)\n",
    "    \n",
    "#     # Quality score: lower is better (0 = perfect equilateral triangle)\n",
    "#     quality = sum(weighted_deviations) / (180.0^(1.0 + angle_weight))\n",
    "    \n",
    "#     return quality\n",
    "# end\n",
    "\n",
    "# # Alternative: Use a different penalty function that's more aggressive\n",
    "# function triangle_angle_quality_aggressive(v1::Point3f, v2::Point3f, v3::Point3f, penalty_factor::Float64=5.0)\n",
    "#     angles = triangle_angles(v1, v2, v3)\n",
    "    \n",
    "#     # Calculate deviation from 60 degrees\n",
    "#     deviations = abs.(angles .- 60.0)\n",
    "    \n",
    "#     # Use exponential penalty for large deviations\n",
    "#     penalties = exp.(deviations / 60.0 * penalty_factor) .- 1.0\n",
    "    \n",
    "#     # Quality score: lower is better\n",
    "#     quality = sum(penalties) / (3.0 * (exp(penalty_factor) - 1.0))\n",
    "    \n",
    "#     return quality\n",
    "# end\n",
    "\n",
    "# # Enhanced angle-optimized clustering with stronger angle weighting\n",
    "# function angle_optimized_clustering_weighted(vertices::Vector{Point3f}, faces::Vector{GeometryBasics.NgonFace{3, Int}}, target_reduction::Float64, angle_weight::Float64=3.0)\n",
    "#     # Start with a copy of the original mesh\n",
    "#     current_vertices = copy(vertices)\n",
    "#     current_faces = copy(faces)\n",
    "#     target_vertex_count = Int(round(length(vertices) * (1 - target_reduction)))\n",
    "    \n",
    "#     # Iteratively remove vertices with worst quality impact\n",
    "#     while length(current_vertices) > target_vertex_count\n",
    "#         # Find vertex pairs that can be merged\n",
    "#         merge_candidates = []\n",
    "        \n",
    "#         for i in 1:length(current_vertices)\n",
    "#             for j in (i+1):length(current_vertices)\n",
    "#                 if i != j\n",
    "#                     # Calculate distance between vertices\n",
    "#                     dist = norm(current_vertices[i] - current_vertices[j])\n",
    "                    \n",
    "#                     # Only consider nearby vertices for merging\n",
    "#                     merge_threshold = 0.1  # Adjustable threshold\n",
    "#                     if dist < merge_threshold\n",
    "#                         # Calculate quality improvement if we merge these vertices\n",
    "#                         new_vertex = (current_vertices[i] + current_vertices[j]) / 2\n",
    "                        \n",
    "#                         # Find faces that would be affected\n",
    "#                         affected_faces = [f for f in current_faces if i in f || j in f]\n",
    "                        \n",
    "#                         # Calculate current quality with heavy angle weighting\n",
    "#                         current_quality = 0.0\n",
    "#                         valid_faces = 0\n",
    "#                         for face in affected_faces\n",
    "#                             v1 = current_vertices[face[1]]\n",
    "#                             v2 = current_vertices[face[2]]\n",
    "#                             v3 = current_vertices[face[3]]\n",
    "#                             current_quality += triangle_angle_quality(v1, v2, v3, angle_weight)\n",
    "#                             valid_faces += 1\n",
    "#                         end\n",
    "                        \n",
    "#                         if valid_faces > 0\n",
    "#                             current_quality /= valid_faces\n",
    "                            \n",
    "#                             # Calculate new quality after merge\n",
    "#                             new_quality = 0.0\n",
    "#                             new_valid_faces = 0\n",
    "                            \n",
    "#                             for face in affected_faces\n",
    "#                                 # Create new face with merged vertex\n",
    "#                                 new_face_vertices = []\n",
    "#                                 for vertex_idx in face\n",
    "#                                     if vertex_idx == i || vertex_idx == j\n",
    "#                                         push!(new_face_vertices, new_vertex)\n",
    "#                                     else\n",
    "#                                         push!(new_face_vertices, current_vertices[vertex_idx])\n",
    "#                                     end\n",
    "#                                 end\n",
    "                                \n",
    "#                                 # Skip degenerate triangles\n",
    "#                                 if length(unique(new_face_vertices)) == 3\n",
    "#                                     new_quality += triangle_angle_quality(new_face_vertices[1], new_face_vertices[2], new_face_vertices[3], angle_weight)\n",
    "#                                     new_valid_faces += 1\n",
    "#                                 end\n",
    "#                             end\n",
    "                            \n",
    "#                             if new_valid_faces > 0\n",
    "#                                 new_quality /= new_valid_faces\n",
    "                                \n",
    "#                                 # Heavily weight angle quality improvement\n",
    "#                                 angle_improvement = current_quality - new_quality\n",
    "#                                 geometric_cost = dist  # Keep geometric cost as a tie-breaker\n",
    "                                \n",
    "#                                 # Combined score: prioritize angle improvement over geometric cost\n",
    "#                                 total_score = angle_improvement * 10.0 - geometric_cost * 0.1\n",
    "                                \n",
    "#                                 push!(merge_candidates, (i, j, total_score, new_vertex, angle_improvement))\n",
    "#                             end\n",
    "#                         end\n",
    "#                     end\n",
    "#                 end\n",
    "#             end\n",
    "#         end\n",
    "        \n",
    "#         # If no good merge candidates, break\n",
    "#         if isempty(merge_candidates)\n",
    "#             break\n",
    "#         end\n",
    "        \n",
    "#         # Sort by total score (highest first)\n",
    "#         sort!(merge_candidates, by=x->x[3], rev=true)\n",
    "        \n",
    "#         # Only perform merges that actually improve angle quality\n",
    "#         best_candidates = filter(x -> x[5] > 0, merge_candidates)\n",
    "        \n",
    "#         if isempty(best_candidates)\n",
    "#             println(\"No more beneficial merges available, stopping early.\")\n",
    "#             break\n",
    "#         end\n",
    "        \n",
    "#         # Perform the best merge\n",
    "#         best_merge = best_candidates[1]\n",
    "#         i, j, total_score, new_vertex, angle_improvement = best_merge\n",
    "        \n",
    "#         # Update vertices\n",
    "#         new_vertices = Point3f[]\n",
    "#         vertex_mapping = Dict{Int, Int}()\n",
    "        \n",
    "#         for (idx, vertex) in enumerate(current_vertices)\n",
    "#             if idx == i\n",
    "#                 push!(new_vertices, new_vertex)\n",
    "#                 vertex_mapping[idx] = length(new_vertices)\n",
    "#             elseif idx == j\n",
    "#                 vertex_mapping[idx] = vertex_mapping[i]\n",
    "#             else\n",
    "#                 push!(new_vertices, vertex)\n",
    "#                 vertex_mapping[idx] = length(new_vertices)\n",
    "#             end\n",
    "#         end\n",
    "        \n",
    "#         # Update faces\n",
    "#         new_faces = GeometryBasics.NgonFace{3, Int}[]\n",
    "#         for face in current_faces\n",
    "#             new_face_indices = [vertex_mapping[face[k]] for k in 1:3]\n",
    "            \n",
    "#             # Only keep non-degenerate faces\n",
    "#             if length(unique(new_face_indices)) == 3\n",
    "#                 push!(new_faces, GeometryBasics.NgonFace{3, Int}(new_face_indices...))\n",
    "#             end\n",
    "#         end\n",
    "        \n",
    "#         current_vertices = new_vertices\n",
    "#         current_faces = new_faces\n",
    "#     end\n",
    "    \n",
    "#     return current_vertices, current_faces\n",
    "# end\n",
    "\n",
    "# # Updated simplify function with weighted angle optimization\n",
    "# function simplify(mesh::GeometryBasics.Mesh, intensity::Float64, algorithm::Symbol, angle_weight::Float64=3.0)\n",
    "#     # Extract vertices and faces from input mesh\n",
    "#     vertices = mesh.position\n",
    "#     faces = [GeometryBasics.NgonFace{3, Int}([Int(f[i].i) + 1 for i in 1:3]...) for f in mesh.faces]\n",
    "    \n",
    "#     # Validate algorithm parameter\n",
    "#     if algorithm ∉ [:simple, :adaptive, :angle_optimized, :angle_weighted]\n",
    "#         throw(ArgumentError(\"Algorithm must be :simple, :adaptive, :angle_optimized, or :angle_weighted, got :$algorithm\"))\n",
    "#     end\n",
    "    \n",
    "#     # Validate intensity parameter\n",
    "#     if intensity < 0.0 || intensity > 1.0\n",
    "#         throw(ArgumentError(\"Intensity must be between 0.0 and 1.0, got $intensity\"))\n",
    "#     end\n",
    "    \n",
    "#     # Apply the appropriate simplification algorithm\n",
    "#     if algorithm == :simple\n",
    "#         grid_size = 0.01 + intensity * 0.99\n",
    "#         println(\"Simplifying mesh using vertex clustering with grid size: $grid_size\")\n",
    "#         simplified_vertices, simplified_faces = vertex_clustering_simplification(vertices, faces, grid_size)\n",
    "        \n",
    "#     elseif algorithm == :adaptive\n",
    "#         target_reduction = intensity\n",
    "#         println(\"Simplifying mesh using adaptive clustering with $(target_reduction*100)% reduction target\")\n",
    "#         simplified_vertices, simplified_faces = adaptive_vertex_clustering(vertices, faces, target_reduction)\n",
    "        \n",
    "#     elseif algorithm == :angle_optimized\n",
    "#         target_reduction = intensity\n",
    "#         println(\"Simplifying mesh using angle-optimized clustering with $(target_reduction*100)% reduction target\")\n",
    "#         simplified_vertices, simplified_faces = angle_optimized_clustering(vertices, faces, target_reduction)\n",
    "        \n",
    "#     elseif algorithm == :angle_weighted\n",
    "#         target_reduction = intensity\n",
    "#         println(\"Simplifying mesh using weighted angle-optimized clustering with $(target_reduction*100)% reduction target (angle weight: $angle_weight)\")\n",
    "#         simplified_vertices, simplified_faces = angle_optimized_clustering_weighted(vertices, faces, target_reduction, angle_weight)\n",
    "#     end\n",
    "    \n",
    "#     # Create and return the simplified mesh\n",
    "#     simplified_mesh = GeometryBasics.Mesh(simplified_vertices, simplified_faces)\n",
    "    \n",
    "#     # Print simplification results\n",
    "#     original_vertex_count = length(vertices)\n",
    "#     simplified_vertex_count = length(simplified_vertices)\n",
    "#     actual_reduction = round((1 - simplified_vertex_count / original_vertex_count) * 100, digits=1)\n",
    "    \n",
    "#     println(\"Simplification complete:\")\n",
    "#     println(\"  Original vertices: $original_vertex_count\")\n",
    "#     println(\"  Simplified vertices: $simplified_vertex_count\")\n",
    "#     println(\"  Actual reduction: $(actual_reduction)%\")\n",
    "    \n",
    "#     # Calculate and report triangle quality\n",
    "#     if !isempty(simplified_faces)\n",
    "#         total_quality = 0.0\n",
    "#         for face in simplified_faces\n",
    "#             v1 = simplified_vertices[face[1]]\n",
    "#             v2 = simplified_vertices[face[2]]\n",
    "#             v3 = simplified_vertices[face[3]]\n",
    "#             total_quality += triangle_angle_quality(v1, v2, v3, 1.0)  # Use standard weighting for reporting\n",
    "#         end\n",
    "#         avg_quality = total_quality / length(simplified_faces)\n",
    "#         println(\"  Average triangle quality: $(round(avg_quality, digits=3)) (0 = perfect equilateral)\")\n",
    "#     end\n",
    "    \n",
    "#     return simplified_mesh\n",
    "# end\n",
    "\n",
    "# # Demo function to compare different angle weights\n",
    "# function demo_angle_weighting()\n",
    "#     # Create a test mesh\n",
    "#     S = GeometryBasics.mesh(GeometryBasics.Sphere(Point3f(0.0, 0.0, 0.0), 1.0))\n",
    "    \n",
    "#     println(\"=== Comparing Different Angle Weights ===\")\n",
    "#     println(\"Original mesh: $(length(S.position)) vertices, $(length(S.faces)) faces\")\n",
    "    \n",
    "#     # Test different angle weights\n",
    "#     weights = [1.0, 3.0, 5.0, 10.0, 50.0]\n",
    "    \n",
    "#     println(\"\\n--- Original Mesh Quality ---\")\n",
    "#     analyze_triangle_quality(S)\n",
    "    \n",
    "#     results = []\n",
    "    \n",
    "#     for weight in weights\n",
    "#         println(\"\\n--- Angle Weight: $weight ---\")\n",
    "#         result = simplify(S, 0.5, :angle_weighted, weight)\n",
    "#         analyze_triangle_quality(result)\n",
    "#         push!(results, result)\n",
    "#     end\n",
    "    \n",
    "#     # Visualize results\n",
    "#     fig = Figure(size = (1200, 800))\n",
    "    \n",
    "#     # Original\n",
    "#     ax1 = Axis3(fig[1, 1], title=\"Original\\n$(length(S.position)) vertices\")\n",
    "#     mesh!(ax1, S, color=:blue, alpha=0.8)\n",
    "    \n",
    "#     # Different weights\n",
    "#     for (i, (weight, result)) in enumerate(zip(weights, results))\n",
    "#         row = (i - 1) ÷ 2 + 1\n",
    "#         col = (i - 1) % 2 + 2\n",
    "#         ax = Axis3(fig[row, col], title=\"Weight: $weight\\n$(length(result.position)) vertices\")\n",
    "#         mesh!(ax, result, color=:purple, alpha=0.8)\n",
    "#     end\n",
    "    \n",
    "#     display(fig)\n",
    "    \n",
    "#     return results\n",
    "# end"
   ]
  },
  {
   "cell_type": "code",
   "execution_count": null,
   "id": "f3572b24",
   "metadata": {},
   "outputs": [],
   "source": []
  }
 ],
 "metadata": {
  "kernelspec": {
   "display_name": "Julia 1.11.5",
   "language": "julia",
   "name": "julia-1.11"
  },
  "language_info": {
   "file_extension": ".jl",
   "mimetype": "application/julia",
   "name": "julia",
   "version": "1.11.5"
  }
 },
 "nbformat": 4,
 "nbformat_minor": 5
}

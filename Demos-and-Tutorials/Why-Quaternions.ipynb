{
 "cells": [
  {
   "cell_type": "markdown",
   "id": "23ca5dbc",
   "metadata": {},
   "source": [
    "## Step 1. Initialization\n",
    "In this step of the demonstration, I would just be importing the packages and defining a scene that I can operate on to visualize the Rotational operations I want to talk about"
   ]
  },
  {
   "cell_type": "code",
   "execution_count": 101,
   "id": "007652db",
   "metadata": {},
   "outputs": [
    {
     "name": "stdout",
     "output_type": "stream",
     "text": [
      "Loading packages...\n",
      "Packages loaded successfully.\n",
      "Custom modules loaded successfully.\n"
     ]
    }
   ],
   "source": [
    "begin # Import necessary packages\n",
    "    println(\"Loading packages...\")\n",
    "    using GLMakie, GeometryBasics, LinearAlgebra, Quaternions, FileIO\n",
    "    import Quaternions: Quaternion as Quaternion\n",
    "    println(\"Packages loaded successfully.\")\n",
    "\n",
    "    cd(@__DIR__) # Changing the current working directory from project root to the parent directory of this file so that pwd() and @__DIR__ match.\n",
    "    # Import custom code and utility functions\n",
    "    include(\"../src/State_and_Conversions.jl\")\n",
    "    include(\"../src/Rendering.jl\")\n",
    "    include(\"../src/Transformations.jl\")\n",
    "    include(\"../src/WindowManager.jl\")\n",
    "    include(\"../src/Recorder.jl\")\n",
    "\n",
    "\n",
    "\n",
    "    # Initialize the custom structs and utilities\n",
    "    conversions = Conversions()\n",
    "    renderer = Renderer()\n",
    "    transformations = Transformations()\n",
    "    windowmanager = WindowManager()\n",
    "\n",
    "    println(\"Custom modules loaded successfully.\")\n",
    "\n",
    "    # Utility function to rotate the wing object\n",
    "    function rotate_obj(obj::AbstractMesh, R::AbstractMatrix; about::Union{AbstractVector,Nothing}=nothing)\n",
    "    obj_copy = deepcopy(obj)  # Create a copy of the object to avoid modifying the original\n",
    "    # First translate the object to the origin\n",
    "    if isnothing(about)\n",
    "        # If no specific point is given, just rotate the object\n",
    "        # Rotate positions\n",
    "        for i in eachindex(obj.vertex_attributes[1])\n",
    "            obj_copy.vertex_attributes[1][i] = Point3f(R * Vec3f(obj_copy.vertex_attributes[1][i]))\n",
    "        end\n",
    "\n",
    "        # Rotate normals if they exist\n",
    "        if length(obj_copy.vertex_attributes) >= 3\n",
    "            for i in eachindex(obj_copy.vertex_attributes[3])\n",
    "                obj_copy.vertex_attributes[3][i] = normalize(Point3f(R * Vec3f(obj_copy.vertex_attributes[3][i])))\n",
    "            end\n",
    "        end\n",
    "\n",
    "        return obj_copy\n",
    "    else\n",
    "        # If a specific point is given, translate the object to that point, rotate it, and then translate it back\n",
    "        translation = -about\n",
    "        obj_copy = translate_obj(obj_copy, translation)  # Translate to origin\n",
    "        obj_copy = rotate_obj(obj_copy, R)  # Rotate around the origin\n",
    "        obj_copy = translate_obj(obj_copy, -translation)  # Translate back to the original position\n",
    "\n",
    "        return obj_copy\n",
    "    end\n",
    "end\n",
    "\n",
    "function attach2State(obj::AbstractMesh, state_obs::Observable{State})\n",
    "    return lift(st -> rotate_obj(obj, conversions.quat2rotmatrix(st.q)), state_obs)\n",
    "end\n",
    "\n",
    "    nothing\n",
    "end"
   ]
  },
  {
   "cell_type": "code",
   "execution_count": 122,
   "id": "bc2e9fe8",
   "metadata": {},
   "outputs": [
    {
     "data": {
      "text/plain": [
       "GLMakie.Screen(...)"
      ]
     },
     "metadata": {},
     "output_type": "display_data"
    }
   ],
   "source": [
    "# Create a Scene with standard basis arrows\n",
    "scene = Scene(camera=cam3d!)\n",
    "standard_basis_arrows = renderer.drawState!(scene)\n",
    "display(scene)"
   ]
  },
  {
   "cell_type": "code",
   "execution_count": 123,
   "id": "f19626cc",
   "metadata": {},
   "outputs": [],
   "source": [
    "# Setup a State Observable initially set to standard state, along with a wing attatched to that state.\n",
    "\n",
    "wingState = Observable(State()) # Initializes a Quaternion(1,0,0,0) by default\n",
    "wing_obj = load(assetpath(joinpath(@__DIR__, \"../Models/edited_wing.STL\")))\n",
    "wing_model = attach2State(wing_obj, wingState)\n",
    "meshscatter!(scene, (0, 0, 0), marker=wing_model, markersize=0.0075, color=:gold, transparency=true, alpha=0.5)\n",
    "\n",
    "vectors2show = [Point3(1.0, 0.0, 0.0), Point3(0.0, 1.0, 0.0), Point3(0.0, 0.0, 1.0)]\n",
    "vectorcolors = [(1, 0, 0), (0, 1, 0), (0, 0, 1)] # red, green, blue\n",
    "attached_vectors = renderer.attach2State(vectors2show, wingState) # Creates a vector of Observable Points that attaches the custom vectors to the observable state\n",
    "\n",
    "# Draw the state with attached vectors\n",
    "for i in eachindex(attached_vectors)\n",
    "    meshscatter!(scene, (0, 0, 0), marker=lift(p -> Arrow(p).mesh, attached_vectors[i]), markersize=0.75, color=(vectorcolors[i]..., 0.25), transparency=true)\n",
    "end\n"
   ]
  },
  {
   "cell_type": "code",
   "execution_count": 124,
   "id": "5a3281d7",
   "metadata": {},
   "outputs": [
    {
     "data": {
      "text/plain": [
       "State([0.8047378541243649, 0.5058793634016806, -0.31061721752604554], [-0.31061721752604554, 0.8047378541243649, 0.5058793634016806], [0.5058793634016806, -0.31061721752604554, 0.8047378541243649], QuaternionF64(0.9238795325112867, 0.22094238269039457, 0.22094238269039457, 0.22094238269039457))"
      ]
     },
     "metadata": {},
     "output_type": "display_data"
    }
   ],
   "source": [
    "# Test the wingState Observable \n",
    "wingState[] = State(axisangle2quat([1.0, 1.0, 1.0], pi/4)) # -> Set state to a particular angle around an axis."
   ]
  },
  {
   "cell_type": "code",
   "execution_count": 125,
   "id": "12c13df2",
   "metadata": {},
   "outputs": [],
   "source": [
    "# Test Animation Visualization (You do not need to know the under the hood processing of this)\n",
    "transformations.interpolate_states(wingState, State(), rate_function=t -> sin(t * pi / 2), time=2.0, n=100)"
   ]
  },
  {
   "cell_type": "code",
   "execution_count": null,
   "id": "472f04c7",
   "metadata": {},
   "outputs": [],
   "source": [
    "q0 = Quaternion(1, 0, 0, 0)  # Identity quaternion\n",
    "axis = [0, 0, 1]\n",
    "angle = π/4  # 45 degrees in radians\n",
    "\n",
    "\n"
   ]
  },
  {
   "cell_type": "markdown",
   "id": "39729aef",
   "metadata": {},
   "source": [
    "## Step 2. Understanding Euler Angle Rotations\n",
    "\n",
    "Euler angles represent rotations as three sequential rotations about coordinate axes. The two main conventions are:\n",
    "- **Global (Extrinsic) XYZ**: Rotations about fixed global coordinate axes\n",
    "- **Local (Intrinsic) XY'Z''**: Rotations about current local coordinate axes\n",
    "\n",
    "### 2.1 Global XYZ Euler Angle Rotations\n",
    "\n",
    "Global rotations are performed about the **fixed** global coordinate axes: **R = R_z(γ) · R_y(β) · R_x(α)**"
   ]
  },
  {
   "cell_type": "code",
   "execution_count": 114,
   "id": "3a0b29cb",
   "metadata": {},
   "outputs": [],
   "source": [
    "# Initialize Global XYZ Rotation Scene\n",
    "scene_global = Scene(camera=cam3d!)\n",
    "windowmanager.closeall()\n",
    "windowmanager.display(scene_global; names=[\"Global XYZ Rotations\"])\n",
    "\n",
    "renderer.drawState!(scene_global)\n",
    "\n",
    "# Setup state and wing model\n",
    "wingstate_global = Observable(State())\n",
    "wing_obj = load(assetpath(joinpath(@__DIR__, \"../Models/edited_wing.STL\")))\n",
    "wing_model = attach2State(wing_obj, wingstate_global)\n",
    "meshscatter!(scene_global, (0, 0, 0), marker=wing_model, markersize=0.0075, color=:gold, transparency=true, alpha=0.5)\n",
    "\n",
    "# Setup vectors\n",
    "vectors2show = [Point3(1.0, 0.0, 0.0), Point3(0.0, 1.0, 0.0), Point3(0.0, 0.0, 1.0)]\n",
    "vectorcolors = [(1, 0, 0), (0, 1, 0), (0, 0, 1)]\n",
    "attached_vectors_global = renderer.attach2State(vectors2show, wingstate_global)\n",
    "\n",
    "for i in eachindex(attached_vectors_global)\n",
    "    meshscatter!(scene_global, (0, 0, 0), marker=lift(p -> Arrow(p).mesh, attached_vectors_global[i]), markersize=0.75, color=(vectorcolors[i]..., 0.5), transparency=true)\n",
    "end"
   ]
  },
  {
   "cell_type": "code",
   "execution_count": 115,
   "id": "addbe5e5",
   "metadata": {},
   "outputs": [],
   "source": [
    "# Apply Global XYZ Rotations\n",
    "α, β, γ = 0, 0, π/6  # 0°, 0°, 30°\n",
    "\n",
    "rotation_x = conversions.axisangle2quat([1, 0, 0], α)\n",
    "rotation_y = conversions.axisangle2quat([0, 1, 0], β)\n",
    "rotation_z = conversions.axisangle2quat([0, 0, 1], γ)\n",
    "\n",
    "# Global rotations: about fixed axes (opState=false)\n",
    "transformations.combine_rotation_interpolations(wingstate_global,\n",
    "    (rotation_x, false),  # X about global axis\n",
    "    (rotation_y, false),  # Y about global axis  \n",
    "    (rotation_z, false);  # Z about global axis\n",
    "    n=100, time=2.0, rate_function=t -> sin(t * pi / 2)\n",
    ")\n",
    "\n"
   ]
  },
  {
   "cell_type": "code",
   "execution_count": 117,
   "id": "3a400031",
   "metadata": {},
   "outputs": [
    {
     "name": "stdout",
     "output_type": "stream",
     "text": [
      "[0.8660254037844387, 0.5, 0.0]"
     ]
    },
    {
     "data": {
      "text/plain": [
       "MeshScatter{Tuple{Vector{Point{3, Float64}}}}"
      ]
     },
     "metadata": {},
     "output_type": "display_data"
    }
   ],
   "source": [
    "p = Point3(1.0, 0.0, 0.0)\n",
    "p_rot = conversions.rotate_vector(p, wingstate_global[].q)  \n",
    "# Rotate point p by rotation_x\n",
    "\n",
    "print(p_rot)\n",
    "meshscatter!(scene_global, Point3(0.0), marker=Arrow(p_rot).mesh, markersize=1.0, color=(:purple, 0.75), transparency=true, )"
   ]
  },
  {
   "cell_type": "markdown",
   "id": "a72a8445",
   "metadata": {},
   "source": [
    "### 2.2 Local XY'Z'' Euler Angle Rotations\n",
    "\n",
    "Local rotations are performed about the **current** local coordinate axes: **R = R_x(α) · R_y'(β) · R_z''(γ)**"
   ]
  },
  {
   "cell_type": "code",
   "execution_count": 119,
   "id": "89e462ad",
   "metadata": {},
   "outputs": [],
   "source": [
    "# Initialize Local XY'Z'' Rotation Scene\n",
    "scene_local = Scene(camera=cam3d!)\n",
    "windowmanager.closeall()\n",
    "windowmanager.display(scene_local; names=[\"Local XY'Z'' Rotations\"])\n",
    "\n",
    "renderer.drawState!(scene_local)\n",
    "\n",
    "# Setup state and wing model\n",
    "wingstate_local = Observable(State())\n",
    "wing_model_local = attach2State(wing_obj, wingstate_local)\n",
    "meshscatter!(scene_local, (0, 0, 0), marker=wing_model_local, markersize=0.0075, color=:gold, transparency=true, alpha=0.5)\n",
    "\n",
    "# Setup vectors\n",
    "attached_vectors_local = renderer.attach2State(vectors2show, wingstate_local)\n",
    "\n",
    "for i in eachindex(attached_vectors_local)\n",
    "    meshscatter!(scene_local, (0, 0, 0), marker=lift(p -> Arrow(p).mesh, attached_vectors_local[i]), markersize=0.75, color=(vectorcolors[i]..., 0.5), transparency=true)\n",
    "end"
   ]
  },
  {
   "cell_type": "code",
   "execution_count": 120,
   "id": "f81aadd3",
   "metadata": {},
   "outputs": [],
   "source": [
    "# Apply Local XY'Z'' Rotations\n",
    "α, β, γ = -π/4, π/6, 0  # -45°, 30°, 0°\n",
    "\n",
    "rotation_x = conversions.axisangle2quat([1, 0, 0], α)\n",
    "rotation_y = conversions.axisangle2quat([0, 1, 0], β)\n",
    "rotation_z = conversions.axisangle2quat([0, 0, 1], γ)\n",
    "\n",
    "# Local rotations: about current local axes (opState=true)\n",
    "transformations.combine_rotation_interpolations(wingstate_local,\n",
    "    (rotation_x, true),   # X about current local axis\n",
    "    (rotation_y, true),   # Y about current local axis\n",
    "    (rotation_z, true);   # Z about current local axis\n",
    "    n=100, time=2.0, rate_function=t -> sin(t * pi / 2)\n",
    ")"
   ]
  },
  {
   "cell_type": "code",
   "execution_count": null,
   "id": "82e79e5d",
   "metadata": {},
   "outputs": [],
   "source": [
    "p = Point3(1.0, 0.0, 0.0)\n",
    "p_rot = conversions.rotate_vector(p, wingstate_local[].q)  \n",
    "# Rotate point p by rotation_x\n",
    "\n",
    "print(p_rot)\n",
    "meshscatter!(scene_global, Point3(0.0), marker=Arrow(p_rot).mesh, markersize=1.0, color=(:purple, 0.75), transparency=true, )"
   ]
  },
  {
   "cell_type": "code",
   "execution_count": 121,
   "id": "a6775272",
   "metadata": {},
   "outputs": [
    {
     "data": {
      "text/plain": [
       "QuaternionF64(0.8923991008325227, -0.36964381061438595, 0.2391176183943344, -0.0990457605412876)"
      ]
     },
     "metadata": {},
     "output_type": "display_data"
    }
   ],
   "source": [
    "wingstate_local[].q"
   ]
  },
  {
   "cell_type": "code",
   "execution_count": null,
   "id": "fafd5a4c",
   "metadata": {},
   "outputs": [],
   "source": []
  },
  {
   "cell_type": "markdown",
   "id": "c73de147",
   "metadata": {},
   "source": [
    "### 2.3 Side-by-Side Comparison: Global vs Local\n",
    "\n",
    "Let's compare both methods side-by-side using the same angles."
   ]
  },
  {
   "cell_type": "code",
   "execution_count": 47,
   "id": "838b625f",
   "metadata": {},
   "outputs": [],
   "source": [
    "# Initialize Side-by-Side Comparison\n",
    "scene_global_comp = Scene(camera=cam3d!)\n",
    "scene_local_comp = Scene(camera=cam3d!)\n",
    "\n",
    "windowmanager.closeall()\n",
    "windowmanager.display(scene_global_comp, scene_local_comp; names=[\"Global XYZ\", \"Local XY'Z''\"])\n",
    "\n",
    "# Setup both scenes\n",
    "for scene in [scene_global_comp, scene_local_comp]\n",
    "    renderer.drawState!(scene)\n",
    "end\n",
    "\n",
    "# Global scene setup\n",
    "wingstate_global_comp = Observable(State())\n",
    "wing_model_global_comp = attach2State(wing_obj, wingstate_global_comp)\n",
    "meshscatter!(scene_global_comp, (0, 0, 0), marker=wing_model_global_comp, markersize=0.0075, color=:gold, transparency=true, alpha=0.5)\n",
    "attached_vectors_global_comp = renderer.attach2State(vectors2show, wingstate_global_comp)\n",
    "for i in eachindex(attached_vectors_global_comp)\n",
    "    meshscatter!(scene_global_comp, (0, 0, 0), marker=lift(p -> Arrow(p).mesh, attached_vectors_global_comp[i]), markersize=0.75, color=(vectorcolors[i]..., 0.5), transparency=true)\n",
    "end\n",
    "\n",
    "# Local scene setup\n",
    "wingstate_local_comp = Observable(State())\n",
    "wing_model_local_comp = attach2State(wing_obj, wingstate_local_comp)\n",
    "meshscatter!(scene_local_comp, (0, 0, 0), marker=wing_model_local_comp, markersize=0.0075, color=:gold, transparency=true, alpha=0.5)\n",
    "attached_vectors_local_comp = renderer.attach2State(vectors2show, wingstate_local_comp)\n",
    "for i in eachindex(attached_vectors_local_comp)\n",
    "    meshscatter!(scene_local_comp, (0, 0, 0), marker=lift(p -> Arrow(p).mesh, attached_vectors_local_comp[i]), markersize=0.75, color=(vectorcolors[i]..., 0.5), transparency=true)\n",
    "end"
   ]
  },
  {
   "cell_type": "code",
   "execution_count": 49,
   "id": "020867b2",
   "metadata": {},
   "outputs": [
    {
     "data": {
      "text/plain": [
       "Task (runnable, started) @0x000001dac3b87840"
      ]
     },
     "metadata": {},
     "output_type": "display_data"
    }
   ],
   "source": [
    "# Apply Rotations Side-by-Side\n",
    "α, β, γ = π/4, π/6, π/3  # 45°, 30°, 60°\n",
    "\n",
    "rotation_x = conversions.axisangle2quat([1, 0, 0], α)\n",
    "rotation_y = conversions.axisangle2quat([0, 1, 0], β)\n",
    "rotation_z = conversions.axisangle2quat([0, 0, 1], γ)\n",
    "\n",
    "# Run both simultaneously - same total time (6 seconds)\n",
    "@async transformations.combine_rotation_interpolations(wingstate_global_comp,\n",
    "    (rotation_x, false), (rotation_y, false), (rotation_z, false);\n",
    "    n=100, time=2.0, rate_function=t -> sin(t * pi / 2)\n",
    ")\n",
    "\n",
    "@async transformations.combine_rotation_interpolations(wingstate_local_comp,\n",
    "    (rotation_x, true), (rotation_y, true), (rotation_z, true);\n",
    "    n=100, time=2.0, rate_function=t -> sin(t * pi / 2)\n",
    ")"
   ]
  },
  {
   "cell_type": "markdown",
   "id": "379135ef",
   "metadata": {},
   "source": [
    "### 2.4 The Non-Linearity Problem\n",
    "\n",
    "**Problem**: Euler angles don't add simply! \n",
    "Rotating by (α,β,γ) then by (a,b,c) ≠ rotating by (α+a, β+b, γ+c)\n",
    "\n",
    "Let's demonstrate this fundamental limitation:"
   ]
  },
  {
   "cell_type": "code",
   "execution_count": null,
   "id": "7cd14368",
   "metadata": {},
   "outputs": [],
   "source": [
    "# Initialize Non-Linearity Demonstration\n",
    "scene_wrong = Scene(camera=cam3d!)\n",
    "scene_correct = Scene(camera=cam3d!)\n",
    "\n",
    "windowmanager.closeall()\n",
    "windowmanager.display(scene_wrong, scene_correct; names=[\"Simple Addition\", \"Sequential Application\"])\n",
    "\n",
    "# Setup both scenes\n",
    "for scene in [scene_wrong, scene_correct]\n",
    "    renderer.drawState!(scene)\n",
    "end\n",
    "\n",
    "# Wrong method scene\n",
    "wingstate_wrong = Observable(State())\n",
    "wing_model_wrong = attach2State(wing_obj, wingstate_wrong)\n",
    "meshscatter!(scene_wrong, (0, 0, 0), marker=wing_model_wrong, markersize=0.0075, color=:gold, transparency=true, alpha=0.5)\n",
    "attached_vectors_wrong = renderer.attach2State(vectors2show, wingstate_wrong)\n",
    "for i in eachindex(attached_vectors_wrong)\n",
    "    meshscatter!(scene_wrong, (0, 0, 0), marker=lift(p -> Arrow(p).mesh, attached_vectors_wrong[i]), markersize=0.75, color=(vectorcolors[i]..., 0.5), transparency=true)\n",
    "end\n",
    "\n",
    "# Correct method scene\n",
    "wingstate_correct = Observable(State())\n",
    "wing_model_correct = attach2State(wing_obj, wingstate_correct)\n",
    "meshscatter!(scene_correct, (0, 0, 0), marker=wing_model_correct, markersize=0.0075, color=:gold, transparency=true, alpha=0.5)\n",
    "attached_vectors_correct = renderer.attach2State(vectors2show, wingstate_correct)\n",
    "for i in eachindex(attached_vectors_correct)\n",
    "    meshscatter!(scene_correct, (0, 0, 0), marker=lift(p -> Arrow(p).mesh, attached_vectors_correct[i]), markersize=0.75, color=(vectorcolors[i]..., 0.5), transparency=true)\n",
    "end"
   ]
  },
  {
   "cell_type": "code",
   "execution_count": 54,
   "id": "f78ed90b",
   "metadata": {},
   "outputs": [
    {
     "data": {
      "text/plain": [
       "Task (runnable, started) @0x000001dac3b849c0"
      ]
     },
     "metadata": {},
     "output_type": "display_data"
    }
   ],
   "source": [
    "# Demonstrate Wrong vs Correct Rotation Composition\n",
    "α₁, β₁, γ₁ = π/6, π/4, π/3   # First: 30°, 45°, 60°\n",
    "a, b, c = π/10, π/10, π/10      # Second: 45°, 30°, 45°\n",
    "# a,b,c=0.0,0.0,0.0\n",
    "\n",
    "# WRONG: Simple addition of angles\n",
    "α_wrong = α₁ + a  # 75°\n",
    "β_wrong = β₁ + b  # 75°\n",
    "γ_wrong = γ₁ + c  # 105°\n",
    "\n",
    "rot_x_wrong = conversions.axisangle2quat([1, 0, 0], α_wrong)\n",
    "rot_y_wrong = conversions.axisangle2quat([0, 1, 0], β_wrong)\n",
    "rot_z_wrong = conversions.axisangle2quat([0, 0, 1], γ_wrong)\n",
    "\n",
    "# CORRECT: Sequential application\n",
    "rot1_x = conversions.axisangle2quat([1, 0, 0], α₁)\n",
    "rot1_y = conversions.axisangle2quat([0, 1, 0], β₁)\n",
    "rot1_z = conversions.axisangle2quat([0, 0, 1], γ₁)\n",
    "rot2_x = conversions.axisangle2quat([1, 0, 0], a)\n",
    "rot2_y = conversions.axisangle2quat([0, 1, 0], b)\n",
    "rot2_z = conversions.axisangle2quat([0, 0, 1], c)\n",
    "\n",
    "# Execute both - same total time (12 seconds)\n",
    "@async transformations.combine_rotation_interpolations(wingstate_wrong,\n",
    "    (rot_x_wrong, false), (rot_y_wrong, false), (rot_z_wrong, false);\n",
    "    n=100, time=2.0, rate_function=t -> sin(t * pi / 2)\n",
    ")\n",
    "\n",
    "@async transformations.combine_rotation_interpolations(wingstate_correct,\n",
    "    (rot1_x, false), (rot1_y, false), (rot1_z, false),\n",
    "    (rot2_x, false), (rot2_y, false), (rot2_z, false);\n",
    "    n=100, time=2.0, rate_function=t -> sin(t * pi / 2)\n",
    ")"
   ]
  },
  {
   "cell_type": "code",
   "execution_count": 58,
   "id": "883529c4",
   "metadata": {},
   "outputs": [
    {
     "data": {
      "text/plain": [
       "Task (runnable, started) @0x000001dac3b85180"
      ]
     },
     "metadata": {},
     "output_type": "display_data"
    }
   ],
   "source": [
    "# Superimposed Comparison\n",
    "scene_superimposed = Scene(camera=cam3d!)\n",
    "windowmanager.closeall()\n",
    "windowmanager.display(scene_superimposed; names=[\"Superimposed: Red=Simple Addition, Green=Combination\"])\n",
    "\n",
    "renderer.drawState!(scene_superimposed)\n",
    "\n",
    "# Red vectors for wrong method\n",
    "wingstate_super_wrong = Observable(State())\n",
    "wing_model_super_wrong = attach2State(wing_obj, wingstate_super_wrong)\n",
    "meshscatter!(scene_superimposed, (0, 0, 0), marker=wing_model_super_wrong, markersize=0.0075, color=:red, transparency=true, alpha=0.3)\n",
    "attached_vectors_super_wrong = renderer.attach2State(vectors2show, wingstate_super_wrong)\n",
    "for i in eachindex(attached_vectors_super_wrong)\n",
    "    meshscatter!(scene_superimposed, (0, 0, 0), marker=lift(p -> Arrow(p).mesh, attached_vectors_super_wrong[i]), markersize=0.75, color=(1.0, 0.2, 0.2, 0.6), transparency=true)\n",
    "end\n",
    "\n",
    "# Green vectors for correct method\n",
    "wingstate_super_correct = Observable(State())\n",
    "wing_model_super_correct = attach2State(wing_obj, wingstate_super_correct)\n",
    "meshscatter!(scene_superimposed, (0, 0, 0), marker=wing_model_super_correct, markersize=0.0075, color=:green, transparency=true, alpha=0.3)\n",
    "attached_vectors_super_correct = renderer.attach2State(vectors2show, wingstate_super_correct)\n",
    "for i in eachindex(attached_vectors_super_correct)\n",
    "    meshscatter!(scene_superimposed, (0, 0, 0), marker=lift(p -> Arrow(p).mesh, attached_vectors_super_correct[i]), markersize=0.75, color=(0.2, 1.0, 0.2, 0.6), transparency=true)\n",
    "end\n",
    "\n",
    "sleep(5.0)\n",
    "\n",
    "# Execute superimposed demonstration - same total time\n",
    "@async transformations.combine_rotation_interpolations(wingstate_super_wrong,\n",
    "    (rot_x_wrong, false), (rot_y_wrong, false), (rot_z_wrong, false);\n",
    "    n=100, time=2.0, rate_function=t -> sin(t * pi / 2)\n",
    ")\n",
    "\n",
    "@async transformations.combine_rotation_interpolations(wingstate_super_correct,\n",
    "    (rot1_x, false), (rot1_y, false), (rot1_z, false),\n",
    "    (rot2_x, false), (rot2_y, false), (rot2_z, false);\n",
    "    n=100, time=2.0, rate_function=t -> sin(t * pi / 2)\n",
    ")"
   ]
  },
  {
   "cell_type": "markdown",
   "id": "3ab19c09",
   "metadata": {},
   "source": [
    "### 2.5 The Reset Workaround\n",
    "\n",
    "Since Euler angles don't compose simply, a common workaround is to **reset to zero** before applying new rotations."
   ]
  },
  {
   "cell_type": "code",
   "execution_count": 69,
   "id": "0c644843",
   "metadata": {},
   "outputs": [],
   "source": [
    "# Initialize Reset Demonstration\n",
    "scene_reset = Scene(camera=cam3d!)\n",
    "windowmanager.closeall()\n",
    "windowmanager.display(scene_reset; names=[\"Reset-Then-Apply Method\"])\n",
    "\n",
    "renderer.drawState!(scene_reset)\n",
    "\n",
    "wingstate_reset = Observable(State())\n",
    "wing_model_reset = attach2State(wing_obj, wingstate_reset)\n",
    "meshscatter!(scene_reset, (0, 0, 0), marker=wing_model_reset, markersize=0.0075, color=:gold, transparency=true, alpha=0.5)\n",
    "attached_vectors_reset = renderer.attach2State(vectors2show, wingstate_reset)\n",
    "for i in eachindex(attached_vectors_reset)\n",
    "    meshscatter!(scene_reset, (0, 0, 0), marker=lift(p -> Arrow(p).mesh, attached_vectors_reset[i]), markersize=0.75, color=(vectorcolors[i]..., 0.5), transparency=true)\n",
    "end\n",
    "\n",
    "\n",
    "# Reset Demonstration\n",
    "α₁, β₁, γ₁ = π/6, π/4, π/3   # First: 30°, 45°, 60°\n",
    "a, b, c = π/4, π/6, π/4      # Second: 45°, 30°, 45°\n",
    "\n",
    "# Target: combined result (α₁+a, β₁+b, γ₁+c)\n",
    "α_target = α₁ + a\n",
    "β_target = β₁ + b  \n",
    "γ_target = γ₁ + c\n",
    "\n",
    "rot1_x = conversions.axisangle2quat([1, 0, 0], α₁)\n",
    "rot1_y = conversions.axisangle2quat([0, 1, 0], β₁)\n",
    "rot1_z = conversions.axisangle2quat([0, 0, 1], γ₁)\n",
    "\n",
    "rot_target_x = conversions.axisangle2quat([1, 0, 0], α_target)\n",
    "rot_target_y = conversions.axisangle2quat([0, 1, 0], β_target)\n",
    "rot_target_z = conversions.axisangle2quat([0, 0, 1], γ_target)\n",
    "\n",
    "\n",
    "# Apply first rotation\n",
    "transformations.combine_rotation_interpolations(wingstate_reset,\n",
    "    (rot1_x, false), (rot1_y, false), (rot1_z, false);\n",
    "    n=100, time=1.0, rate_function=t -> sin(t * pi / 2)\n",
    ")\n",
    "\n",
    "sleep(7.0)\n",
    "\n",
    "# --- Add ghost for the target state ---\n",
    "target_quat = rot_target_z * rot_target_y * rot_target_x\n",
    "ghost_vectors = renderer.attach2State(vectors2show, Observable(State(target_quat)))\n",
    "for i in eachindex(ghost_vectors)\n",
    "    meshscatter!(scene_reset, (0, 0, 0), marker=lift(p -> Arrow(p).mesh, ghost_vectors[i]),\n",
    "        markersize=0.75, color=(custom_vector_colors[i]..., 0.2), transparency=true)\n",
    "end\n",
    "ghost_wing = attach2State(wing_obj, Observable(State(target_quat)))\n",
    "meshscatter!(scene_reset, (0, 0, 0), marker=ghost_wing, markersize=0.0075, color=:gold, transparency=true, alpha=0.20)\n",
    "\n",
    "# --- End ghost ---\n",
    "\n",
    "sleep(3.0)\n",
    "# Reset to zero (discontinuous!)\n",
    "transformations.interpolate_states(wingstate_reset, State(); n=50, time=1.0, rate_function=t -> sin(t * pi / 2))\n",
    "\n",
    "\n",
    "sleep(5.0)\n",
    "\n",
    "# Apply target rotation\n",
    "transformations.combine_rotation_interpolations(wingstate_reset,\n",
    "    (rot_target_x, false), (rot_target_y, false), (rot_target_z, false);\n",
    "    n=100, time=2.0, rate_function=t -> sin(t * pi / 2)\n",
    ")"
   ]
  },
  {
   "cell_type": "markdown",
   "id": "73c9d0bf",
   "metadata": {},
   "source": [
    "#### The Problem\n",
    "\n",
    "The fundamental issue with Euler angle rotations is that they are **order-dependent** and **nonlinear**. In the XYZ convention, a rotation is defined as a sequence: first about the global X-axis by $\\alpha$, then about the global Y-axis by $\\beta$, and finally about the global Z-axis by $\\gamma$.\n",
    "\n",
    "Suppose you perform a rotation by $(\\alpha, \\beta, \\gamma)$ (i.e., $\\alpha$ about X, $\\beta$ about Y, $\\gamma$ about Z), and then perform another rotation by $(a, b, c)$ (i.e., $a$ about X, $b$ about Y, $c$ about Z). This sequence is **not** equivalent to a single rotation by $(\\alpha+a,\\, \\beta+b,\\, \\gamma+c)$.\n",
    "\n",
    "Mathematically, if we denote the composite rotation as:\n",
    "$$\n",
    "\\text{Composite}(X, \\alpha;\\ Y, \\beta;\\ Z, \\gamma)\n",
    "$$\n",
    "then applying two such sequences in order gives:\n",
    "$$\n",
    "\\text{Composite}(X, \\alpha;\\ Y, \\beta;\\ Z, \\gamma;\\ X, a;\\ Y, b;\\ Z, c) \\neq \\text{Composite}(X, \\alpha+a;\\ Y, \\beta+b;\\ Z, \\gamma+c)\n",
    "$$\n",
    "\n",
    "This is because the axes themselves are rotated after each step, so subsequent rotations are about **different axes** than the originals. The composition of rotations is **not additive** in Euler angles.\n",
    "\n",
    "In summary:  \n",
    "- **Euler angle rotations are not linear or additive.**\n",
    "- **The order and grouping of rotations fundamentally change the result.**\n",
    "- **Matrix and quaternion multiplication compose rotations correctly, but Euler angles do not.**\n",
    "\n",
    "(More formally, the mapping from Euler angles to rotation matrices is nonlinear and non-commutative, so the sum of angles does not correspond to the product of rotations.)"
   ]
  },
  {
   "cell_type": "markdown",
   "id": "0e195a37",
   "metadata": {},
   "source": [
    "## Step 3. Quaternions: The Superior Solution\n",
    "\n",
    "### 3.1 Quaternion Incremental Rotations\n",
    "\n",
    "With quaternions, incremental rotations are simple: **q\\* = q₁ · q₀⁻¹**\n",
    "\n",
    "Suppose you have an initial orientation represented by quaternion **q₀**, and you want to reach a new orientation **q₁**. The question is:  \n",
    "**What quaternion q\\*** should you apply to **q₀** so that you arrive at **q₁**?\n",
    "\n",
    "Mathematically, we want:\n",
    "  \n",
    "$$\n",
    "q^* \\cdot q_0 = q_1\n",
    "$$\n",
    "\n",
    "To solve for **q\\***, multiply both sides by the inverse of **q₀**:\n",
    "\n",
    "$$\n",
    "q^* = q_1 \\cdot q_0^{-1}\n",
    "$$\n",
    "\n",
    "For unit quaternions (which represent rotations), the inverse is just the conjugate:\n",
    "\n",
    "$$\n",
    "q_0^{-1} = \\overline{q_0}\n",
    "$$\n",
    "\n",
    "So the incremental quaternion is:\n",
    "\n",
    "$$\n",
    "q^* = q_1 \\cdot \\overline{q_0}\n",
    "$$\n",
    "\n",
    "This means you can smoothly interpolate or \"step\" from **q₀** to **q₁** by applying **q\\***, without any need to reset or decompose into Euler angles. This property is one of the main reasons quaternions are so powerful for representing and composing 3D rotations."
   ]
  },
  {
   "cell_type": "code",
   "execution_count": 73,
   "id": "8f570ab0",
   "metadata": {},
   "outputs": [
    {
     "name": "stdout",
     "output_type": "stream",
     "text": [
      "Current quaternion: QuaternionF64(0.8223631719059993, 0.022260026714733844, 0.4396797395409095, 0.3604234056503559)\n",
      "Target quaternion: QuaternionF64(0.4541846553482916, 0.24547479893520385, 0.5926285888101774, 0.6182635179749265)\n",
      "Incremental quaternion q*: QuaternionF64(0.8623724356957945, 0.25, 0.3623724356957945, 0.24999999999999994)\n"
     ]
    }
   ],
   "source": [
    "# Initialize Quaternion Incremental Rotation Demonstration\n",
    "scene_quat_inc = Scene(camera=cam3d!)\n",
    "windowmanager.closeall()\n",
    "windowmanager.display(scene_quat_inc; names=[\"Quaternion Incremental Rotation\"])\n",
    "\n",
    "renderer.drawState!(scene_quat_inc)\n",
    "\n",
    "wingstate_quat_inc = Observable(State())\n",
    "wing_model_quat_inc = attach2State(wing_obj, wingstate_quat_inc)\n",
    "meshscatter!(scene_quat_inc, (0, 0, 0), marker=wing_model_quat_inc, markersize=0.0075, color=:gold, transparency=true, alpha=0.5)\n",
    "attached_vectors_quat_inc = renderer.attach2State(vectors2show, wingstate_quat_inc)\n",
    "for i in eachindex(attached_vectors_quat_inc)\n",
    "    meshscatter!(scene_quat_inc, (0, 0, 0), marker=lift(p -> Arrow(p).mesh, attached_vectors_quat_inc[i]), markersize=0.75, color=(vectorcolors[i]..., 0.5), transparency=true)\n",
    "end\n",
    "\n",
    "# Quaternion Incremental Rotation Demonstration\n",
    "α₁, β₁, γ₁ = π/6, π/4, π/3   # First: 30°, 45°, 60°\n",
    "a, b, c = π/4, π/6, π/4      # Second: 45°, 30°, 45°\n",
    "\n",
    "# First rotation\n",
    "rot1_x = conversions.axisangle2quat([1, 0, 0], α₁)\n",
    "rot1_y = conversions.axisangle2quat([0, 1, 0], β₁)\n",
    "rot1_z = conversions.axisangle2quat([0, 0, 1], γ₁)\n",
    "q1 = rot1_z * rot1_y * rot1_x\n",
    "\n",
    "# Second rotation\n",
    "rot2_x = conversions.axisangle2quat([1, 0, 0], a)\n",
    "rot2_y = conversions.axisangle2quat([0, 1, 0], b)\n",
    "rot2_z = conversions.axisangle2quat([0, 0, 1], c)\n",
    "q2 = rot2_z * rot2_y * rot2_x\n",
    "\n",
    "# Final combined quaternion\n",
    "q_final = q2 * q1\n",
    "\n",
    "sleep(2.0)\n",
    "\n",
    "# Apply first rotation\n",
    "transformations.interpolate_states(wingstate_quat_inc, State(q1); n=100, time=2.0, rate_function=t -> sin(t * pi / 2))\n",
    "\n",
    "sleep(2.5)\n",
    "\n",
    "# --- Add ghost for the target state ---\n",
    "ghost_vectors = renderer.attach2State(vectors2show, Observable(State(q_final)))\n",
    "for i in eachindex(ghost_vectors)\n",
    "    meshscatter!(scene_quat_inc, (0, 0, 0), marker=lift(p -> Arrow(p).mesh, ghost_vectors[i]),\n",
    "        markersize=0.75, color=(custom_vector_colors[i]..., 0.2), transparency=true)\n",
    "end\n",
    "ghost_wing = attach2State(wing_obj, Observable(State(q_final)))\n",
    "meshscatter!(scene_quat_inc, (0, 0, 0), marker=ghost_wing, markersize=0.0075, color=:gold, transparency=true, alpha=0.20)\n",
    "# --- End ghost ---\n",
    "\n",
    "sleep(2.0)\n",
    "\n",
    "# Calculate incremental quaternion: q* = q_final * inv(q_current)\n",
    "q_current = wingstate_quat_inc[].q\n",
    "q_star = q_final * inv(q_current)\n",
    "\n",
    "println(\"Current quaternion: $q_current\")\n",
    "println(\"Target quaternion: $q_final\") \n",
    "println(\"Incremental quaternion q*: $q_star\")\n",
    "\n",
    "# Apply incremental rotation (NO RESET!)\n",
    "transformations.interpolate_states(wingstate_quat_inc, State(q_final); n=100, time=2.0, rate_function=t -> sin(t * pi / 2))"
   ]
  },
  {
   "cell_type": "markdown",
   "id": "36ea2eee",
   "metadata": {},
   "source": [
    "### 3.2 Advanced Euler Angle Factorization Solution\n",
    "\n",
    "Using quaternions and matrix decomposition, we can achieve incremental Euler rotations without reset.\n",
    "\n",
    "Computing Euler angles from a rotation matrix\n",
    "Gregory G. Slabaugh\n",
    "https://eecs.qmul.ac.uk/~gslabaugh/publications/euler.pdf"
   ]
  },
  {
   "cell_type": "code",
   "execution_count": 97,
   "id": "bcd206a5",
   "metadata": {},
   "outputs": [
    {
     "name": "stdout",
     "output_type": "stream",
     "text": [
      "Current quaternion: QuaternionF64(1.0, 0.0, 0.0, 0.0)\n",
      "Target quaternion: QuaternionF64(0.7865660924854931, 0.4330127018922193, 0.07945931129894551, 0.43301270189221935)\n",
      "Incremental quaternion q*: QuaternionF64(0.7865660924854931, 0.4330127018922193, 0.07945931129894551, 0.43301270189221935)\n",
      "Incremental Euler angles (factorized): φ=0.7853981633974483 (X), θ=0.5235987755982988 (Y), ψ=0.7853981633974485 (Z)\n",
      "Final Euler state approx q_final? true\n"
     ]
    }
   ],
   "source": [
    "# Define the Euler angle extraction function\n",
    "function euler_angles_xyz(R::AbstractMatrix{<:Real})\n",
    "    a11, a12, a13 = R[1,1], R[1,2], R[1,3]\n",
    "    a21, a22, a23 = R[2,1], R[2,2], R[2,3]\n",
    "    a31, a32, a33 = R[3,1], R[3,2], R[3,3]\n",
    "\n",
    "    if abs(a13) != 1\n",
    "        θ = asin(a13)\n",
    "        φ = atan(-a23, a33)\n",
    "        ψ = atan(-a12, a11)\n",
    "    elseif a13 == 1\n",
    "        θ = π/2\n",
    "        φ = atan(a21, a22)\n",
    "        ψ = 0  # Arbitrary; we pick 0\n",
    "    elseif a13 == -1\n",
    "        θ = -π/2\n",
    "        φ = atan(-a21, -a22)\n",
    "        ψ = 0  # Arbitrary; we pick 0\n",
    "    end\n",
    "\n",
    "    return φ, θ, ψ  # Local XYZ angles: φ (X/roll), θ (Y/pitch), ψ (Z/yaw)\n",
    "end\n",
    "\n",
    "# Initialize Euler Incremental Rotation Demonstration (Extension for Advanced Euler Angle Factorization)\n",
    "scene_euler_inc = Scene(camera=cam3d!)\n",
    "windowmanager.closeall()\n",
    "windowmanager.display(scene_quat_inc, scene_euler_inc; names=[\"Quaternion Incremental Rotation\", \"Euler Angle Factorization Incremental (local XYZ)\"])\n",
    "\n",
    "renderer.drawState!(scene_euler_inc)\n",
    "\n",
    "wingstate_euler_inc = Observable(State())\n",
    "wing_model_euler_inc = attach2State(wing_obj, wingstate_euler_inc)\n",
    "meshscatter!(scene_euler_inc, (0, 0, 0), marker=wing_model_euler_inc, markersize=0.0075, color=:gold, transparency=true, alpha=0.5)\n",
    "attached_vectors_euler_inc = renderer.attach2State(vectors2show, wingstate_euler_inc)\n",
    "for i in eachindex(attached_vectors_euler_inc)\n",
    "    meshscatter!(scene_euler_inc, (0, 0, 0), marker=lift(p -> Arrow(p).mesh, attached_vectors_euler_inc[i]), markersize=0.75, color=(vectorcolors[i]..., 0.5), transparency=true)\n",
    "end\n",
    "\n",
    "# Euler Incremental Rotation Demonstration using Factorization\n",
    "α₁, β₁, γ₁ = 0*π/6, 0*π/4, 0*π/3   # First: 30°, 45°, 60°\n",
    "a, b, c = π/4, π/6, π/4      # Second: 45°, 30°, 45°\n",
    "\n",
    "# First rotation quaternions (for composition reference)\n",
    "rot1_x = conversions.axisangle2quat([1, 0, 0], α₁)\n",
    "rot1_y = conversions.axisangle2quat([0, 1, 0], β₁)\n",
    "rot1_z = conversions.axisangle2quat([0, 0, 1], γ₁)\n",
    "q1 = rot1_x * rot1_y * rot1_z\n",
    "\n",
    "# Second rotation quaternions\n",
    "rot2_x = conversions.axisangle2quat([1, 0, 0], a)\n",
    "rot2_y = conversions.axisangle2quat([0, 1, 0], b)\n",
    "rot2_z = conversions.axisangle2quat([0, 0, 1], c)\n",
    "q2 = rot2_x * rot2_y * rot2_z\n",
    "\n",
    "# Final combined quaternion\n",
    "q_final = q2*q1\n",
    "\n",
    "sleep(2.0)\n",
    "\n",
    "# Apply first rotation using sequential local XYZ Euler interpolations (intrinsic)\n",
    "transformations.combine_rotation_interpolations(wingstate_euler_inc, \n",
    "    (rot1_x, true),  # Rotate around x-axis in local frame\n",
    "    (rot1_y, true),  # Rotate around y-axis in local frame\n",
    "    (rot1_z, true);  # Rotate around z-axis in local frame\n",
    "    n=100, time=2.0, rate_function=t -> sin(t * pi / 2)\n",
    ")\n",
    "\n",
    "sleep(2.5)\n",
    "\n",
    "# --- Add ghost for the target state ---\n",
    "ghost_vectors = renderer.attach2State(vectors2show, Observable(State(q_final)))\n",
    "for i in eachindex(ghost_vectors)\n",
    "    meshscatter!(scene_euler_inc, (0, 0, 0), marker=lift(p -> Arrow(p).mesh, ghost_vectors[i]),\n",
    "        markersize=0.75, color=(custom_vector_colors[i]..., 0.2), transparency=true)\n",
    "end\n",
    "ghost_wing = attach2State(wing_obj, Observable(State(q_final)))\n",
    "meshscatter!(scene_euler_inc, (0, 0, 0), marker=ghost_wing, markersize=0.0075, color=:gold, transparency=true, alpha=0.20)\n",
    "# --- End ghost ---\n",
    "\n",
    "sleep(2.0)\n",
    "\n",
    "# Advanced Euler Angle Factorization for Incremental Rotation (without reset)\n",
    "q_current = wingstate_euler_inc[].q\n",
    "q_star = q_final * inv(q_current)\n",
    "\n",
    "println(\"Current quaternion: $q_current\")\n",
    "println(\"Target quaternion: $q_final\") \n",
    "println(\"Incremental quaternion q*: $q_star\")\n",
    "\n",
    "# Decompose the incremental quaternion into local XYZ Euler angles\n",
    "R_star = conversions.quat2rotmatrix(q_star)\n",
    "delta_φ, delta_θ, delta_ψ = euler_angles_xyz(R_star)\n",
    "\n",
    "println(\"Incremental Euler angles (factorized): φ=$delta_φ (X), θ=$delta_θ (Y), ψ=$delta_ψ (Z)\")\n",
    "\n",
    "# Apply the factorized incremental Euler rotations sequentially in local frame (NO RESET!)\n",
    "transformations.combine_rotation_interpolations(wingstate_euler_inc, \n",
    "    (conversions.axisangle2quat([1, 0, 0], delta_φ), true),   # Incremental X rotation\n",
    "    (conversions.axisangle2quat([0, 1, 0], delta_θ), true),   # Incremental Y rotation\n",
    "    (conversions.axisangle2quat([0, 0, 1], delta_ψ), true);   # Incremental Z rotation\n",
    "    n=100, time=2.0, rate_function=t -> sin(t * pi / 2)\n",
    ")\n",
    "\n",
    "# Optional: Verify final state matches target\n",
    "sleep(2.5)\n",
    "println(\"Final Euler state approx q_final? \", isapprox(wingstate_euler_inc[].q, q_final, atol=1e-10))"
   ]
  },
  {
   "cell_type": "markdown",
   "id": "8737cc3a",
   "metadata": {},
   "source": [
    "## Conclusion: Why Quaternions?\n",
    "\n",
    "### Problems with Euler Angles:\n",
    "1. **Non-linearity**: (α+a, β+b, γ+c) ≠ proper rotation composition\n",
    "2. **Gimbal Lock**: Loss of degrees of freedom at certain orientations\n",
    "3. **Discontinuous interpolation**: Poor for animation and control\n",
    "4. **Reset requirement**: Often need to reset to zero for new rotations\n",
    "\n",
    "### Advantages of Quaternions:\n",
    "1. **Simple composition**: q₂ · q₁ naturally represents sequential rotations\n",
    "2. **Smooth interpolation**: SLERP provides optimal rotation paths  \n",
    "3. **No singularities**: No gimbal lock issues\n",
    "4. **Incremental rotations**: q* = q₁ · q₀⁻¹ makes incremental changes trivial\n",
    "5. **Efficient computation**: Fast multiplication and conjugation\n",
    "\n",
    "**For any application requiring smooth rotation control, quaternions are superior!**"
   ]
  }
 ],
 "metadata": {
  "kernelspec": {
   "display_name": "Julia 1.11.5",
   "language": "julia",
   "name": "julia-1.11"
  },
  "language_info": {
   "file_extension": ".jl",
   "mimetype": "application/julia",
   "name": "julia",
   "version": "1.11.5"
  }
 },
 "nbformat": 4,
 "nbformat_minor": 5
}
